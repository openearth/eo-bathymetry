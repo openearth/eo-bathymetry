{
 "cells": [
  {
   "cell_type": "code",
   "execution_count": 2,
   "metadata": {},
   "outputs": [
    {
     "name": "stderr",
     "output_type": "stream",
     "text": [
      "C:\\Users\\kras\\AppData\\Local\\Temp\\ipykernel_12352\\163438947.py:10: UserWarning: Shapely 2.0 is installed, but because PyGEOS is also installed, GeoPandas will still use PyGEOS by default for now. To force to use and test Shapely 2.0, you have to set the environment variable USE_PYGEOS=0. You can do this before starting the Python process, or in your code before importing geopandas:\n",
      "\n",
      "import os\n",
      "os.environ['USE_PYGEOS'] = '0'\n",
      "import geopandas\n",
      "\n",
      "In a future release, GeoPandas will switch to using Shapely by default. If you are using PyGEOS directly (calling PyGEOS functions on geometries from GeoPandas), this will then stop working and you are encouraged to migrate from PyGEOS to Shapely 2.0 (https://shapely.readthedocs.io/en/latest/migration_pygeos.html).\n",
      "  import geopandas as gpd\n"
     ]
    }
   ],
   "source": [
    "# -*- coding: utf-8 -*-\n",
    "\"\"\"\n",
    "@author: Etienne Kras\n",
    "\"\"\"\n",
    "\n",
    "# generic imports\n",
    "import sys\n",
    "import os\n",
    "import numpy as np\n",
    "import geopandas as gpd\n",
    "import time\n",
    "import geemap\n",
    "import geojson\n",
    "import ee\n",
    "import rioxarray as rxr\n",
    "import matplotlib.pyplot as plt\n",
    "ee.Initialize()\n",
    "\n",
    "# specific imports\n",
    "from typing import Any, Dict, List, Optional\n",
    "from geojson import Feature, FeatureCollection, dump\n",
    "from shapely.geometry import Polygon, MultiPolygon, shape\n",
    "from dateutil.relativedelta import *\n",
    "from google.cloud import storage\n",
    "from logging import Logger, getLogger\n",
    "from googleapiclient.discovery import build\n",
    "from re import sub\n",
    "from ctypes import ArgumentError\n",
    "from functools import partial\n",
    "from dateutil.parser import parse\n",
    "\n",
    "# custom functionality import without requirement to pip install package\n",
    "local_path = r\"C:\\Users\\kras\\Documents\\GitHub\\ee-packages-py\"  # path to local GitHub clone\n",
    "sys.path.append(local_path)\n",
    "from eepackages.applications.bathymetry import Bathymetry\n",
    "from eepackages import tiler\n",
    "\n",
    "logger: Logger = getLogger(__name__)"
   ]
  },
  {
   "cell_type": "code",
   "execution_count": 3,
   "metadata": {},
   "outputs": [
    {
     "data": {
      "text/html": [
       "\n",
       "            <style>\n",
       "                .geemap-dark {\n",
       "                    --jp-widgets-color: white;\n",
       "                    --jp-widgets-label-color: white;\n",
       "                    --jp-ui-font-color1: white;\n",
       "                    --jp-layout-color2: #454545;\n",
       "                    background-color: #383838;\n",
       "                }\n",
       "                    \n",
       "                .geemap-dark .jupyter-button {\n",
       "                    --jp-layout-color3: #383838;\n",
       "                }\n",
       "                \n",
       "                .geemap-colab {\n",
       "                    background-color: var(--colab-primary-surface-color, white);\n",
       "                }\n",
       "                    \n",
       "                .geemap-colab .jupyter-button {\n",
       "                    --jp-layout-color3: var(--colab-primary-surface-color, white);\n",
       "                }\n",
       "            </style>\n",
       "            "
      ],
      "text/plain": [
       "<IPython.core.display.HTML object>"
      ]
     },
     "metadata": {},
     "output_type": "display_data"
    }
   ],
   "source": [
    "# TODO: validate the output on in-situ data"
   ]
  },
  {
   "cell_type": "markdown",
   "metadata": {},
   "source": [
    "# Project specific toggles"
   ]
  },
  {
   "cell_type": "code",
   "execution_count": 4,
   "metadata": {},
   "outputs": [
    {
     "data": {
      "text/html": [
       "\n",
       "            <style>\n",
       "                .geemap-dark {\n",
       "                    --jp-widgets-color: white;\n",
       "                    --jp-widgets-label-color: white;\n",
       "                    --jp-ui-font-color1: white;\n",
       "                    --jp-layout-color2: #454545;\n",
       "                    background-color: #383838;\n",
       "                }\n",
       "                    \n",
       "                .geemap-dark .jupyter-button {\n",
       "                    --jp-layout-color3: #383838;\n",
       "                }\n",
       "                \n",
       "                .geemap-colab {\n",
       "                    background-color: var(--colab-primary-surface-color, white);\n",
       "                }\n",
       "                    \n",
       "                .geemap-colab .jupyter-button {\n",
       "                    --jp-layout-color3: var(--colab-primary-surface-color, white);\n",
       "                }\n",
       "            </style>\n",
       "            "
      ],
      "text/plain": [
       "<IPython.core.display.HTML object>"
      ]
     },
     "metadata": {},
     "output_type": "display_data"
    }
   ],
   "source": [
    "# acknowledgements & code references:\n",
    "# https://github.com/openearth/eo-bathymetry/\n",
    "# https://github.com/openearth/eo-bathymetry-functions/\n",
    "# https://github.com/gee-community/ee-packages-py"
   ]
  },
  {
   "cell_type": "code",
   "execution_count": 5,
   "metadata": {},
   "outputs": [
    {
     "data": {
      "text/html": [
       "\n",
       "            <style>\n",
       "                .geemap-dark {\n",
       "                    --jp-widgets-color: white;\n",
       "                    --jp-widgets-label-color: white;\n",
       "                    --jp-ui-font-color1: white;\n",
       "                    --jp-layout-color2: #454545;\n",
       "                    background-color: #383838;\n",
       "                }\n",
       "                    \n",
       "                .geemap-dark .jupyter-button {\n",
       "                    --jp-layout-color3: #383838;\n",
       "                }\n",
       "                \n",
       "                .geemap-colab {\n",
       "                    background-color: var(--colab-primary-surface-color, white);\n",
       "                }\n",
       "                    \n",
       "                .geemap-colab .jupyter-button {\n",
       "                    --jp-layout-color3: var(--colab-primary-surface-color, white);\n",
       "                }\n",
       "            </style>\n",
       "            "
      ],
      "text/plain": [
       "<IPython.core.display.HTML object>"
      ]
     },
     "metadata": {},
     "output_type": "display_data"
    }
   ],
   "source": [
    "# see scheme at https://github.com/openearth/eo-bathymetry/blob/master/notebooks/rws-bathymetry/acces_api.pdf for a workflow visualization \n",
    "\n",
    "# project toggles\n",
    "main_fol = r\"p:\\11209821-cmems-global-sdb\" # name of the main local folder \n",
    "bucket = \"cmems-sdb\" # name of the Google Cloud Storage bucket to store files in the cloud\n",
    "credential_file = r\"p:\\11209821-cmems-global-sdb\\00_miscellaneous\\KEYS\\bathymetry-543b622ddce7.json\" # Cloud Storage credential key\n",
    "output_fol = r\"01_intertidal\\02_data\\01_proxy\" # name of the overall project\n",
    "project_name = \"AOI_GER_WaddenSea\" # name of the project AoI\n",
    "draw_AoI = 0 # toggle 1 to draw AoI, 0 to load\n",
    "\n",
    "# composite image toggles\n",
    "mode = \"intertidal\" # specify mode, either \"intertidal\" or \"subtidal\"\n",
    "start_date = \"2021-01-01\" # start date of the composites\n",
    "stop_date = \"2022-01-01\" # end date of the composites\n",
    "compo_int = 12 # composite interval [months]\n",
    "compo_len = 12 # composite length [months]\n",
    "scale = 30  # output resolution of the image from download proxies [m]\n",
    "upscale = 100 # upscaled resolution for the image [m]\n",
    "crs = \"EPSG:4326\" # output projection of the image\n",
    "\n",
    "# tiling options\n",
    "zoomed_list = [9, 10, 11] # list with zoom levels to be inspected\n",
    "sel_tile = 0 # idx of chosen tile level in zoomed_list (inspect the map to chose it accordingly), z9 too big for in memory computations\n",
    "# note, see https://www.openearth.nl/rws-bathymetry/2019.html; Z9 is optimal size..\n",
    "\n",
    "# load google credentials, if specified\n",
    "if not credential_file == \"\":  \n",
    "    os.environ[\"GOOGLE_APPLICATION_CREDENTIALS\"] = str(credential_file)"
   ]
  },
  {
   "cell_type": "markdown",
   "metadata": {},
   "source": [
    "# Post-processing the API proxies"
   ]
  },
  {
   "cell_type": "code",
   "execution_count": 6,
   "metadata": {},
   "outputs": [
    {
     "data": {
      "text/html": [
       "\n",
       "            <style>\n",
       "                .geemap-dark {\n",
       "                    --jp-widgets-color: white;\n",
       "                    --jp-widgets-label-color: white;\n",
       "                    --jp-ui-font-color1: white;\n",
       "                    --jp-layout-color2: #454545;\n",
       "                    background-color: #383838;\n",
       "                }\n",
       "                    \n",
       "                .geemap-dark .jupyter-button {\n",
       "                    --jp-layout-color3: #383838;\n",
       "                }\n",
       "                \n",
       "                .geemap-colab {\n",
       "                    background-color: var(--colab-primary-surface-color, white);\n",
       "                }\n",
       "                    \n",
       "                .geemap-colab .jupyter-button {\n",
       "                    --jp-layout-color3: var(--colab-primary-surface-color, white);\n",
       "                }\n",
       "            </style>\n",
       "            "
      ],
      "text/plain": [
       "<IPython.core.display.HTML object>"
      ]
     },
     "metadata": {},
     "output_type": "display_data"
    }
   ],
   "source": [
    "# set scale factor and imae path\n",
    "scale_factor = upscale / scale # new resolution / scale of download_proxies\n",
    "\n",
    "# make dedicated directory for the output\n",
    "if not os.path.exists(os.path.join(main_fol, output_fol, mode, \"rsp_rpj\")):\n",
    "    os.makedirs(os.path.join(main_fol, output_fol, mode, \"rsp_rpj\"))\n",
    "if not os.path.exists(os.path.join(main_fol, output_fol, mode, \"rsp_rpj\", \"netcdf\")):\n",
    "    os.makedirs(os.path.join(main_fol, output_fol, mode, \"rsp_rpj\", \"netcdf\"))\n",
    "\n",
    "# remove all files present in the folder before running the below (else deleting errors)\n",
    "# for file in os.listdir(os.path.join(main_fol, output_fol, mode, \"rsp_rpj\")):\n",
    "#     if file.endswith(\".tif\"):\n",
    "#         os.remove(os.path.join(main_fol, output_fol, mode, \"rsp_rpj\", file))\n",
    "# for file in os.listdir(os.path.join(main_fol, output_fol, mode, \"rsp_rpj\", \"netcdf\")):\n",
    "#     if file.endswith(\".nc\"):\n",
    "#         os.remove(os.path.join(main_fol, output_fol, mode, \"rsp_rpj\", file))\n",
    "\n",
    "# loop over the files and reproject, resample & export to NetCDF (the latter cant be done in GEE)\n",
    "# TODO: mind the relative to MSL!\n",
    "for file in os.listdir(os.path.join(main_fol, output_fol, mode)):\n",
    "    if file.endswith(\".tif\"):\n",
    "        xds = rxr.open_rasterio(os.path.join(main_fol, output_fol, mode, file), masked=True) # open the raster file, note CRS is EPSG:4326 by default, standard S2 & L8 crs\n",
    "        rsp_rpj = xds.rio.reproject(crs, shape=(int(xds.rio.height / scale_factor), int(xds.rio.width / scale_factor))) # reproject to WGS84 and resample to scale factor\n",
    "        #rsp_rpj.rio.resolution()\n",
    "        rsp_rpj.rio.to_raster(os.path.join(main_fol, output_fol, mode, \"rsp_rpj\", file.replace(\".tif\", \"_100m.tif\")), driver=\"GTiff\", compress=\"LZW\") # save the raster file\n",
    "        #rsp_rpj.plot()\n",
    "        xds_rsp_rpj = rxr.open_rasterio(os.path.join(main_fol, output_fol, mode, \"rsp_rpj\", file.replace(\".tif\", \"_100m.tif\")), masked=True) # open the raster file\n",
    "        xds_rsp_rpj.to_netcdf(os.path.join(main_fol, output_fol, mode, \"rsp_rpj\", \"netcdf\", file.replace(\".tif\", \"_100m.nc\")), mode=\"w\", format='NetCDF4') # save the raster file\n",
    "\n",
    "        # Open the GeoTIFF and NetCDF files\n",
    "        #data_tif = rxr.open_rasterio(os.path.join(main_fol, output_fol, mode, \"rsp_rpj\", file.replace(\".tif\", \"_100m.tif\")))\n",
    "        #data_nc = rxr.open_rasterio(os.path.join(main_fol, output_fol, mode, \"rsp_rpj\", \"netcdf\", file.replace(\".tif\", \"_100m.nc\")))\n",
    "\n",
    "        # print the datasets\n",
    "        #data_tif\n",
    "        #data_nc\n",
    "\n",
    "        # replace the fill value with NaN\n",
    "        #data_nc_masked = data_nc.where(data_nc.values != data_nc.attrs[\"_FillValue\"])  \n",
    "\n",
    "        # test if equal data arrays (where matching nan's are true)\n",
    "        #np.array_equal(data_nc_masked, data_tif, equal_nan=True)\n",
    "\n",
    "        # plot the data\n",
    "        #data_nc.plot()\n",
    "        #data_nc_masked.plot()\n",
    "        #data_tif.plot()\n"
   ]
  },
  {
   "cell_type": "markdown",
   "metadata": {},
   "source": [
    "# Statistics"
   ]
  },
  {
   "cell_type": "code",
   "execution_count": 365,
   "metadata": {},
   "outputs": [
    {
     "data": {
      "text/html": [
       "\n",
       "            <style>\n",
       "                .geemap-dark {\n",
       "                    --jp-widgets-color: white;\n",
       "                    --jp-widgets-label-color: white;\n",
       "                    --jp-ui-font-color1: white;\n",
       "                    --jp-layout-color2: #454545;\n",
       "                    background-color: #383838;\n",
       "                }\n",
       "                    \n",
       "                .geemap-dark .jupyter-button {\n",
       "                    --jp-layout-color3: #383838;\n",
       "                }\n",
       "                \n",
       "                .geemap-colab {\n",
       "                    background-color: var(--colab-primary-surface-color, white);\n",
       "                }\n",
       "                    \n",
       "                .geemap-colab .jupyter-button {\n",
       "                    --jp-layout-color3: var(--colab-primary-surface-color, white);\n",
       "                }\n",
       "            </style>\n",
       "            "
      ],
      "text/plain": [
       "<IPython.core.display.HTML object>"
      ]
     },
     "metadata": {},
     "output_type": "display_data"
    }
   ],
   "source": [
    "# to derive statistics (calculate areas (km2) and percetage coverage (%) for the test cases - 10 in total)\n",
    "#V 1 use the global optical feasibility area (to be improved / replaced by intertidal feasibility area)\n",
    "#V - map this on the AoI to have 10 cases\n",
    "#V 2 running the automated processing and cleaning procedures on the 10 sites (masking, etc)\n",
    "#V - calculate the number of non-nan pixels of the tiled AoI output (xds_cm, after clipping and masking) in the optical feasbility area of the AoI\n",
    "#V - determine the percentage by dividing by the total number of pixels in the optical feasibility area of the AoI (out_image)\n",
    "#V - calculate the km2 in the 10 cases studies and the total km2 in the case studies\n",
    "#V - scale this to the globe, i.e. globe will be a similar percentage.. i.e. 34.7 % of the optical feasibility area!\n",
    "#V - say something about the file sizes.. (export NC files)\n",
    "\n",
    "#X (3.\tCalculating the difference between 1 & 2 and give an estimation of the total global sqkm based on the 11 sites.)\n",
    "\n",
    "# look into the worst site and the best one.. (Best; Wadden Sea, Tean, Okha, Worst processed; King William Island, Worst output; Cruz Bay, SaoPaulo, IleDePins, Mayotte, PrinceRupertIsland, WoodyCape)"
   ]
  },
  {
   "cell_type": "code",
   "execution_count": 375,
   "metadata": {},
   "outputs": [
    {
     "data": {
      "text/html": [
       "\n",
       "            <style>\n",
       "                .geemap-dark {\n",
       "                    --jp-widgets-color: white;\n",
       "                    --jp-widgets-label-color: white;\n",
       "                    --jp-ui-font-color1: white;\n",
       "                    --jp-layout-color2: #454545;\n",
       "                    background-color: #383838;\n",
       "                }\n",
       "                    \n",
       "                .geemap-dark .jupyter-button {\n",
       "                    --jp-layout-color3: #383838;\n",
       "                }\n",
       "                \n",
       "                .geemap-colab {\n",
       "                    background-color: var(--colab-primary-surface-color, white);\n",
       "                }\n",
       "                    \n",
       "                .geemap-colab .jupyter-button {\n",
       "                    --jp-layout-color3: var(--colab-primary-surface-color, white);\n",
       "                }\n",
       "            </style>\n",
       "            "
      ],
      "text/plain": [
       "<IPython.core.display.HTML object>"
      ]
     },
     "metadata": {},
     "output_type": "display_data"
    },
    {
     "name": "stdout",
     "output_type": "stream",
     "text": [
      "CruzBay\n",
      "z9_x163_y229_t2021-01-01_2022-01-01_100m.tif\n",
      "z9_x164_y229_t2021-01-01_2022-01-01_100m.tif\n",
      "IleDePins\n",
      "z9_x493_y288_t2021-01-01_2022-01-01_100m.tif\n",
      "z9_x493_y289_t2021-01-01_2022-01-01_100m.tif\n",
      "z9_x494_y288_t2021-01-01_2022-01-01_100m.tif\n",
      "z9_x494_y289_t2021-01-01_2022-01-01_100m.tif\n",
      "KingWilliamIsland\n",
      "z9_x114_y117_t2021-01-01_2022-01-01_100m.tif\n",
      "z9_x114_y118_t2021-01-01_2022-01-01_100m.tif\n",
      "z9_x115_y117_t2021-01-01_2022-01-01_100m.tif\n",
      "z9_x115_y118_t2021-01-01_2022-01-01_100m.tif\n",
      "Mayotte\n",
      "z9_x319_y273_t2021-01-01_2022-01-01_100m.tif\n",
      "z9_x319_y274_t2021-01-01_2022-01-01_100m.tif\n",
      "z9_x320_y273_t2021-01-01_2022-01-01_100m.tif\n",
      "z9_x320_y274_t2021-01-01_2022-01-01_100m.tif\n",
      "Okha\n",
      "z9_x354_y222_t2021-01-01_2022-01-01_100m.tif\n",
      "z9_x354_y223_t2021-01-01_2022-01-01_100m.tif\n",
      "PrinceRupertIsland\n",
      "z9_x69_y162_t2021-01-01_2022-01-01_100m.tif\n",
      "z9_x69_y163_t2021-01-01_2022-01-01_100m.tif\n",
      "z9_x69_y164_t2021-01-01_2022-01-01_100m.tif\n",
      "z9_x70_y162_t2021-01-01_2022-01-01_100m.tif\n",
      "z9_x70_y163_t2021-01-01_2022-01-01_100m.tif\n",
      "z9_x70_y164_t2021-01-01_2022-01-01_100m.tif\n",
      "SaoPaolo\n",
      "z9_x189_y291_t2021-01-01_2022-01-01_100m.tif\n",
      "Tean\n",
      "z9_x435_y199_t2021-01-01_2022-01-01_100m.tif\n",
      "z9_x435_y200_t2021-01-01_2022-01-01_100m.tif\n",
      "WaddenSea\n",
      "z9_x265_y164_t2021-01-01_2022-01-01_100m.tif\n",
      "z9_x265_y165_t2021-01-01_2022-01-01_100m.tif\n",
      "z9_x266_y164_t2021-01-01_2022-01-01_100m.tif\n",
      "z9_x266_y165_t2021-01-01_2022-01-01_100m.tif\n",
      "z9_x267_y164_t2021-01-01_2022-01-01_100m.tif\n",
      "z9_x267_y165_t2021-01-01_2022-01-01_100m.tif\n",
      "WoodyCape\n",
      "z9_x292_y306_t2021-01-01_2022-01-01_100m.tif\n",
      "z9_x292_y307_t2021-01-01_2022-01-01_100m.tif\n",
      "z9_x293_y306_t2021-01-01_2022-01-01_100m.tif\n",
      "z9_x293_y307_t2021-01-01_2022-01-01_100m.tif\n",
      "z9_x294_y306_t2021-01-01_2022-01-01_100m.tif\n",
      "z9_x294_y307_t2021-01-01_2022-01-01_100m.tif\n"
     ]
    }
   ],
   "source": [
    "# TODO: clip tiles covering the AOI to pixels in the global coastal mask\n",
    "# TODO: statistics on the data (area, perc, etc..)\n",
    "from shapely.geometry import box\n",
    "import rasterio\n",
    "\n",
    "limit = [-0.04, 0.14] # between -0.05 & 0.15\n",
    "\n",
    "# compute which file intersects with the AOI feasOPT geometry and clip & mask it\n",
    "image_cm = []\n",
    "image_mask = []\n",
    "for file in os.listdir(os.path.join(main_fol, \"00_miscellaneous\\AOI_feasOPT\")):\n",
    "    for shp in os.listdir(os.path.join(main_fol, \"00_miscellaneous\\AOI_feasOPT\", file, \"AOI_Id_0\")):\n",
    "        if shp.endswith(\".shp\"): #\"WaddenSea\" in file and \n",
    "            print(file)\n",
    "            image_cms = [] \n",
    "            image_masks = []\n",
    "            gdf = gpd.read_file(os.path.join(main_fol, \"00_miscellaneous\\AOI_feasOPT\", file, \"AOI_Id_0\", shp)) # load the optical feasibility layer shapefile\n",
    "\n",
    "            for fileAOI in os.listdir(os.path.join(main_fol, \"00_miscellaneous\\AOIs\")):\n",
    "                if fileAOI.endswith(\".geojson\"):\n",
    "                    gdfAOI = gpd.read_file(os.path.join(main_fol, \"00_miscellaneous\\AOIs\", fileAOI)) # load the AOI shapefile\n",
    "\n",
    "                    gdf_mask = gdf.intersection(gdfAOI) # calculate intersection between AoIs\n",
    "                    #print(check.is_empty[0])\n",
    "                    if gdf_mask.is_empty[0] == False: # here we continue\n",
    "                        #print(gdf_mask.is_empty, print(fileAOI))\n",
    "\n",
    "                        for filetif in os.listdir(os.path.join(main_fol, output_fol, mode, \"rsp_rpj\")):\n",
    "                            if filetif.endswith(\".tif\"):\n",
    "                                xds = rxr.open_rasterio(os.path.join(main_fol, output_fol, mode, \"rsp_rpj\", filetif), masked=True)\n",
    "                                gdf_mask = gdf_mask.to_crs(xds.rio.crs) # match crs's\n",
    "                                boxed_geom_AOIs = box(*gdf_mask.geometry.unary_union.bounds) # get bounding box of the AOI\n",
    "                                boxed_geom_tile = box(*xds.rio.bounds()) # get bounding box of the tiles\n",
    "\n",
    "                                if boxed_geom_AOIs.contains(boxed_geom_tile) or boxed_geom_AOIs.intersects(boxed_geom_tile):\n",
    "                                    print(filetif)\n",
    "                                    # gdf_mask.plot()\n",
    "                                    # plt.plot(*boxed_geom_AOIs.exterior.xy)\n",
    "                                    # plt.plot(*boxed_geom_tile.exterior.xy)\n",
    "                                    try: # eliminates the boxes where box AOIs intersect but not the AOIs itself (i.e. no data values in the tile)\n",
    "                                        xds_clipped = xds.rio.clip(gdf_mask.geometry.unary_union.geoms, xds.rio.crs, drop=True) # clip the raster to the geometry\n",
    "                                        xds_cm = xds_clipped.where((xds_clipped > limit[0]) & (xds_clipped < limit[1])) # mask the raster to the limits\n",
    "                                        image_cms.append(xds_cm)\n",
    "                                        with rasterio.open(os.path.join(main_fol, output_fol, mode, \"rsp_rpj\", filetif)) as src: # get raster file for total pixels\n",
    "                                            out_image, transformed = rasterio.mask.mask(src, gdf_mask.geometry.unary_union.geoms, crop=True, filled=False)\n",
    "                                            image_masks.append(out_image)\n",
    "                                            #plt.imshow(out_image.mask.squeeze())\n",
    "                                        xds_cm.rio.to_raster(os.path.join(main_fol, output_fol, mode, \"rsp_rpj/clipped_masked\", filetif.replace(\".tif\", \"_cm.tif\")), driver=\"GTiff\", compress=\"LZW\") # export tif\n",
    "                                        xds_cm.to_netcdf(os.path.join(main_fol, output_fol, mode, \"rsp_rpj/clipped_masked\", \"netcdf\", filetif.replace(\".tif\", \"_cm.nc\")), mode=\"w\", format='NetCDF4') # save the raster file as nc\n",
    "                                    except:\n",
    "                                        continue\n",
    "                                    \n",
    "            image_cm.append(image_cms)\n",
    "            image_mask.append(image_masks)"
   ]
  },
  {
   "cell_type": "code",
   "execution_count": 376,
   "metadata": {},
   "outputs": [
    {
     "data": {
      "text/html": [
       "\n",
       "            <style>\n",
       "                .geemap-dark {\n",
       "                    --jp-widgets-color: white;\n",
       "                    --jp-widgets-label-color: white;\n",
       "                    --jp-ui-font-color1: white;\n",
       "                    --jp-layout-color2: #454545;\n",
       "                    background-color: #383838;\n",
       "                }\n",
       "                    \n",
       "                .geemap-dark .jupyter-button {\n",
       "                    --jp-layout-color3: #383838;\n",
       "                }\n",
       "                \n",
       "                .geemap-colab {\n",
       "                    background-color: var(--colab-primary-surface-color, white);\n",
       "                }\n",
       "                    \n",
       "                .geemap-colab .jupyter-button {\n",
       "                    --jp-layout-color3: var(--colab-primary-surface-color, white);\n",
       "                }\n",
       "            </style>\n",
       "            "
      ],
      "text/plain": [
       "<IPython.core.display.HTML object>"
      ]
     },
     "metadata": {},
     "output_type": "display_data"
    },
    {
     "name": "stdout",
     "output_type": "stream",
     "text": [
      "0 CruzBay\n",
      "510 29894 1.7\n",
      "5.1 298.94\n",
      "1 IleDePins\n",
      "1371 80100 1.7\n",
      "13.71 801.0\n",
      "2 KingWilliamIsland\n",
      "181647 181705 100.0\n",
      "1816.47 1817.05\n",
      "3 Mayotte\n",
      "1814 67194 2.7\n",
      "18.14 671.94\n",
      "4 Okha\n",
      "20076 114724 17.5\n",
      "200.76 1147.24\n",
      "5 PrinceRupertIsland\n",
      "8204 70554 11.6\n",
      "82.04 705.54\n",
      "6 SaoPaolo\n",
      "143 35260 0.4\n",
      "1.43 352.6\n",
      "7 Tean\n",
      "2778 29792 9.3\n",
      "27.78 297.92\n",
      "8 WaddenSea\n",
      "29948 84562 35.4\n",
      "299.48 845.62\n",
      "9 WoodyCape\n",
      "1764 22125 8.0\n",
      "17.64 221.25\n",
      "\n",
      "Summed total for 10 cases:\n",
      "248255 intertidal pixels, 715910 total pixels, 34.7 %\n",
      "2482.55 intertidal km2, 7159.1 total intertidal km2\n"
     ]
    }
   ],
   "source": [
    "# actual statistics\n",
    "iat = []\n",
    "tat = []\n",
    "for idx,i in enumerate(os.listdir(os.path.join(main_fol, \"00_miscellaneous\\AOI_feasOPT\"))):\n",
    "    print(idx, i)\n",
    "    intertidal_area = []\n",
    "    total_area = []\n",
    "    for j, k in zip(image_cm[idx], image_mask[idx]):\n",
    "        intertidal_area.append(np.count_nonzero(~np.isnan(j))) # number of non-nan pixels\n",
    "        total_area.append(k.count()) # counts the total number of falses (i.e. non masked elements)\n",
    "    print(sum(intertidal_area), sum(total_area), round(sum(intertidal_area)/sum(total_area)*100,1)) # pixels\n",
    "    #print(intertidal_area, total_area)\n",
    "    print((sum(intertidal_area)*100*100)/1000000, (sum(total_area)*100*100)/1000000) # km2\n",
    "    iat.append(sum(intertidal_area))\n",
    "    tat.append(sum(total_area))\n",
    "\n",
    "print(\"\")\n",
    "print(\"Summed total for 10 cases:\")\n",
    "print(sum(iat), \"intertidal pixels,\", sum(tat), \"total pixels,\", round(sum(iat)/sum(tat)*100,1), \"%\")\n",
    "print((sum(iat)*100*100)/1000000, \"intertidal km2,\", (sum(tat)*100*100)/1000000, \"total intertidal km2\")   "
   ]
  },
  {
   "cell_type": "code",
   "execution_count": 325,
   "metadata": {},
   "outputs": [
    {
     "data": {
      "text/html": [
       "\n",
       "            <style>\n",
       "                .geemap-dark {\n",
       "                    --jp-widgets-color: white;\n",
       "                    --jp-widgets-label-color: white;\n",
       "                    --jp-ui-font-color1: white;\n",
       "                    --jp-layout-color2: #454545;\n",
       "                    background-color: #383838;\n",
       "                }\n",
       "                    \n",
       "                .geemap-dark .jupyter-button {\n",
       "                    --jp-layout-color3: #383838;\n",
       "                }\n",
       "                \n",
       "                .geemap-colab {\n",
       "                    background-color: var(--colab-primary-surface-color, white);\n",
       "                }\n",
       "                    \n",
       "                .geemap-colab .jupyter-button {\n",
       "                    --jp-layout-color3: var(--colab-primary-surface-color, white);\n",
       "                }\n",
       "            </style>\n",
       "            "
      ],
      "text/plain": [
       "<IPython.core.display.HTML object>"
      ]
     },
     "metadata": {},
     "output_type": "display_data"
    }
   ],
   "source": [
    "# single file test\n",
    "\n",
    "# dum_file = r\"z9_x266_y165_t2021-01-01_2022-01-01_100m.tif\"\n",
    "# dum_file_mask = r\"AOI_GER_WaddenSea.geojson\"\n",
    "# dum_file_AOI = r\"WaddenSea\"\n",
    "\n",
    "# gdf = gpd.read_file(os.path.join(main_fol, \"00_miscellaneous\\AOI_feasOPT\", dum_file_AOI, \"AOI_Id_0\", \"AOI_0_Dissolved_-30_100.shp\")) # load the optical feasibility layer shapefile\n",
    "# gdfAOI = gpd.read_file(os.path.join(main_fol, \"00_miscellaneous\\AOIs\", dum_file_mask))\n",
    "# gdf_mask = gdf.intersection(gdfAOI) # calculate intersection between AoIs\n",
    "# xds = rxr.open_rasterio(os.path.join(main_fol, output_fol, mode, \"rsp_rpj\", dum_file), masked=True)\n",
    "# test = xds.rio.clip(gdf_mask.geometry.unary_union.geoms, xds.rio.crs, drop=True) # clip the raster to the geometry\n",
    "# xds_cm = test.where((test > limit[0]) & (test < limit[1])) # mask the raster to the limits\n",
    "# with rasterio.open(os.path.join(main_fol, output_fol, mode, \"rsp_rpj\", dum_file)) as src:\n",
    "#      out_image, transformed = rasterio.mask.mask(src, gdf_mask.geometry.unary_union.geoms, crop=True, filled=False)\n",
    "# #test.plot()\n",
    "\n",
    "# print(np.count_nonzero(~np.isnan(xds_cm))) # number of non-nan pixels\n",
    "# print(out_image.count()) # counts the falses (i.e. non masked elements)\n",
    "# xds_cm.plot()\n",
    "# # print(test)"
   ]
  },
  {
   "cell_type": "code",
   "execution_count": 387,
   "metadata": {},
   "outputs": [
    {
     "data": {
      "text/html": [
       "\n",
       "            <style>\n",
       "                .geemap-dark {\n",
       "                    --jp-widgets-color: white;\n",
       "                    --jp-widgets-label-color: white;\n",
       "                    --jp-ui-font-color1: white;\n",
       "                    --jp-layout-color2: #454545;\n",
       "                    background-color: #383838;\n",
       "                }\n",
       "                    \n",
       "                .geemap-dark .jupyter-button {\n",
       "                    --jp-layout-color3: #383838;\n",
       "                }\n",
       "                \n",
       "                .geemap-colab {\n",
       "                    background-color: var(--colab-primary-surface-color, white);\n",
       "                }\n",
       "                    \n",
       "                .geemap-colab .jupyter-button {\n",
       "                    --jp-layout-color3: var(--colab-primary-surface-color, white);\n",
       "                }\n",
       "            </style>\n",
       "            "
      ],
      "text/plain": [
       "<IPython.core.display.HTML object>"
      ]
     },
     "metadata": {},
     "output_type": "display_data"
    }
   ],
   "source": [
    "# # Open the GeoTIFF and NetCDF files to check\n",
    "# file = \"z9_x266_y165_t2021-01-01_2022-01-01_100m.tif\"\n",
    "# data_tif = rxr.open_rasterio(os.path.join(main_fol, output_fol, mode, \"rsp_rpj/clipped_masked\", file.replace(\".tif\", \"_cm.tif\")))\n",
    "# data_nc = rxr.open_rasterio(os.path.join(main_fol, output_fol, mode, \"rsp_rpj/clipped_masked\", \"netcdf\", file.replace(\".tif\", \"_cm.nc\")))\n",
    "\n",
    "# # print the datasets\n",
    "# #data_tif\n",
    "# #data_nc\n",
    "\n",
    "# # replace the fill value with NaN\n",
    "# data_nc_masked = data_nc.where(data_nc.values != data_nc.attrs[\"_FillValue\"])  \n",
    "\n",
    "# # test if equal data arrays (where matching nan's are true)\n",
    "# np.array_equal(data_nc_masked, data_tif, equal_nan=True)\n",
    "\n",
    "# # plot the data\n",
    "# #data_nc.plot()\n",
    "# data_nc_masked.plot()\n",
    "# #data_tif.plot()"
   ]
  },
  {
   "cell_type": "code",
   "execution_count": null,
   "metadata": {},
   "outputs": [],
   "source": []
  }
 ],
 "metadata": {
  "kernelspec": {
   "display_name": "Python 3",
   "language": "python",
   "name": "python3"
  },
  "language_info": {
   "codemirror_mode": {
    "name": "ipython",
    "version": 3
   },
   "file_extension": ".py",
   "mimetype": "text/x-python",
   "name": "python",
   "nbconvert_exporter": "python",
   "pygments_lexer": "ipython3",
   "version": "3.8.18"
  }
 },
 "nbformat": 4,
 "nbformat_minor": 2
}
