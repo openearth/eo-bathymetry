{
 "cells": [
  {
   "cell_type": "markdown",
   "id": "a2ff4261",
   "metadata": {},
   "source": [
    "# Intertidal Bathymetry\n",
    "Tests intertidal bathymetry function of `bathymetry.py`. "
   ]
  },
  {
   "cell_type": "code",
   "execution_count": 1,
   "id": "f1ce644e",
   "metadata": {},
   "outputs": [],
   "source": [
    "from pathlib import Path\n",
    "import sys\n",
    "import time\n",
    "\n",
    "import ee\n",
    "import geemap\n",
    "from geojson import Polygon\n",
    "\n",
    "sys.path.append(str(Path.cwd().parent.parent))\n",
    "\n",
    "from eobathymetry import bathymetry"
   ]
  },
  {
   "cell_type": "code",
   "execution_count": 33,
   "id": "c673de3d",
   "metadata": {},
   "outputs": [],
   "source": [
    "Map = geemap.Map(center=(38.499573, -8.89696), zoom=13)\n",
    "bounds = ee.Geometry(Polygon([[\n",
    "    (-8.9793574609375, 38.474681402665055),\n",
    "    (-8.8145625390625, 38.474681402665055),\n",
    "    (-8.8145625390625, 38.5244559986627),\n",
    "    (-8.9793574609375, 38.5244559986627),\n",
    "    (-8.9793574609375, 38.474681402665055),\n",
    "]]))"
   ]
  },
  {
   "cell_type": "code",
   "execution_count": 34,
   "id": "e8b9293a",
   "metadata": {},
   "outputs": [
    {
     "data": {
      "application/vnd.jupyter.widget-view+json": {
       "model_id": "161e6abdeedf45f0b005cdfc90b93eb9",
       "version_major": 2,
       "version_minor": 0
      },
      "text/plain": [
       "Map(center=[38.499573, -8.89696], controls=(WidgetControl(options=['position', 'transparent_bg'], widget=HBox(…"
      ]
     },
     "metadata": {},
     "output_type": "display_data"
    }
   ],
   "source": [
    "sdb = bathymetry.Bathymetry()\n",
    "\n",
    "scale = Map.getScale()\n",
    "\n",
    "# Parameters \n",
    "start_date = '2018-01-01'\n",
    "stop_date = '2020-01-01'\n",
    "\n",
    "image = sdb.compute_intertidal_depth(\n",
    "    bounds=bounds,\n",
    "    start=start_date,\n",
    "    stop=stop_date,\n",
    "    scale=scale,\n",
    "    missions=['S2', 'L8'],\n",
    "    # filter: ee.Filter.dayOfYear(7*30, 9*30), # summer-only\n",
    "    filter_masked=False, \n",
    "    # filterMasked: true, \n",
    "    # filterMaskedFraction: 0.5,\n",
    "    skip_scene_boundary_fix=True,\n",
    "    skip_neighborhood_search=True,\n",
    "    neighborhood_search_parameters={\"erosion\": 0, \"dilation\": 0, \"weight\": 50},\n",
    "    bounds_buffer=0,\n",
    "    water_index_min=-0.05,\n",
    "    water_index_max=0.15,\n",
    "\n",
    "    # lowerCdfBoundary: 45,\n",
    "    # upperCdfBoundary: 50\n",
    ")\n",
    "\n",
    "min = 0.04\n",
    "max = 0.2\n",
    "Map.addLayer(sdb.composite, { \"min\": min, \"max\": max }, 'red-green-blue')\n",
    "Map"
   ]
  },
  {
   "cell_type": "code",
   "execution_count": 35,
   "id": "111437d7",
   "metadata": {},
   "outputs": [],
   "source": [
    "Map.addLayer(image, {\"min\": sdb.waterIndexMin, \"max\": sdb.waterIndexMax}, 'water indices', False)"
   ]
  }
 ],
 "metadata": {
  "kernelspec": {
   "display_name": "Python 3 (ipykernel)",
   "language": "python",
   "name": "python3"
  },
  "language_info": {
   "codemirror_mode": {
    "name": "ipython",
    "version": 3
   },
   "file_extension": ".py",
   "mimetype": "text/x-python",
   "name": "python",
   "nbconvert_exporter": "python",
   "pygments_lexer": "ipython3",
   "version": "3.9.6"
  }
 },
 "nbformat": 4,
 "nbformat_minor": 5
}
