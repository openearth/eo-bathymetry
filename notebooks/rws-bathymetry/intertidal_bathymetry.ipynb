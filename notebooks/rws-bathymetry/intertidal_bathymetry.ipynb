{
 "cells": [
  {
   "cell_type": "markdown",
   "source": [
    "# Intertidal Bathymetry\n",
    "Tests intertidal bathymetry function of `bathymetry.py`. "
   ],
   "metadata": {}
  },
  {
   "cell_type": "code",
   "execution_count": 1,
   "source": [
    "from pathlib import Path\n",
    "import sys\n",
    "import time\n",
    "\n",
    "import ee\n",
    "import geemap\n",
    "from geojson import Polygon\n",
    "\n",
    "sys.path.append(str(Path.cwd().parent.parent))\n",
    "\n",
    "from eepackages.applications import bathymetry"
   ],
   "outputs": [],
   "metadata": {}
  },
  {
   "cell_type": "code",
   "execution_count": 2,
   "source": [
    "Map = geemap.Map(center=(52.97, 4.74), zoom=11)\n",
    "bounds = ee.Geometry(Polygon([[\n",
    "    (4.574518432617185, 52.91662291147939),\n",
    "    (4.90548156738281, 52.91662291147939),\n",
    "    (4.90548156738281, 53.02331125248889),\n",
    "    (4.574518432617185, 53.02331125248889),\n",
    "    (4.574518432617185, 52.91662291147939)\n",
    "]]))"
   ],
   "outputs": [],
   "metadata": {}
  },
  {
   "cell_type": "code",
   "execution_count": 3,
   "source": [
    "sdb = bathymetry.Bathymetry()\n",
    "\n",
    "scale = Map.getScale()\n",
    "\n",
    "# Parameters \n",
    "start_date = '2018-01-01'\n",
    "stop_date = '2020-01-01'\n",
    "\n",
    "image = sdb.compute_intertidal_depth(\n",
    "    bounds=bounds,\n",
    "    start=start_date,\n",
    "    stop=stop_date,\n",
    "    scale=scale,\n",
    "    missions=['S2', 'L8'],\n",
    "    # filter: ee.Filter.dayOfYear(7*30, 9*30), # summer-only\n",
    "    filter_masked=False, \n",
    "    # filterMasked: true, \n",
    "    # filterMaskedFraction: 0.5,\n",
    "    skip_scene_boundary_fix=False,\n",
    "    skip_neighborhood_search=False,\n",
    "    neighborhood_search_parameters={\"erosion\": 0, \"dilation\": 0, \"weight\": 50},\n",
    "    bounds_buffer=0,\n",
    "    water_index_min=-0.05,\n",
    "    water_index_max=0.15,\n",
    "\n",
    "    # lowerCdfBoundary: 45,\n",
    "    # upperCdfBoundary: 50\n",
    ")  # .reproject(ee.Projection(\"EPSG:3857\").atScale(90))\n",
    "\n",
    "min = 0.04\n",
    "max = 0.2\n",
    "Map.addLayer(sdb.composite, { \"min\": min, \"max\": max }, 'red-green-blue')\n",
    "Map"
   ],
   "outputs": [
    {
     "output_type": "display_data",
     "data": {
      "application/vnd.jupyter.widget-view+json": {
       "model_id": "2c7d4e5d9c6a403ca9ee28e19cae15b5",
       "version_major": 2,
       "version_minor": 0
      },
      "text/plain": [
       "Map(center=[52.97, 4.74], controls=(WidgetControl(options=['position', 'transparent_bg'], widget=HBox(children…"
      ]
     },
     "metadata": {}
    }
   ],
   "metadata": {}
  },
  {
   "cell_type": "code",
   "execution_count": null,
   "source": [
    "Map.addLayer(image, {\"min\": sdb.waterIndexMin, \"max\": sdb.waterIndexMax}, 'water indices', False)"
   ],
   "outputs": [],
   "metadata": {}
  }
 ],
 "metadata": {
  "kernelspec": {
   "display_name": "Python 3 (ipykernel)",
   "language": "python",
   "name": "python3"
  },
  "language_info": {
   "codemirror_mode": {
    "name": "ipython",
    "version": 3
   },
   "file_extension": ".py",
   "mimetype": "text/x-python",
   "name": "python",
   "nbconvert_exporter": "python",
   "pygments_lexer": "ipython3",
   "version": "3.9.6"
  }
 },
 "nbformat": 4,
 "nbformat_minor": 5
}