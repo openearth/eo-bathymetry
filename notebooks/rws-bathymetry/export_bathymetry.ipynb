{
 "cells": [
  {
   "cell_type": "markdown",
   "metadata": {},
   "source": [
    "# Export Bathymetry\n",
    "\n",
    "Exports bathymetry tiles from a geometry of interest to GEE assets and GCS.\n",
    "TODO: create logic in outside of notebook"
   ]
  },
  {
   "cell_type": "code",
   "execution_count": 6,
   "metadata": {},
   "outputs": [],
   "source": [
    "from pathlib import Path\n",
    "import sys\n",
    "import time\n",
    "\n",
    "import ee\n",
    "import geemap\n",
    "import geetools\n",
    "import geojson\n",
    "\n",
    "sys.path.append(str(Path.cwd().parent.parent))\n",
    "\n",
    "from eobathymetry import bathymetry, tiler"
   ]
  },
  {
   "cell_type": "markdown",
   "metadata": {},
   "source": [
    "## Create tiles based on input geometry"
   ]
  },
  {
   "cell_type": "code",
   "execution_count": 2,
   "metadata": {},
   "outputs": [],
   "source": [
    "Map = geemap.Map(center=(52.97, 4.74), zoom=10)\n",
    "\n",
    "\"\"\"\n",
    "var tiler = require('users/gena/packages:tiler')\n",
    "\n",
    "function addTileBounds(zoom){\n",
    "  var tiles = tiler.getTilesForGeometry(geometry, zoom)\n",
    "  \n",
    "  Map.addLayer(tiles.style({ width: Math.max(1, 10 - zoom), fillColor: '00000022' }), {}, 'tiles ' + zoom)\n",
    "}\n",
    "\n",
    "[5, 6, 7, 8, 9].map(addTileBounds)\n",
    "print(texelAoi)\n",
    "\"\"\"\n",
    "\n",
    "aoi_json = \"\"\"{\n",
    "  \"type\": \"Polygon\",\n",
    "  \"coordinates\": [\n",
    "    [\n",
    "      [\n",
    "        4.726555204480136,\n",
    "        52.79894952106581\n",
    "      ],\n",
    "      [\n",
    "        5.382988309948886,\n",
    "        53.2615577684405\n",
    "      ],\n",
    "      [\n",
    "        5.226433134167636,\n",
    "        53.48931215536743\n",
    "      ],\n",
    "      [\n",
    "        4.770500516980136,\n",
    "        53.41898585234949\n",
    "      ],\n",
    "      [\n",
    "        4.270622587292636,\n",
    "        52.91018589685636\n",
    "      ],\n",
    "      [\n",
    "        4.726555204480136,\n",
    "        52.79894952106581\n",
    "      ]\n",
    "    ]\n",
    "  ]\n",
    "}\"\"\"\n",
    "bounds = ee.Geometry(geojson.loads(aoi_json))\n",
    "zoom_levels = [8, 9, 10, 11, 12]"
   ]
  },
  {
   "cell_type": "markdown",
   "metadata": {},
   "source": [
    "## Plot tiles for quality control"
   ]
  },
  {
   "cell_type": "code",
   "execution_count": 3,
   "metadata": {},
   "outputs": [],
   "source": [
    "def add_tile_bounds(zoom):\n",
    "    tiles = tiler.get_tiles_for_geometry(bounds, zoom)\n",
    "    Map.addLayer(tiles.style(width=max(1, 10 - zoom), fillColor= \"00000022\"), {}, \"tiles \" + str(zoom))"
   ]
  },
  {
   "cell_type": "code",
   "execution_count": 4,
   "metadata": {},
   "outputs": [
    {
     "data": {
      "application/vnd.jupyter.widget-view+json": {
       "model_id": "a5fa77e5c7704a5683abf165647fcd28",
       "version_major": 2,
       "version_minor": 0
      },
      "text/plain": [
       "Map(center=[52.97, 4.74], controls=(WidgetControl(options=['position', 'transparent_bg'], widget=HBox(children…"
      ]
     },
     "metadata": {},
     "output_type": "display_data"
    }
   ],
   "source": [
    "list(map(add_tile_bounds, [8, 9, 10, 11, 12]))\n",
    "Map"
   ]
  },
  {
   "cell_type": "markdown",
   "metadata": {},
   "source": [
    "## Export to earth engine assets\n",
    "Create tiles to export. Then export based tiles and given zoom levels."
   ]
  },
  {
   "cell_type": "code",
   "execution_count": 12,
   "metadata": {},
   "outputs": [],
   "source": [
    "from typing import List\n",
    "from dateutil.parser import parse\n",
    "\n",
    "def export_tile_bathymetry(tile: ee.Feature, start: str, stop: str, preview: bool=False):\n",
    "    bounds: ee.Geometry = tile.geometry().bounds(1)\n",
    "    scale: ee.Number = tiler.zoom_to_scale(tile.get(\"zoom\"))\n",
    "    sdb: Bathymetry = bathymetry.Bathymetry()\n",
    "    tile.set(ee.String(\"z\").cat(tile.get(\"zoom\")).cat(\"_x\").cat(tile.get(\"tx\")).cat(\"_y\").cat(tile.get(\"ty\")))\n",
    "    \n",
    "    image: ee.Image = sdb.compute_inverse_depth(\n",
    "                bounds=bounds,\n",
    "                start=start,\n",
    "                stop=stop,\n",
    "                filter_masked=True,\n",
    "                scale=tiler.zoom_to_scale(zoom)\n",
    "            )\n",
    "    image.set(\n",
    "        \"system:time_start\", ee.Date(start).millis(),\n",
    "        \"system:time_stop\", ee.Date(stop).millis(),\n",
    "        \"zoom\", zoom,\n",
    "        \"tx\", tile.get(\"tx\"),\n",
    "        \"ty\", tile.get(\"ty\")\n",
    "    )\n",
    "    \n",
    "    buffered_bounds: ee.Geometry = tile.geometry().buffer(scale).bounds()\n",
    "    if preview:\n",
    "        Map.addLayer(image.clip(bounds), {}, \"preview SDB\")\n",
    "        return\n",
    "    \n",
    "    def export_tiled_feature(name: ee.String):\n",
    "        file_name: str = f\"{name}_{start}_{stop}\"\n",
    "        user_name = ee.data.getAssetRoots()[0][\"id\"].split(\"/\")[-1]\n",
    "        asset_id: str = f\"users/{user_name}/eo-bathymetry/{file_name}\"\n",
    "        ee.batch.Export.image.toAsset(\n",
    "            image=image,\n",
    "            description=file_name,\n",
    "            assetId=asset_id,\n",
    "            region=bounds,\n",
    "            scale=scale,\n",
    "            crs=\"EPSG:3857\",\n",
    "            maxPixels=1e10\n",
    "        )\n",
    "    \n",
    "    tile.get(\"name\").evaluate(export_tiled_feature)\n",
    "\n",
    "def export_tiles_to_assets(\n",
    "    geometry: ee.Geometry,\n",
    "    sdb: bathymetry.Bathymetry,\n",
    "    zoom_levels: List[int],\n",
    "    start: str,\n",
    "    stop: str,\n",
    "    step_months: int = 3,\n",
    "    window_years: int = 2,\n",
    "    preview: bool = False\n",
    "):\n",
    "    user_name = ee.data.getAssetRoots()[0][\"id\"].split(\"/\")[-1]\n",
    "    asset_id: str = f\"users/{user_name}/eo-bathymetry\"\n",
    "    try:\n",
    "        ee.data.deleteAsset(asset_id)\n",
    "    except ee.EEException as e:\n",
    "        if f\"Asset \\\"projects/earthengine-legacy/assets/{asset_id}\\\" not found.\" not in str(e):\n",
    "            raise e\n",
    "        else:\n",
    "            print(f\"Asset {asset_id} not found\")\n",
    "    \n",
    "    ee.data.create_assets(asset_ids=[\"/\".join(asset_id.split(\"/\")[:-1])], asset_type=\"Folder\", mk_parents=True)\n",
    "    \n",
    "    def create_year_window(month: ee.Number) -> ee.Dictionary:\n",
    "        t: ee.Date = ee.Date.fromYMD(year, month, 1)\n",
    "        d_format: str = \"YYYY-MM-dd\"\n",
    "        return ee.Dictionary({\"start\": t.format(d_format), \"stop\": t.advance(window_years, 'year').format(d_format)})\n",
    "        \n",
    "    dates: ee.List = ee.List.sequence(parse(start).year, parse(stop).year).map(\n",
    "        lambda year: ee.List.sequence(1, 12, step_months).map(create_year_window)\n",
    "    ).flatten()\n",
    "    \n",
    "    zooms: ee.List = ee.List(zoom_levels)\n",
    "    zooms \\\n",
    "        .map(lambda zoom_l: tiler.get_tiles_for_geometry(geometry, zoom)) \\\n",
    "#         .flatten() \\\n",
    "#         .map(lambda tile: export_tile_bathymetry(tile, start, stop, preview))"
   ]
  },
  {
   "cell_type": "code",
   "execution_count": 13,
   "metadata": {},
   "outputs": [
    {
     "ename": "EEException",
     "evalue": "An internal error has occurred (request: fe97ee67-512e-4987-861b-83824fd86673)",
     "output_type": "error",
     "traceback": [
      "\u001b[0;31m---------------------------------------------------------------------------\u001b[0m",
      "\u001b[0;31mHttpError\u001b[0m                                 Traceback (most recent call last)",
      "\u001b[0;32m/opt/conda/lib/python3.9/site-packages/ee/data.py\u001b[0m in \u001b[0;36m_execute_cloud_call\u001b[0;34m(call, num_retries)\u001b[0m\n\u001b[1;32m    333\u001b[0m   \u001b[0;32mtry\u001b[0m\u001b[0;34m:\u001b[0m\u001b[0;34m\u001b[0m\u001b[0;34m\u001b[0m\u001b[0m\n\u001b[0;32m--> 334\u001b[0;31m     \u001b[0;32mreturn\u001b[0m \u001b[0mcall\u001b[0m\u001b[0;34m.\u001b[0m\u001b[0mexecute\u001b[0m\u001b[0;34m(\u001b[0m\u001b[0mnum_retries\u001b[0m\u001b[0;34m=\u001b[0m\u001b[0mnum_retries\u001b[0m\u001b[0;34m)\u001b[0m\u001b[0;34m\u001b[0m\u001b[0;34m\u001b[0m\u001b[0m\n\u001b[0m\u001b[1;32m    335\u001b[0m   \u001b[0;32mexcept\u001b[0m \u001b[0mgoogleapiclient\u001b[0m\u001b[0;34m.\u001b[0m\u001b[0merrors\u001b[0m\u001b[0;34m.\u001b[0m\u001b[0mHttpError\u001b[0m \u001b[0;32mas\u001b[0m \u001b[0me\u001b[0m\u001b[0;34m:\u001b[0m\u001b[0;34m\u001b[0m\u001b[0;34m\u001b[0m\u001b[0m\n",
      "\u001b[0;32m/opt/conda/lib/python3.9/site-packages/googleapiclient/_helpers.py\u001b[0m in \u001b[0;36mpositional_wrapper\u001b[0;34m(*args, **kwargs)\u001b[0m\n\u001b[1;32m    133\u001b[0m                     \u001b[0mlogger\u001b[0m\u001b[0;34m.\u001b[0m\u001b[0mwarning\u001b[0m\u001b[0;34m(\u001b[0m\u001b[0mmessage\u001b[0m\u001b[0;34m)\u001b[0m\u001b[0;34m\u001b[0m\u001b[0;34m\u001b[0m\u001b[0m\n\u001b[0;32m--> 134\u001b[0;31m             \u001b[0;32mreturn\u001b[0m \u001b[0mwrapped\u001b[0m\u001b[0;34m(\u001b[0m\u001b[0;34m*\u001b[0m\u001b[0margs\u001b[0m\u001b[0;34m,\u001b[0m \u001b[0;34m**\u001b[0m\u001b[0mkwargs\u001b[0m\u001b[0;34m)\u001b[0m\u001b[0;34m\u001b[0m\u001b[0;34m\u001b[0m\u001b[0m\n\u001b[0m\u001b[1;32m    135\u001b[0m \u001b[0;34m\u001b[0m\u001b[0m\n",
      "\u001b[0;32m/opt/conda/lib/python3.9/site-packages/googleapiclient/http.py\u001b[0m in \u001b[0;36mexecute\u001b[0;34m(self, http, num_retries)\u001b[0m\n\u001b[1;32m    914\u001b[0m         \u001b[0;32mif\u001b[0m \u001b[0mresp\u001b[0m\u001b[0;34m.\u001b[0m\u001b[0mstatus\u001b[0m \u001b[0;34m>=\u001b[0m \u001b[0;36m300\u001b[0m\u001b[0;34m:\u001b[0m\u001b[0;34m\u001b[0m\u001b[0;34m\u001b[0m\u001b[0m\n\u001b[0;32m--> 915\u001b[0;31m             \u001b[0;32mraise\u001b[0m \u001b[0mHttpError\u001b[0m\u001b[0;34m(\u001b[0m\u001b[0mresp\u001b[0m\u001b[0;34m,\u001b[0m \u001b[0mcontent\u001b[0m\u001b[0;34m,\u001b[0m \u001b[0muri\u001b[0m\u001b[0;34m=\u001b[0m\u001b[0mself\u001b[0m\u001b[0;34m.\u001b[0m\u001b[0muri\u001b[0m\u001b[0;34m)\u001b[0m\u001b[0;34m\u001b[0m\u001b[0;34m\u001b[0m\u001b[0m\n\u001b[0m\u001b[1;32m    916\u001b[0m         \u001b[0;32mreturn\u001b[0m \u001b[0mself\u001b[0m\u001b[0;34m.\u001b[0m\u001b[0mpostproc\u001b[0m\u001b[0;34m(\u001b[0m\u001b[0mresp\u001b[0m\u001b[0;34m,\u001b[0m \u001b[0mcontent\u001b[0m\u001b[0;34m)\u001b[0m\u001b[0;34m\u001b[0m\u001b[0;34m\u001b[0m\u001b[0m\n",
      "\u001b[0;31mHttpError\u001b[0m: <HttpError 500 when requesting https://earthengine.googleapis.com/v1alpha/projects/earthengine-legacy/assets/users/jaapel/eo-bathymetry?alt=json returned \"An internal error has occurred (request: fe97ee67-512e-4987-861b-83824fd86673)\". Details: \"An internal error has occurred (request: fe97ee67-512e-4987-861b-83824fd86673)\">",
      "\nDuring handling of the above exception, another exception occurred:\n",
      "\u001b[0;31mEEException\u001b[0m                               Traceback (most recent call last)",
      "\u001b[0;32m/tmp/ipykernel_77/147515291.py\u001b[0m in \u001b[0;36m<module>\u001b[0;34m\u001b[0m\n\u001b[0;32m----> 1\u001b[0;31m \u001b[0mexport_tiles_to_assets\u001b[0m\u001b[0;34m(\u001b[0m\u001b[0mbounds\u001b[0m\u001b[0;34m,\u001b[0m \u001b[0mbathymetry\u001b[0m\u001b[0;34m.\u001b[0m\u001b[0mBathymetry\u001b[0m\u001b[0;34m(\u001b[0m\u001b[0;34m)\u001b[0m\u001b[0;34m,\u001b[0m \u001b[0;34m[\u001b[0m\u001b[0;36m10\u001b[0m\u001b[0;34m,\u001b[0m \u001b[0;36m11\u001b[0m\u001b[0;34m]\u001b[0m\u001b[0;34m,\u001b[0m \u001b[0;34m\"01-01-2020\"\u001b[0m\u001b[0;34m,\u001b[0m \u001b[0;34m\"01-01-2021\"\u001b[0m\u001b[0;34m,\u001b[0m \u001b[0;32mTrue\u001b[0m\u001b[0;34m)\u001b[0m\u001b[0;34m\u001b[0m\u001b[0;34m\u001b[0m\u001b[0m\n\u001b[0m\u001b[1;32m      2\u001b[0m \u001b[0mMap\u001b[0m\u001b[0;34m\u001b[0m\u001b[0;34m\u001b[0m\u001b[0m\n",
      "\u001b[0;32m/tmp/ipykernel_77/1347553119.py\u001b[0m in \u001b[0;36mexport_tiles_to_assets\u001b[0;34m(geometry, sdb, zoom_levels, start, stop, step_months, window_years, preview)\u001b[0m\n\u001b[1;32m     60\u001b[0m     \u001b[0;32mexcept\u001b[0m \u001b[0mee\u001b[0m\u001b[0;34m.\u001b[0m\u001b[0mEEException\u001b[0m \u001b[0;32mas\u001b[0m \u001b[0me\u001b[0m\u001b[0;34m:\u001b[0m\u001b[0;34m\u001b[0m\u001b[0;34m\u001b[0m\u001b[0m\n\u001b[1;32m     61\u001b[0m         \u001b[0;32mif\u001b[0m \u001b[0;34mf\"Asset \\\"projects/earthengine-legacy/assets/{asset_id}\\\" not found.\"\u001b[0m \u001b[0;32mnot\u001b[0m \u001b[0;32min\u001b[0m \u001b[0mstr\u001b[0m\u001b[0;34m(\u001b[0m\u001b[0me\u001b[0m\u001b[0;34m)\u001b[0m\u001b[0;34m:\u001b[0m\u001b[0;34m\u001b[0m\u001b[0;34m\u001b[0m\u001b[0m\n\u001b[0;32m---> 62\u001b[0;31m             \u001b[0;32mraise\u001b[0m \u001b[0me\u001b[0m\u001b[0;34m\u001b[0m\u001b[0;34m\u001b[0m\u001b[0m\n\u001b[0m\u001b[1;32m     63\u001b[0m         \u001b[0;32melse\u001b[0m\u001b[0;34m:\u001b[0m\u001b[0;34m\u001b[0m\u001b[0;34m\u001b[0m\u001b[0m\n\u001b[1;32m     64\u001b[0m             \u001b[0mprint\u001b[0m\u001b[0;34m(\u001b[0m\u001b[0;34mf\"Asset {asset_id} not found\"\u001b[0m\u001b[0;34m)\u001b[0m\u001b[0;34m\u001b[0m\u001b[0;34m\u001b[0m\u001b[0m\n",
      "\u001b[0;32m/tmp/ipykernel_77/1347553119.py\u001b[0m in \u001b[0;36mexport_tiles_to_assets\u001b[0;34m(geometry, sdb, zoom_levels, start, stop, step_months, window_years, preview)\u001b[0m\n\u001b[1;32m     57\u001b[0m     \u001b[0masset_id\u001b[0m\u001b[0;34m:\u001b[0m \u001b[0mstr\u001b[0m \u001b[0;34m=\u001b[0m \u001b[0;34mf\"users/{user_name}/eo-bathymetry\"\u001b[0m\u001b[0;34m\u001b[0m\u001b[0;34m\u001b[0m\u001b[0m\n\u001b[1;32m     58\u001b[0m     \u001b[0;32mtry\u001b[0m\u001b[0;34m:\u001b[0m\u001b[0;34m\u001b[0m\u001b[0;34m\u001b[0m\u001b[0m\n\u001b[0;32m---> 59\u001b[0;31m         \u001b[0mee\u001b[0m\u001b[0;34m.\u001b[0m\u001b[0mdata\u001b[0m\u001b[0;34m.\u001b[0m\u001b[0mdeleteAsset\u001b[0m\u001b[0;34m(\u001b[0m\u001b[0masset_id\u001b[0m\u001b[0;34m)\u001b[0m\u001b[0;34m\u001b[0m\u001b[0;34m\u001b[0m\u001b[0m\n\u001b[0m\u001b[1;32m     60\u001b[0m     \u001b[0;32mexcept\u001b[0m \u001b[0mee\u001b[0m\u001b[0;34m.\u001b[0m\u001b[0mEEException\u001b[0m \u001b[0;32mas\u001b[0m \u001b[0me\u001b[0m\u001b[0;34m:\u001b[0m\u001b[0;34m\u001b[0m\u001b[0;34m\u001b[0m\u001b[0m\n\u001b[1;32m     61\u001b[0m         \u001b[0;32mif\u001b[0m \u001b[0;34mf\"Asset \\\"projects/earthengine-legacy/assets/{asset_id}\\\" not found.\"\u001b[0m \u001b[0;32mnot\u001b[0m \u001b[0;32min\u001b[0m \u001b[0mstr\u001b[0m\u001b[0;34m(\u001b[0m\u001b[0me\u001b[0m\u001b[0;34m)\u001b[0m\u001b[0;34m:\u001b[0m\u001b[0;34m\u001b[0m\u001b[0;34m\u001b[0m\u001b[0m\n",
      "\u001b[0;32m/opt/conda/lib/python3.9/site-packages/ee/data.py\u001b[0m in \u001b[0;36mdeleteAsset\u001b[0;34m(assetId)\u001b[0m\n\u001b[1;32m   1070\u001b[0m     \u001b[0massetId\u001b[0m\u001b[0;34m:\u001b[0m \u001b[0mThe\u001b[0m \u001b[0mID\u001b[0m \u001b[0mof\u001b[0m \u001b[0mthe\u001b[0m \u001b[0masset\u001b[0m \u001b[0mto\u001b[0m \u001b[0mdelete\u001b[0m\u001b[0;34m.\u001b[0m\u001b[0;34m\u001b[0m\u001b[0;34m\u001b[0m\u001b[0m\n\u001b[1;32m   1071\u001b[0m   \"\"\"\n\u001b[0;32m-> 1072\u001b[0;31m   _execute_cloud_call(_get_cloud_api_resource().projects().assets().delete(\n\u001b[0m\u001b[1;32m   1073\u001b[0m       name=_cloud_api_utils.convert_asset_id_to_asset_name(assetId)))\n\u001b[1;32m   1074\u001b[0m   \u001b[0;32mreturn\u001b[0m\u001b[0;34m\u001b[0m\u001b[0;34m\u001b[0m\u001b[0m\n",
      "\u001b[0;32m/opt/conda/lib/python3.9/site-packages/ee/data.py\u001b[0m in \u001b[0;36m_execute_cloud_call\u001b[0;34m(call, num_retries)\u001b[0m\n\u001b[1;32m    334\u001b[0m     \u001b[0;32mreturn\u001b[0m \u001b[0mcall\u001b[0m\u001b[0;34m.\u001b[0m\u001b[0mexecute\u001b[0m\u001b[0;34m(\u001b[0m\u001b[0mnum_retries\u001b[0m\u001b[0;34m=\u001b[0m\u001b[0mnum_retries\u001b[0m\u001b[0;34m)\u001b[0m\u001b[0;34m\u001b[0m\u001b[0;34m\u001b[0m\u001b[0m\n\u001b[1;32m    335\u001b[0m   \u001b[0;32mexcept\u001b[0m \u001b[0mgoogleapiclient\u001b[0m\u001b[0;34m.\u001b[0m\u001b[0merrors\u001b[0m\u001b[0;34m.\u001b[0m\u001b[0mHttpError\u001b[0m \u001b[0;32mas\u001b[0m \u001b[0me\u001b[0m\u001b[0;34m:\u001b[0m\u001b[0;34m\u001b[0m\u001b[0;34m\u001b[0m\u001b[0m\n\u001b[0;32m--> 336\u001b[0;31m     \u001b[0;32mraise\u001b[0m \u001b[0m_translate_cloud_exception\u001b[0m\u001b[0;34m(\u001b[0m\u001b[0me\u001b[0m\u001b[0;34m)\u001b[0m\u001b[0;34m\u001b[0m\u001b[0;34m\u001b[0m\u001b[0m\n\u001b[0m\u001b[1;32m    337\u001b[0m \u001b[0;34m\u001b[0m\u001b[0m\n\u001b[1;32m    338\u001b[0m \u001b[0;34m\u001b[0m\u001b[0m\n",
      "\u001b[0;31mEEException\u001b[0m: An internal error has occurred (request: fe97ee67-512e-4987-861b-83824fd86673)"
     ]
    }
   ],
   "source": [
    "export_tiles_to_assets(bounds, bathymetry.Bathymetry(), [10, 11], \"01-01-2020\", \"01-01-2021\", True)\n",
    "Map"
   ]
  }
 ],
 "metadata": {
  "kernelspec": {
   "display_name": "Python 3 (ipykernel)",
   "language": "python",
   "name": "python3"
  },
  "language_info": {
   "codemirror_mode": {
    "name": "ipython",
    "version": 3
   },
   "file_extension": ".py",
   "mimetype": "text/x-python",
   "name": "python",
   "nbconvert_exporter": "python",
   "pygments_lexer": "ipython3",
   "version": "3.9.6"
  }
 },
 "nbformat": 4,
 "nbformat_minor": 2
}
