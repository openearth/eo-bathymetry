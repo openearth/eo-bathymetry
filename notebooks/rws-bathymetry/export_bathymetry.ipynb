{
 "cells": [
  {
   "cell_type": "markdown",
   "metadata": {},
   "source": [
    "# Export Bathymetry\n",
    "\n",
    "Exports bathymetry tiles from a geometry of interest to GEE assets and GCS.\n",
    "TODO: create logic in outside of notebook"
   ]
  },
  {
   "cell_type": "code",
   "execution_count": 1,
   "metadata": {},
   "outputs": [],
   "source": [
    "from pathlib import Path\n",
    "import sys\n",
    "import time\n",
    "\n",
    "import ee\n",
    "import geemap\n",
    "import geetools\n",
    "import geojson\n",
    "\n",
    "sys.path.append(str(Path.cwd().parent.parent))\n",
    "\n",
    "from eobathymetry import bathymetry, tiler, ee_tiler, utils"
   ]
  },
  {
   "cell_type": "markdown",
   "metadata": {},
   "source": [
    "## Create tiles based on input geometry"
   ]
  },
  {
   "cell_type": "code",
   "execution_count": 2,
   "metadata": {},
   "outputs": [],
   "source": [
    "Map = geemap.Map(center=(52.97, 4.74), zoom=10)\n",
    "\n",
    "aoi_json = \"\"\"{\n",
    "  \"type\": \"Polygon\",\n",
    "  \"coordinates\": [\n",
    "    [\n",
    "      [\n",
    "        4.726555204480136,\n",
    "        52.79894952106581\n",
    "      ],\n",
    "      [\n",
    "        5.382988309948886,\n",
    "        53.2615577684405\n",
    "      ],\n",
    "      [\n",
    "        5.226433134167636,\n",
    "        53.48931215536743\n",
    "      ],\n",
    "      [\n",
    "        4.770500516980136,\n",
    "        53.41898585234949\n",
    "      ],\n",
    "      [\n",
    "        4.270622587292636,\n",
    "        52.91018589685636\n",
    "      ],\n",
    "      [\n",
    "        4.726555204480136,\n",
    "        52.79894952106581\n",
    "      ]\n",
    "    ]\n",
    "  ]\n",
    "}\"\"\"\n",
    "bounds = ee.Geometry(geojson.loads(aoi_json))"
   ]
  },
  {
   "cell_type": "markdown",
   "metadata": {},
   "source": [
    "## Plot tiles for quality control"
   ]
  },
  {
   "cell_type": "code",
   "execution_count": null,
   "metadata": {},
   "outputs": [],
   "source": [
    "print(tiler.to_radians(10))\n",
    "print(ee_tiler.to_radians(10).getInfo())"
   ]
  },
  {
   "cell_type": "code",
   "execution_count": null,
   "metadata": {},
   "outputs": [],
   "source": [
    "print(tiler.zoom_to_scale(10))\n",
    "print(ee_tiler.zoom_to_scale(10).getInfo())"
   ]
  },
  {
   "cell_type": "code",
   "execution_count": null,
   "metadata": {},
   "outputs": [],
   "source": [
    "print(tiler.degrees_to_tiles(10, 10, 10)[1])\n",
    "print(ee_tiler.degrees_to_tiles(10, 10, 10).get(1).getInfo())"
   ]
  },
  {
   "cell_type": "code",
   "execution_count": null,
   "metadata": {},
   "outputs": [],
   "source": [
    "import math\n",
    "print(math.pow(2, 10) - 30 - 1)\n",
    "print(ee.Number(2).pow(ee.Number(10)).subtract(30).subtract(1).getInfo())"
   ]
  },
  {
   "cell_type": "code",
   "execution_count": null,
   "metadata": {},
   "outputs": [],
   "source": [
    "print(tiler.get_tile_bounds(10, 30, 10))\n",
    "print(ee_tiler.get_tile_bounds(10, 30, 10).getInfo())"
   ]
  },
  {
   "cell_type": "code",
   "execution_count": null,
   "metadata": {},
   "outputs": [],
   "source": [
    "print(tiler.pixels_to_meters(1298379, 129387198, 11))\n",
    "print(ee_tiler.pixels_to_meters(1298379, 129387198, 11).getInfo())"
   ]
  },
  {
   "cell_type": "code",
   "execution_count": null,
   "metadata": {},
   "outputs": [],
   "source": [
    "print(tiler.get_tiles_for_geometry(bounds, 10).size().getInfo())\n",
    "print(\"------------------\")\n",
    "print(ee_tiler.get_tiles_for_geometry(bounds, 10).size().getInfo())"
   ]
  },
  {
   "cell_type": "code",
   "execution_count": 3,
   "metadata": {},
   "outputs": [],
   "source": [
    "def add_tile_bounds(zoom):\n",
    "    tiles = ee_tiler.get_tiles_for_geometry(bounds, zoom)\n",
    "    Map.addLayer(tiles.style(width=max(1, 10 - zoom), fillColor= \"00000022\"), {}, \"tiles \" + str(zoom))"
   ]
  },
  {
   "cell_type": "code",
   "execution_count": 4,
   "metadata": {},
   "outputs": [
    {
     "data": {
      "application/vnd.jupyter.widget-view+json": {
       "model_id": "b95033847b3c4e84bd75bf055b332e74",
       "version_major": 2,
       "version_minor": 0
      },
      "text/plain": [
       "Map(center=[52.97, 4.74], controls=(WidgetControl(options=['position', 'transparent_bg'], widget=HBox(children…"
      ]
     },
     "metadata": {},
     "output_type": "display_data"
    }
   ],
   "source": [
    "list(map(add_tile_bounds, [8, 9, 10, 11, 12]))\n",
    "Map"
   ]
  },
  {
   "cell_type": "markdown",
   "metadata": {},
   "source": [
    "## Export to earth engine assets\n",
    "Create tiles to export. Then export based tiles and given zoom levels."
   ]
  },
  {
   "cell_type": "code",
   "execution_count": 19,
   "metadata": {},
   "outputs": [],
   "source": [
    "from typing import Any, Dict, List\n",
    "from dateutil.parser import parse\n",
    "import functools"
   ]
  },
  {
   "cell_type": "code",
   "execution_count": 123,
   "metadata": {},
   "outputs": [],
   "source": [
    "def get_tile_bathymetry(tile: ee.Feature, start: ee.String, stop: ee.String) -> ee.Image:\n",
    "    bounds: ee.Geometry = ee.Feature(tile).geometry().bounds(1)\n",
    "    scale: ee.Number = ee_tiler.zoom_to_scale(ee.Number.parse(tile.get(\"zoom\")))\n",
    "    sdb: Bathymetry = bathymetry.Bathymetry()\n",
    "    zoom: ee.String = ee.String(tile.get(\"zoom\"))\n",
    "    tx: ee.String = ee.String(tile.get(\"tx\"))\n",
    "    ty: ee.String = ee.String(tile.get(\"ty\"))\n",
    "    tile_name: ee.String = ee.String(\"z\").cat(zoom).cat(\"_x\").cat(tx).cat(\"_y\").cat(ty).replace(\"\\.\\d+\", \"\", \"g\")\n",
    "    img_fullname: ee.String = ee.String(tile_name).cat(\"_t\").cat(ee.Date(start).millis().format())\n",
    "    tile.set(tile_name)\n",
    "        \n",
    "    image: ee.Image = sdb.compute_inverse_depth(\n",
    "                bounds=bounds,\n",
    "                start=start,\n",
    "                stop=stop,\n",
    "                filter_masked=True,\n",
    "                scale=ee_tiler.zoom_to_scale(ee.Number.parse(tile.get(\"zoom\"))).multiply(5),\n",
    "    )\n",
    "    image = image.set(\n",
    "        \"fullname\", img_fullname,\n",
    "        \"system:time_start\", ee.Date(start).millis(),\n",
    "        \"system:time_stop\", ee.Date(stop).millis(),\n",
    "        \"zoom\", zoom,\n",
    "        \"tx\", tx,\n",
    "        \"ty\", ty\n",
    "    )\n",
    "    return image\n",
    "#     ee.batch.Export.image.toAsset(\n",
    "#         image,\n",
    "#         description=\"export SDB tiles\",\n",
    "#         assetId=ee.String(asset_path).cat(tile_fullname),\n",
    "# #         pyramidingPolicy=None,\n",
    "#         dimensions=None,\n",
    "#         region=bounds,\n",
    "#         scale=None,\n",
    "#         crs=None,\n",
    "#         crsTransform=None,\n",
    "#         maxPixels=None\n",
    "#     )"
   ]
  },
  {
   "cell_type": "code",
   "execution_count": 128,
   "metadata": {},
   "outputs": [],
   "source": [
    "import pprint\n",
    "def export_sdb_tiles(\n",
    "    num_tiles: int,\n",
    "    scale: int,\n",
    "    tile_list: ee.List,\n",
    "    sdb_tiles: ee.ImageCollection,\n",
    "    asset_path: str,\n",
    "    task_list: List[ee.batch.Task],\n",
    "    overwrite: bool\n",
    ") -> List[ee.batch.Task]:\n",
    "    for i in range(num_tiles):\n",
    "        # get tile\n",
    "        temp_tile: ee.Feature = ee.Feature(tile_list.get(i))\n",
    "        \n",
    "        # filter imagecollection based on tile\n",
    "        filtered_ic: ee.ImageCollection = sdb_tiles \\\n",
    "            .filterMetadata(\"tx\", \"equals\", ee.String(temp_tile.get(\"tx\"))) \\\n",
    "            .filterMetadata(\"ty\", \"equals\", ee.String(temp_tile.get(\"ty\"))) \\\n",
    "            .filterMetadata(\"zoom\", \"equals\", ee.String(temp_tile.get(\"zoom\")))\n",
    "        # if filtered correctly, only a single image remains\n",
    "        img: ee.Image = ee.Image(filtered_ic.first())  # have to cast here\n",
    "        # Export image\n",
    "        img_name: str = img.get(\"fullname\").getInfo()\n",
    "        asset_id: str = f\"{asset_path}/{img_name}\"\n",
    "        asset: Dict[str, Any] = ee.data.getInfo(asset_id)\n",
    "        if asset and overwrite:\n",
    "            ee.data.deleteAsset(asset_id)\n",
    "        elif asset:\n",
    "            raise RuntimeError(f\"asset {asset} already exists\")\n",
    "        task: ee.batch.Task = ee.batch.Export.image.toAsset(\n",
    "            img,\n",
    "            assetId=asset_id,\n",
    "            description=img_name,\n",
    "            region=temp_tile.geometry(),\n",
    "            scale=scale\n",
    "        )\n",
    "        task.start()\n",
    "        print(f\"exporting {img_name} to {asset_id}\")\n",
    "        task_list.append(task)\n",
    "    return task_list"
   ]
  },
  {
   "cell_type": "code",
   "execution_count": 129,
   "metadata": {},
   "outputs": [],
   "source": [
    "def export_tiles_to_assets(\n",
    "    asset_path: str,\n",
    "    geometry: ee.Geometry,\n",
    "    sdb: bathymetry.Bathymetry,\n",
    "    zoom: int,\n",
    "    start: str,\n",
    "    stop: str,\n",
    "    step_months: int = 3,\n",
    "    window_years: int = 2,\n",
    "    overwrite: bool = False\n",
    "):\n",
    "    \n",
    "    def create_year_window(year: ee.Number, month: ee.Number) -> ee.Dictionary:\n",
    "        t: ee.Date = ee.Date.fromYMD(year, month, 1)\n",
    "        d_format: str = \"YYYY-MM-dd\"\n",
    "        return ee.Dictionary({\"start\": t.format(d_format), \"stop\": t.advance(window_years, 'year').format(d_format)})\n",
    "        \n",
    "    dates: ee.List = ee.List.sequence(parse(start).year, parse(stop).year).map(\n",
    "        lambda year: ee.List.sequence(1, 12, step_months).map(functools.partial(create_year_window, year))\n",
    "    ).flatten()\n",
    "    \n",
    "    # Get tiles\n",
    "    tiles: ee.FeatureCollection = ee_tiler.get_tiles_for_geometry(geometry, ee.Number(zoom))\n",
    "\n",
    "    scale: float = ee_tiler.zoom_to_scale(zoom).getInfo()\n",
    "    task_list: List[ee.batch.Task] = []\n",
    "    num_tiles: int = tiles.size().getInfo()\n",
    "    tile_list: ee.List = tiles.toList(num_tiles)\n",
    "    \n",
    "#     buffered_bounds: ee.Geometry = tiles.first().geometry().buffer(ee_tiler.zoom_to_scale(zoom)).bounds()\n",
    "#     Map.addLayer(get_tile_bathymetry(tiles.first(), start, stop).clip(buffered_bounds), {}, \"preview SDB\")\n",
    "    for date in dates.getInfo():\n",
    "        sdb_tiles: ee.ImageCollection = tiles.map(lambda tile: get_tile_bathymetry(tile, ee.String(date[\"start\"]), ee.String(date[\"stop\"])))\n",
    "#         image = sdb_tiles.first()\n",
    "#         ee.batch.Export.image.toAsset(\n",
    "#             image,\n",
    "#             assetId=f\"{asset_path}/{image.get('name').getInfo()}\",\n",
    "#             description=image.get('name').getInfo(),\n",
    "#             region=tile.first().geometry(),\n",
    "#             scale=scale\n",
    "#         )\n",
    "#         return\n",
    "\n",
    "        # Now export tiles, based off https://github.com/gee-community/gee_tools/blob/master/geetools/batch/imagecollection.py#L166\n",
    "        export_sdb_tiles(num_tiles, scale, tile_list, sdb_tiles, asset_path, task_list, overwrite)\n",
    "            \n",
    "#     print(bathymetry_tiles.first().getInfo())\n",
    "#     batch.imagecollection.toAsset(\n",
    "#         bathymetry_tiles,\n",
    "#         asset_path,\n",
    "#         namePattern=None,\n",
    "#         scale=ee_tiler.zoom_to_scale(ee.Number(zoom)).getInfo(),\n",
    "#         region=None,\n",
    "#         create=True,\n",
    "#         verbose=False,\n",
    "#         datePattern='yyyyMMdd',\n",
    "#         extra=None\n",
    "#     )"
   ]
  },
  {
   "cell_type": "code",
   "execution_count": 130,
   "metadata": {},
   "outputs": [
    {
     "name": "stdout",
     "output_type": "stream",
     "text": [
      "Asset users/jaapel/eo-bathymetry already exists.\n",
      "exporting z8_x131_y82_t1577836800000 to users/jaapel/eo-bathymetry/z8_x131_y82_t1577836800000\n",
      "exporting z8_x131_y83_t1577836800000 to users/jaapel/eo-bathymetry/z8_x131_y83_t1577836800000\n",
      "exporting z8_x131_y82_t1585699200000 to users/jaapel/eo-bathymetry/z8_x131_y82_t1585699200000\n",
      "exporting z8_x131_y83_t1585699200000 to users/jaapel/eo-bathymetry/z8_x131_y83_t1585699200000\n",
      "exporting z8_x131_y82_t1593561600000 to users/jaapel/eo-bathymetry/z8_x131_y82_t1593561600000\n",
      "exporting z8_x131_y83_t1593561600000 to users/jaapel/eo-bathymetry/z8_x131_y83_t1593561600000\n",
      "exporting z8_x131_y82_t1601510400000 to users/jaapel/eo-bathymetry/z8_x131_y82_t1601510400000\n",
      "exporting z8_x131_y83_t1601510400000 to users/jaapel/eo-bathymetry/z8_x131_y83_t1601510400000\n",
      "exporting z8_x131_y82_t1609459200000 to users/jaapel/eo-bathymetry/z8_x131_y82_t1609459200000\n",
      "exporting z8_x131_y83_t1609459200000 to users/jaapel/eo-bathymetry/z8_x131_y83_t1609459200000\n",
      "exporting z8_x131_y82_t1617235200000 to users/jaapel/eo-bathymetry/z8_x131_y82_t1617235200000\n",
      "exporting z8_x131_y83_t1617235200000 to users/jaapel/eo-bathymetry/z8_x131_y83_t1617235200000\n",
      "exporting z8_x131_y82_t1625097600000 to users/jaapel/eo-bathymetry/z8_x131_y82_t1625097600000\n",
      "exporting z8_x131_y83_t1625097600000 to users/jaapel/eo-bathymetry/z8_x131_y83_t1625097600000\n",
      "exporting z8_x131_y82_t1633046400000 to users/jaapel/eo-bathymetry/z8_x131_y82_t1633046400000\n",
      "exporting z8_x131_y83_t1633046400000 to users/jaapel/eo-bathymetry/z8_x131_y83_t1633046400000\n"
     ]
    }
   ],
   "source": [
    "user_name = ee.data.getAssetRoots()[0][\"id\"].split(\"/\")[-1]\n",
    "asset_path = f\"users/{user_name}/eo-bathymetry\"\n",
    "# asset_dict = ee.data.listAssets({\"parent\": f\"projects/earthengine-legacy/assets/users/{user_name}\"})\n",
    "# if any([f\"users/{user_name}/eo-bathymetry\" in asset[\"id\"] for asset in asset_dict[\"assets\"]]):\n",
    "#     ee.data.deleteAsset(asset_path)\n",
    "ee.data.create_assets(asset_ids=[asset_path], asset_type=\"Folder\", mk_parents=True)\n",
    "\n",
    "export_tiles_to_assets(asset_path, bounds, bathymetry.Bathymetry(), 8, \"2020-01-01\", \"2021-01-01\", overwrite=True)"
   ]
  },
  {
   "cell_type": "code",
   "execution_count": null,
   "metadata": {},
   "outputs": [],
   "source": []
  }
 ],
 "metadata": {
  "kernelspec": {
   "display_name": "Python 3 (ipykernel)",
   "language": "python",
   "name": "python3"
  },
  "language_info": {
   "codemirror_mode": {
    "name": "ipython",
    "version": 3
   },
   "file_extension": ".py",
   "mimetype": "text/x-python",
   "name": "python",
   "nbconvert_exporter": "python",
   "pygments_lexer": "ipython3",
   "version": "3.9.6"
  }
 },
 "nbformat": 4,
 "nbformat_minor": 2
}
