{
 "cells": [
  {
   "cell_type": "markdown",
   "metadata": {},
   "source": [
    "# Export Bathymetry\n",
    "\n",
    "Exports bathymetry tiles from a geometry of interest to GEE assets and GCS.\n",
    "TODO: create logic in outside of notebook"
   ]
  },
  {
   "cell_type": "code",
   "execution_count": 1,
   "metadata": {},
   "outputs": [],
   "source": [
    "from pathlib import Path\n",
    "import sys\n",
    "\n",
    "import ee\n",
    "import geemap\n",
    "import geojson\n",
    "\n",
    "sys.path.append(str(Path.cwd().parent.parent))\n",
    "\n",
    "from eepackages.applications import bathymetry\n",
    "from eepackages import tiler"
   ]
  },
  {
   "cell_type": "markdown",
   "metadata": {},
   "source": [
    "## Create tiles based on input geometry"
   ]
  },
  {
   "cell_type": "code",
   "execution_count": 2,
   "metadata": {},
   "outputs": [],
   "source": [
    "Map = geemap.Map(center=(52.97, 4.74), zoom=10)\n",
    "\n",
    "aoi_json = \"\"\"{\n",
    "  \"type\": \"Polygon\",\n",
    "  \"coordinates\": [\n",
    "    [\n",
    "      [\n",
    "        4.726555204480136,\n",
    "        52.79894952106581\n",
    "      ],\n",
    "      [\n",
    "        5.382988309948886,\n",
    "        53.2615577684405\n",
    "      ],\n",
    "      [\n",
    "        5.226433134167636,\n",
    "        53.48931215536743\n",
    "      ],\n",
    "      [\n",
    "        4.770500516980136,\n",
    "        53.41898585234949\n",
    "      ],\n",
    "      [\n",
    "        4.270622587292636,\n",
    "        52.91018589685636\n",
    "      ],\n",
    "      [\n",
    "        4.726555204480136,\n",
    "        52.79894952106581\n",
    "      ]\n",
    "    ]\n",
    "  ]\n",
    "}\"\"\"\n",
    "bounds = ee.Geometry(geojson.loads(aoi_json))"
   ]
  },
  {
   "cell_type": "markdown",
   "metadata": {},
   "source": [
    "## Plot tiles for quality control"
   ]
  },
  {
   "cell_type": "code",
   "execution_count": 3,
   "metadata": {},
   "outputs": [],
   "source": [
    "def add_tile_bounds(zoom):\n",
    "    tiles = tiler.get_tiles_for_geometry(bounds, zoom)\n",
    "    Map.addLayer(tiles.style(width=max(1, 10 - zoom), fillColor= \"00000022\"), {}, \"tiles \" + str(zoom))"
   ]
  },
  {
   "cell_type": "code",
   "execution_count": 4,
   "metadata": {},
   "outputs": [
    {
     "data": {
      "application/vnd.jupyter.widget-view+json": {
       "model_id": "e381f56209d04175a9937e3b7ff5d399",
       "version_major": 2,
       "version_minor": 0
      },
      "text/plain": [
       "Map(center=[52.97, 4.74], controls=(WidgetControl(options=['position', 'transparent_bg'], widget=HBox(children…"
      ]
     },
     "metadata": {},
     "output_type": "display_data"
    }
   ],
   "source": [
    "list(map(add_tile_bounds, [8, 9, 10, 11, 12]))\n",
    "Map"
   ]
  },
  {
   "cell_type": "markdown",
   "metadata": {},
   "source": [
    "## Export to earth engine assets\n",
    "Create tiles to export. Then export based tiles and given zoom levels."
   ]
  },
  {
   "cell_type": "code",
   "execution_count": 12,
   "metadata": {},
   "outputs": [],
   "source": [
    "from ctypes import ArgumentError\n",
    "from functools import partial\n",
    "from logging import Logger, getLogger\n",
    "from typing import Any, Dict, List, Optional\n",
    "from re import sub\n",
    "\n",
    "from dateutil.parser import parse\n",
    "import ee\n",
    "from eepackages.applications.bathymetry import Bathymetry\n",
    "from eepackages import tiler\n",
    "from googleapiclient.discovery import build\n",
    "\n",
    "logger: Logger = getLogger(__name__)"
   ]
  },
  {
   "cell_type": "code",
   "execution_count": 6,
   "metadata": {},
   "outputs": [],
   "source": [
    "def get_tile_bathymetry(tile: ee.Feature, start: ee.String, stop: ee.String) -> ee.Image:\n",
    "    \"\"\"\n",
    "    Get subtidal bathymetry based on tile geometry.\n",
    "    Server-side compliant for GEE.\n",
    "\n",
    "    args:\n",
    "        tile (ee.Feature): tile geometry used to obtain bathymetry.\n",
    "        start (ee.String): start date in YYYY-MM-dd format.\n",
    "        stop (ee.String): stop date in YYYY-MM-dd format.\n",
    "    \n",
    "    returns:\n",
    "        ee.Image: image containing subtidal bathymetry covering tile.\n",
    "    \"\"\"\n",
    "\n",
    "    bounds: ee.Geometry = ee.Feature(tile).geometry().bounds(1)\n",
    "    sdb: Bathymetry = Bathymetry()\n",
    "    zoom: ee.String = ee.String(tile.get(\"zoom\"))\n",
    "    tx: ee.String = ee.String(tile.get(\"tx\"))\n",
    "    ty: ee.String = ee.String(tile.get(\"ty\"))\n",
    "    tile_name: ee.String = ee.String(\"z\").cat(zoom).cat(\"_x\").cat(tx).cat(\"_y\").cat(ty).replace(\"\\.\\d+\", \"\", \"g\")\n",
    "    img_fullname: ee.String = ee.String(tile_name).cat(\"_t\").cat(ee.Date(start).millis().format())\n",
    "        \n",
    "    image: ee.Image = sdb.compute_inverse_depth(\n",
    "                bounds=bounds,\n",
    "                start=start,\n",
    "                stop=stop,\n",
    "                filter_masked=True,\n",
    "                scale=tiler.zoom_to_scale(ee.Number.parse(tile.get(\"zoom\"))).multiply(5),\n",
    "    )\n",
    "    image = image.set(\n",
    "        \"fullname\", img_fullname,\n",
    "        \"system:time_start\", ee.Date(start).millis(),\n",
    "        \"system:time_stop\", ee.Date(stop).millis(),\n",
    "        \"zoom\", zoom,\n",
    "        \"tx\", tx,\n",
    "        \"ty\", ty\n",
    "    )\n",
    "    return image"
   ]
  },
  {
   "cell_type": "code",
   "execution_count": 7,
   "metadata": {},
   "outputs": [],
   "source": [
    "def tile_to_asset(\n",
    "    image: ee.Image,\n",
    "    tile: ee.Feature,\n",
    "    export_scale: int,\n",
    "    asset_path_prefix: str,\n",
    "    asset_name: str,\n",
    "    overwrite: bool\n",
    ") -> Optional[ee.batch.Task]:\n",
    "    \n",
    "    asset_id: str = f\"{asset_path_prefix}/{asset_name}\"\n",
    "    asset: Dict[str, Any] = ee.data.getInfo(asset_id)\n",
    "    if overwrite and asset:\n",
    "        logger.info(f\"deleting asset {asset}\")\n",
    "        ee.data.deleteAsset(asset_id)\n",
    "    elif asset:\n",
    "        logger.info(f\"asset {asset} already exists, skipping {asset_name}\")\n",
    "        return\n",
    "    task: ee.batch.Task = ee.batch.Export.image.toAsset(\n",
    "        image,\n",
    "        assetId=asset_id,\n",
    "        description=asset_name,\n",
    "        region=tile.geometry(),\n",
    "        scale=export_scale\n",
    "    )\n",
    "    task.start()\n",
    "    logger.info(f\"exporting {asset_name} to {asset_id}\")"
   ]
  },
  {
   "cell_type": "code",
   "execution_count": 13,
   "metadata": {},
   "outputs": [],
   "source": [
    "def tile_to_cloud_storage(\n",
    "    image: ee.Image,\n",
    "    tile: ee.Feature,\n",
    "    export_scale: int,\n",
    "    bucket: str,\n",
    "    bucket_path: str,\n",
    "    overwrite: bool\n",
    ") -> Optional[ee.batch.Task]:\n",
    "    with build('storage', 'v1') as storage:\n",
    "        res = storage.objects().list(bucket=bucket, prefix=\"/\".join(bucket_path.split(\"/\")[:-1])).execute()\n",
    "    if not overwrite:\n",
    "        try:\n",
    "            object_exists = any(map(lambda item: item.get(\"name\").startswith(bucket_path), res.get(\"items\")))\n",
    "        except AttributeError:\n",
    "            object_exists = False\n",
    "        if object_exists:\n",
    "            logger.info(f\"object {bucket_path} already exists in bucket {bucket}, skipping\")\n",
    "            return\n",
    "        \n",
    "    task: ee.batch.Task = ee.batch.Export.image.toCloudStorage(\n",
    "        image,\n",
    "        bucket=bucket,\n",
    "        description=bucket_path,\n",
    "        fileNamePrefix=bucket_path,\n",
    "        region=tile.geometry(),\n",
    "        scale=export_scale\n",
    "    )\n",
    "    task.start()\n",
    "    return task"
   ]
  },
  {
   "cell_type": "code",
   "execution_count": 11,
   "metadata": {},
   "outputs": [
    {
     "ename": "NameError",
     "evalue": "name 'storage' is not defined",
     "output_type": "error",
     "traceback": [
      "\u001b[0;31m---------------------------------------------------------------------------\u001b[0m",
      "\u001b[0;31mNameError\u001b[0m                                 Traceback (most recent call last)",
      "\u001b[0;32m/tmp/ipykernel_103/3998758319.py\u001b[0m in \u001b[0;36m<module>\u001b[0;34m\u001b[0m\n\u001b[1;32m      2\u001b[0m \u001b[0mtile\u001b[0m \u001b[0;34m=\u001b[0m \u001b[0mtiles\u001b[0m\u001b[0;34m.\u001b[0m\u001b[0mfirst\u001b[0m\u001b[0;34m(\u001b[0m\u001b[0;34m)\u001b[0m\u001b[0;34m\u001b[0m\u001b[0;34m\u001b[0m\u001b[0m\n\u001b[1;32m      3\u001b[0m \u001b[0mbathymetry\u001b[0m \u001b[0;34m=\u001b[0m \u001b[0mget_tile_bathymetry\u001b[0m\u001b[0;34m(\u001b[0m\u001b[0mtile\u001b[0m\u001b[0;34m,\u001b[0m \u001b[0;34m\"2017-01-01\"\u001b[0m\u001b[0;34m,\u001b[0m \u001b[0;34m\"2018-01-01\"\u001b[0m\u001b[0;34m)\u001b[0m\u001b[0;34m\u001b[0m\u001b[0;34m\u001b[0m\u001b[0m\n\u001b[0;32m----> 4\u001b[0;31m task = tile_to_cloud_storage(\n\u001b[0m\u001b[1;32m      5\u001b[0m     \u001b[0mimage\u001b[0m\u001b[0;34m=\u001b[0m\u001b[0mbathymetry\u001b[0m\u001b[0;34m,\u001b[0m\u001b[0;34m\u001b[0m\u001b[0;34m\u001b[0m\u001b[0m\n\u001b[1;32m      6\u001b[0m     \u001b[0mtile\u001b[0m\u001b[0;34m=\u001b[0m\u001b[0mtile\u001b[0m\u001b[0;34m,\u001b[0m\u001b[0;34m\u001b[0m\u001b[0;34m\u001b[0m\u001b[0m\n",
      "\u001b[0;32m/tmp/ipykernel_103/2400698868.py\u001b[0m in \u001b[0;36mtile_to_cloud_storage\u001b[0;34m(image, tile, export_scale, bucket, bucket_path, overwrite)\u001b[0m\n\u001b[1;32m      7\u001b[0m     \u001b[0moverwrite\u001b[0m\u001b[0;34m:\u001b[0m \u001b[0mbool\u001b[0m\u001b[0;34m\u001b[0m\u001b[0;34m\u001b[0m\u001b[0m\n\u001b[1;32m      8\u001b[0m ) -> Optional[ee.batch.Task]:\n\u001b[0;32m----> 9\u001b[0;31m     \u001b[0mres\u001b[0m \u001b[0;34m=\u001b[0m \u001b[0mstorage\u001b[0m\u001b[0;34m.\u001b[0m\u001b[0mobjects\u001b[0m\u001b[0;34m(\u001b[0m\u001b[0;34m)\u001b[0m\u001b[0;34m.\u001b[0m\u001b[0mlist\u001b[0m\u001b[0;34m(\u001b[0m\u001b[0mbucket\u001b[0m\u001b[0;34m=\u001b[0m\u001b[0mbucket\u001b[0m\u001b[0;34m,\u001b[0m \u001b[0mprefix\u001b[0m\u001b[0;34m=\u001b[0m\u001b[0;34m\"/\"\u001b[0m\u001b[0;34m.\u001b[0m\u001b[0mjoin\u001b[0m\u001b[0;34m(\u001b[0m\u001b[0mbucket_path\u001b[0m\u001b[0;34m.\u001b[0m\u001b[0msplit\u001b[0m\u001b[0;34m(\u001b[0m\u001b[0;34m\"/\"\u001b[0m\u001b[0;34m)\u001b[0m\u001b[0;34m[\u001b[0m\u001b[0;34m:\u001b[0m\u001b[0;34m-\u001b[0m\u001b[0;36m1\u001b[0m\u001b[0;34m]\u001b[0m\u001b[0;34m)\u001b[0m\u001b[0;34m)\u001b[0m\u001b[0;34m.\u001b[0m\u001b[0mexecute\u001b[0m\u001b[0;34m(\u001b[0m\u001b[0;34m)\u001b[0m\u001b[0;34m\u001b[0m\u001b[0;34m\u001b[0m\u001b[0m\n\u001b[0m\u001b[1;32m     10\u001b[0m     \u001b[0;32mif\u001b[0m \u001b[0;32mnot\u001b[0m \u001b[0moverwrite\u001b[0m\u001b[0;34m:\u001b[0m\u001b[0;34m\u001b[0m\u001b[0;34m\u001b[0m\u001b[0m\n\u001b[1;32m     11\u001b[0m         \u001b[0;32mtry\u001b[0m\u001b[0;34m:\u001b[0m\u001b[0;34m\u001b[0m\u001b[0;34m\u001b[0m\u001b[0m\n",
      "\u001b[0;31mNameError\u001b[0m: name 'storage' is not defined"
     ]
    }
   ],
   "source": [
    "tiles = tiler.get_tiles_for_geometry(bounds, 10)\n",
    "tile = tiles.first()\n",
    "bathymetry = get_tile_bathymetry(tile, \"2017-01-01\", \"2018-01-01\")\n",
    "task = tile_to_cloud_storage(\n",
    "    image=bathymetry,\n",
    "    tile=tile,\n",
    "    export_scale=5000,\n",
    "    bucket=\"eo-bathymetry-automation\",\n",
    "    bucket_path=\"tests/MyNiceTile.tiff\",\n",
    "    overwrite=True\n",
    ")"
   ]
  },
  {
   "cell_type": "code",
   "execution_count": 67,
   "metadata": {},
   "outputs": [
    {
     "name": "stdout",
     "output_type": "stream",
     "text": [
      "{'state': 'READY', 'description': 'myExportImageTask', 'creation_timestamp_ms': 1634562387505, 'update_timestamp_ms': 1634562387505, 'start_timestamp_ms': 0, 'task_type': 'EXPORT_IMAGE', 'id': 'WJTSPW62YKBVWNMEX4P5SUX6', 'name': 'projects/earthengine-legacy/operations/WJTSPW62YKBVWNMEX4P5SUX6'}\n",
      "{'state': 'RUNNING', 'description': 'myExportImageTask', 'creation_timestamp_ms': 1634562387505, 'update_timestamp_ms': 1634562416284, 'start_timestamp_ms': 1634562416146, 'task_type': 'EXPORT_IMAGE', 'attempt': 1, 'id': 'WJTSPW62YKBVWNMEX4P5SUX6', 'name': 'projects/earthengine-legacy/operations/WJTSPW62YKBVWNMEX4P5SUX6'}\n",
      "{'state': 'RUNNING', 'description': 'myExportImageTask', 'creation_timestamp_ms': 1634562387505, 'update_timestamp_ms': 1634562447721, 'start_timestamp_ms': 1634562416146, 'task_type': 'EXPORT_IMAGE', 'attempt': 1, 'id': 'WJTSPW62YKBVWNMEX4P5SUX6', 'name': 'projects/earthengine-legacy/operations/WJTSPW62YKBVWNMEX4P5SUX6'}\n",
      "{'state': 'COMPLETED', 'description': 'myExportImageTask', 'creation_timestamp_ms': 1634562387505, 'update_timestamp_ms': 1634562473054, 'start_timestamp_ms': 1634562416146, 'task_type': 'EXPORT_IMAGE', 'destination_uris': ['https://console.developers.google.com/storage/browser/eo-bathymetry-automation/tests/'], 'attempt': 1, 'id': 'WJTSPW62YKBVWNMEX4P5SUX6', 'name': 'projects/earthengine-legacy/operations/WJTSPW62YKBVWNMEX4P5SUX6'}\n"
     ]
    }
   ],
   "source": [
    "import time\n",
    "task_status = task.status()\n",
    "while task_status['state'] in ['READY', 'RUNNING']:\n",
    "    print(task_status)\n",
    "    time.sleep(30)\n",
    "    task_status = task.status()\n",
    "else:\n",
    "    print(task.status())"
   ]
  },
  {
   "cell_type": "code",
   "execution_count": 63,
   "metadata": {},
   "outputs": [
    {
     "name": "stdout",
     "output_type": "stream",
     "text": [
      "[False, True]\n"
     ]
    }
   ],
   "source": [
    "bucket = \"eo-bathymetry-automation\"\n",
    "bucket_path = \"tests/MyNiceTile.tiff\"\n",
    "\n",
    "with build('storage', 'v1') as storage:\n",
    "    res = storage.objects().list(bucket=bucket, prefix=\"tests\").execute()\n",
    "    print(list(map(lambda item: item.get(\"name\").startswith(bucket_path), res.get(\"items\"))))"
   ]
  },
  {
   "cell_type": "code",
   "execution_count": 14,
   "metadata": {},
   "outputs": [],
   "source": [
    "def export_sdb_tiles(\n",
    "    sink: str,\n",
    "    tile_list: ee.List,\n",
    "    num_tiles: int,\n",
    "    export_scale: int,\n",
    "    sdb_tiles: ee.ImageCollection,\n",
    "    name_suffix: str,\n",
    "    task_list: List[ee.batch.Task],\n",
    "    overwrite: bool,\n",
    "    bucket: Optional[str] = None\n",
    ") -> List[ee.batch.Task]:\n",
    "    \"\"\"\n",
    "    Export list of tiled images containing subtidal bathymetry. Fires off the tasks and adds to the list of tasks.\n",
    "    based on: https://github.com/gee-community/gee_tools/blob/master/geetools/batch/imagecollection.py#L166\n",
    "\n",
    "    args:\n",
    "        sink (str): type of data sink to export to. Viable options are: \"asset\" and \"cloud\".\n",
    "        tile_list (ee.List): list of tile features.\n",
    "        num_tiles (int): number of tiles in `tile_list`.\n",
    "        scale (int): scale of the export product.\n",
    "        sdb_tiles (ee.ImageCollection): collection of subtidal bathymetry images corresponding\n",
    "            to input tiles.\n",
    "        name_suffix (str): unique identifier after tile statistics.\n",
    "        task_list (List[ee.batch.Task]): list of tasks, adds tasks created to this list.\n",
    "        overwrite (bool): whether to overwrite the current assets under the same `asset_path`.\n",
    "        bucket (str): Bucket where the data is stored. Only used when sink = \"cloud\"\n",
    "    \n",
    "    returns:\n",
    "        List[ee.batch.Task]: list of started tasks\n",
    "\n",
    "    \"\"\"\n",
    "    if sink == \"asset\":\n",
    "        user_name: str = ee.data.getAssetRoots()[0][\"id\"].split(\"/\")[-1]\n",
    "        asset_path_prefix: str = f\"users/{user_name}/eo-bathymetry\"\n",
    "        ee.data.create_assets(asset_ids=[asset_path_prefix], asset_type=\"Folder\", mk_parents=True)\n",
    "    \n",
    "    for i in range(num_tiles):\n",
    "        # get tile\n",
    "        temp_tile: ee.Feature = ee.Feature(tile_list.get(i))\n",
    "        tile_metadata: Dict[str, Any] = temp_tile.getInfo()[\"properties\"]\n",
    "        tx: str = tile_metadata[\"tx\"]\n",
    "        ty: str = tile_metadata[\"ty\"]\n",
    "        zoom: str = tile_metadata[\"zoom\"]\n",
    "        # filter imagecollection based on tile\n",
    "        filtered_ic: ee.ImageCollection = sdb_tiles \\\n",
    "            .filterMetadata(\"tx\", \"equals\", tx) \\\n",
    "            .filterMetadata(\"ty\", \"equals\", ty) \\\n",
    "            .filterMetadata(\"zoom\", \"equals\", zoom)\n",
    "        # if filtered correctly, only a single image remains\n",
    "        img: ee.Image = ee.Image(filtered_ic.first())  # have to cast here\n",
    "        img_name: str = sub(r\"\\.\\d+\", \"\", f\"z{zoom}_x{tx}_y{ty}_t\") + name_suffix\n",
    "        # Export image\n",
    "        if sink == \"asset\":  # Replace with case / switch in python 3.10\n",
    "            task: Optional[ee.batch.Task] = tile_to_asset(\n",
    "                image=img,\n",
    "                tile=temp_tile,\n",
    "                export_scale=export_scale,\n",
    "                asset_path_prefix=asset_path_prefix,\n",
    "                asset_name=img_name,\n",
    "                overwrite=overwrite\n",
    "            )\n",
    "            if task: task_list.append(task)\n",
    "        elif sink == \"cloud\":\n",
    "            if not bucket:\n",
    "                raise ArgumentError(\"Sink option requires \\\"bucket\\\" arg.\")\n",
    "            task: ee.batch.Task = tile_to_cloud_storage(\n",
    "                image=img,\n",
    "                tile=temp_tile,\n",
    "                export_scale=export_scale,\n",
    "                bucket=bucket,\n",
    "                bucket_path=img_name,\n",
    "                overwrite=overwrite\n",
    "            )\n",
    "        else:\n",
    "            raise ArgumentError(\"unrecognized data sink: {sink}\")\n",
    "        task_list.append(task)\n",
    "    return task_list"
   ]
  },
  {
   "cell_type": "code",
   "execution_count": 15,
   "metadata": {},
   "outputs": [],
   "source": [
    "def export_tiles_to_assets(\n",
    "    sink: str,\n",
    "    geometry: ee.Geometry,\n",
    "    zoom: int,\n",
    "    start: str,\n",
    "    stop: str,\n",
    "    step_months: int = 3,\n",
    "    window_years: int = 2,\n",
    "    overwrite: bool = False,\n",
    "    bucket: Optional[str] = None\n",
    ") -> None:\n",
    "    \"\"\"\n",
    "    From a geometry, creates tiles of input zoom level, calculates subtidal bathymetry in those\n",
    "    tiles, and exports those tiles.\n",
    "\n",
    "    args:\n",
    "        sink (str): type of data sink to export to. Viable options are: \"asset\" and \"cloud\".\n",
    "        geometry (ee.Geometry): geometry of the area of interest.\n",
    "        zoom (int): zoom level of the to-be-exported tiles.\n",
    "        start (ee.String): start date in YYYY-MM-dd format.\n",
    "        stop (ee.String): stop date in YYYY-MM-dd format.\n",
    "        step_months (int): steps with which to roll the window over which the subtidal bathymetry\n",
    "            is calculated.\n",
    "        windows_years (int): number of years over which the subtidal bathymetry is calculated.\n",
    "    \"\"\"\n",
    "    \n",
    "    def create_year_window(year: ee.Number, month: ee.Number) -> ee.Dictionary:\n",
    "        t: ee.Date = ee.Date.fromYMD(year, month, 1)\n",
    "        d_format: str = \"YYYY-MM-dd\"\n",
    "        return ee.Dictionary({\n",
    "            \"start\": t.format(d_format),\n",
    "            \"stop\": t.advance(window_years, 'year').format(d_format)\n",
    "            })\n",
    "        \n",
    "    dates: ee.List = ee.List.sequence(parse(start).year, parse(stop).year).map(\n",
    "        lambda year: ee.List.sequence(1, 12, step_months).map(partial(create_year_window, year))\n",
    "    ).flatten()\n",
    "    \n",
    "    # Get tiles\n",
    "    tiles: ee.FeatureCollection = tiler.get_tiles_for_geometry(geometry, ee.Number(zoom))\n",
    "\n",
    "    scale: float = tiler.zoom_to_scale(zoom).getInfo()\n",
    "    task_list: List[ee.batch.Task] = []\n",
    "    num_tiles: int = tiles.size().getInfo()\n",
    "    tile_list: ee.List = tiles.toList(num_tiles)\n",
    "\n",
    "    for date in dates.getInfo():\n",
    "        sdb_tiles: ee.ImageCollection = tiles.map(\n",
    "            lambda tile: get_tile_bathymetry(\n",
    "                tile=tile,\n",
    "                start=ee.String(date[\"start\"]),\n",
    "                stop=ee.String(date[\"stop\"])\n",
    "            )\n",
    "        )\n",
    "\n",
    "        # Now export tiles\n",
    "        export_sdb_tiles(\n",
    "            sink=sink,\n",
    "            tile_list=tile_list,\n",
    "            num_tiles=num_tiles,\n",
    "            export_scale=scale,\n",
    "            sdb_tiles=sdb_tiles,\n",
    "            name_suffix=f\"{date['start']}_{date['stop']}\",\n",
    "            task_list=task_list,\n",
    "            overwrite=overwrite,\n",
    "            bucket=bucket\n",
    "        )\n"
   ]
  },
  {
   "cell_type": "code",
   "execution_count": 16,
   "metadata": {},
   "outputs": [],
   "source": [
    "export_tiles_to_assets(\"cloud\", bounds, 8, \"2020-01-01\", \"2021-01-01\", overwrite=True, bucket=\"eo-bathymetry-automation\")"
   ]
  },
  {
   "cell_type": "code",
   "execution_count": 11,
   "metadata": {},
   "outputs": [
    {
     "ename": "EEException",
     "evalue": "Image.load: Image asset 'users/jaapel/eo-bathymetry/z8_x131_y82_t2020-01-01' not found.",
     "output_type": "error",
     "traceback": [
      "\u001b[0;31m---------------------------------------------------------------------------\u001b[0m",
      "\u001b[0;31mHttpError\u001b[0m                                 Traceback (most recent call last)",
      "\u001b[0;32m/opt/conda/lib/python3.9/site-packages/ee/data.py\u001b[0m in \u001b[0;36m_execute_cloud_call\u001b[0;34m(call, num_retries)\u001b[0m\n\u001b[1;32m    333\u001b[0m   \u001b[0;32mtry\u001b[0m\u001b[0;34m:\u001b[0m\u001b[0;34m\u001b[0m\u001b[0;34m\u001b[0m\u001b[0m\n\u001b[0;32m--> 334\u001b[0;31m     \u001b[0;32mreturn\u001b[0m \u001b[0mcall\u001b[0m\u001b[0;34m.\u001b[0m\u001b[0mexecute\u001b[0m\u001b[0;34m(\u001b[0m\u001b[0mnum_retries\u001b[0m\u001b[0;34m=\u001b[0m\u001b[0mnum_retries\u001b[0m\u001b[0;34m)\u001b[0m\u001b[0;34m\u001b[0m\u001b[0;34m\u001b[0m\u001b[0m\n\u001b[0m\u001b[1;32m    335\u001b[0m   \u001b[0;32mexcept\u001b[0m \u001b[0mgoogleapiclient\u001b[0m\u001b[0;34m.\u001b[0m\u001b[0merrors\u001b[0m\u001b[0;34m.\u001b[0m\u001b[0mHttpError\u001b[0m \u001b[0;32mas\u001b[0m \u001b[0me\u001b[0m\u001b[0;34m:\u001b[0m\u001b[0;34m\u001b[0m\u001b[0;34m\u001b[0m\u001b[0m\n",
      "\u001b[0;32m/opt/conda/lib/python3.9/site-packages/googleapiclient/_helpers.py\u001b[0m in \u001b[0;36mpositional_wrapper\u001b[0;34m(*args, **kwargs)\u001b[0m\n\u001b[1;32m    133\u001b[0m                     \u001b[0mlogger\u001b[0m\u001b[0;34m.\u001b[0m\u001b[0mwarning\u001b[0m\u001b[0;34m(\u001b[0m\u001b[0mmessage\u001b[0m\u001b[0;34m)\u001b[0m\u001b[0;34m\u001b[0m\u001b[0;34m\u001b[0m\u001b[0m\n\u001b[0;32m--> 134\u001b[0;31m             \u001b[0;32mreturn\u001b[0m \u001b[0mwrapped\u001b[0m\u001b[0;34m(\u001b[0m\u001b[0;34m*\u001b[0m\u001b[0margs\u001b[0m\u001b[0;34m,\u001b[0m \u001b[0;34m**\u001b[0m\u001b[0mkwargs\u001b[0m\u001b[0;34m)\u001b[0m\u001b[0;34m\u001b[0m\u001b[0;34m\u001b[0m\u001b[0m\n\u001b[0m\u001b[1;32m    135\u001b[0m \u001b[0;34m\u001b[0m\u001b[0m\n",
      "\u001b[0;32m/opt/conda/lib/python3.9/site-packages/googleapiclient/http.py\u001b[0m in \u001b[0;36mexecute\u001b[0;34m(self, http, num_retries)\u001b[0m\n\u001b[1;32m    914\u001b[0m         \u001b[0;32mif\u001b[0m \u001b[0mresp\u001b[0m\u001b[0;34m.\u001b[0m\u001b[0mstatus\u001b[0m \u001b[0;34m>=\u001b[0m \u001b[0;36m300\u001b[0m\u001b[0;34m:\u001b[0m\u001b[0;34m\u001b[0m\u001b[0;34m\u001b[0m\u001b[0m\n\u001b[0;32m--> 915\u001b[0;31m             \u001b[0;32mraise\u001b[0m \u001b[0mHttpError\u001b[0m\u001b[0;34m(\u001b[0m\u001b[0mresp\u001b[0m\u001b[0;34m,\u001b[0m \u001b[0mcontent\u001b[0m\u001b[0;34m,\u001b[0m \u001b[0muri\u001b[0m\u001b[0;34m=\u001b[0m\u001b[0mself\u001b[0m\u001b[0;34m.\u001b[0m\u001b[0muri\u001b[0m\u001b[0;34m)\u001b[0m\u001b[0;34m\u001b[0m\u001b[0;34m\u001b[0m\u001b[0m\n\u001b[0m\u001b[1;32m    916\u001b[0m         \u001b[0;32mreturn\u001b[0m \u001b[0mself\u001b[0m\u001b[0;34m.\u001b[0m\u001b[0mpostproc\u001b[0m\u001b[0;34m(\u001b[0m\u001b[0mresp\u001b[0m\u001b[0;34m,\u001b[0m \u001b[0mcontent\u001b[0m\u001b[0;34m)\u001b[0m\u001b[0;34m\u001b[0m\u001b[0;34m\u001b[0m\u001b[0m\n",
      "\u001b[0;31mHttpError\u001b[0m: <HttpError 400 when requesting https://earthengine.googleapis.com/v1alpha/projects/earthengine-legacy/maps?fields=name&alt=json returned \"Image.load: Image asset 'users/jaapel/eo-bathymetry/z8_x131_y82_t2020-01-01' not found.\". Details: \"Image.load: Image asset 'users/jaapel/eo-bathymetry/z8_x131_y82_t2020-01-01' not found.\">",
      "\nDuring handling of the above exception, another exception occurred:\n",
      "\u001b[0;31mEEException\u001b[0m                               Traceback (most recent call last)",
      "\u001b[0;32m/tmp/ipykernel_61/390293611.py\u001b[0m in \u001b[0;36m<module>\u001b[0;34m\u001b[0m\n\u001b[1;32m      1\u001b[0m \u001b[0masset_id\u001b[0m\u001b[0;34m:\u001b[0m \u001b[0mstr\u001b[0m \u001b[0;34m=\u001b[0m \u001b[0;34m\"users/jaapel/eo-bathymetry/z8_x131_y82_t2020-01-01\"\u001b[0m\u001b[0;34m\u001b[0m\u001b[0;34m\u001b[0m\u001b[0m\n\u001b[0;32m----> 2\u001b[0;31m \u001b[0mMap\u001b[0m\u001b[0;34m.\u001b[0m\u001b[0maddLayer\u001b[0m\u001b[0;34m(\u001b[0m\u001b[0mee\u001b[0m\u001b[0;34m.\u001b[0m\u001b[0mImage\u001b[0m\u001b[0;34m(\u001b[0m\u001b[0masset_id\u001b[0m\u001b[0;34m)\u001b[0m\u001b[0;34m,\u001b[0m \u001b[0;34m{\u001b[0m\u001b[0;34m}\u001b[0m\u001b[0;34m,\u001b[0m \u001b[0;34m\"example sdb_tile\"\u001b[0m\u001b[0;34m)\u001b[0m\u001b[0;34m\u001b[0m\u001b[0;34m\u001b[0m\u001b[0m\n\u001b[0m\u001b[1;32m      3\u001b[0m \u001b[0mMap\u001b[0m\u001b[0;34m\u001b[0m\u001b[0;34m\u001b[0m\u001b[0m\n",
      "\u001b[0;32m/opt/conda/lib/python3.9/site-packages/geemap/geemap.py\u001b[0m in \u001b[0;36madd_ee_layer\u001b[0;34m(self, ee_object, vis_params, name, shown, opacity)\u001b[0m\n\u001b[1;32m   1370\u001b[0m                 \u001b[0;32mraise\u001b[0m \u001b[0mException\u001b[0m\u001b[0;34m(\u001b[0m\u001b[0me\u001b[0m\u001b[0;34m)\u001b[0m\u001b[0;34m\u001b[0m\u001b[0;34m\u001b[0m\u001b[0m\n\u001b[1;32m   1371\u001b[0m \u001b[0;34m\u001b[0m\u001b[0m\n\u001b[0;32m-> 1372\u001b[0;31m         \u001b[0mmap_id_dict\u001b[0m \u001b[0;34m=\u001b[0m \u001b[0mee\u001b[0m\u001b[0;34m.\u001b[0m\u001b[0mImage\u001b[0m\u001b[0;34m(\u001b[0m\u001b[0mimage\u001b[0m\u001b[0;34m)\u001b[0m\u001b[0;34m.\u001b[0m\u001b[0mgetMapId\u001b[0m\u001b[0;34m(\u001b[0m\u001b[0mvis_params\u001b[0m\u001b[0;34m)\u001b[0m\u001b[0;34m\u001b[0m\u001b[0;34m\u001b[0m\u001b[0m\n\u001b[0m\u001b[1;32m   1373\u001b[0m         tile_layer = ipyleaflet.TileLayer(\n\u001b[1;32m   1374\u001b[0m             \u001b[0murl\u001b[0m\u001b[0;34m=\u001b[0m\u001b[0mmap_id_dict\u001b[0m\u001b[0;34m[\u001b[0m\u001b[0;34m\"tile_fetcher\"\u001b[0m\u001b[0;34m]\u001b[0m\u001b[0;34m.\u001b[0m\u001b[0murl_format\u001b[0m\u001b[0;34m,\u001b[0m\u001b[0;34m\u001b[0m\u001b[0;34m\u001b[0m\u001b[0m\n",
      "\u001b[0;32m/opt/conda/lib/python3.9/site-packages/ee/image.py\u001b[0m in \u001b[0;36mgetMapId\u001b[0;34m(self, vis_params)\u001b[0m\n\u001b[1;32m    128\u001b[0m     \u001b[0mvis_image\u001b[0m\u001b[0;34m,\u001b[0m \u001b[0mrequest\u001b[0m \u001b[0;34m=\u001b[0m \u001b[0mself\u001b[0m\u001b[0;34m.\u001b[0m\u001b[0m_apply_visualization\u001b[0m\u001b[0;34m(\u001b[0m\u001b[0mvis_params\u001b[0m\u001b[0;34m)\u001b[0m\u001b[0;34m\u001b[0m\u001b[0;34m\u001b[0m\u001b[0m\n\u001b[1;32m    129\u001b[0m     \u001b[0mrequest\u001b[0m\u001b[0;34m[\u001b[0m\u001b[0;34m'image'\u001b[0m\u001b[0;34m]\u001b[0m \u001b[0;34m=\u001b[0m \u001b[0mvis_image\u001b[0m\u001b[0;34m\u001b[0m\u001b[0;34m\u001b[0m\u001b[0m\n\u001b[0;32m--> 130\u001b[0;31m     \u001b[0mresponse\u001b[0m \u001b[0;34m=\u001b[0m \u001b[0mdata\u001b[0m\u001b[0;34m.\u001b[0m\u001b[0mgetMapId\u001b[0m\u001b[0;34m(\u001b[0m\u001b[0mrequest\u001b[0m\u001b[0;34m)\u001b[0m\u001b[0;34m\u001b[0m\u001b[0;34m\u001b[0m\u001b[0m\n\u001b[0m\u001b[1;32m    131\u001b[0m     \u001b[0mresponse\u001b[0m\u001b[0;34m[\u001b[0m\u001b[0;34m'image'\u001b[0m\u001b[0;34m]\u001b[0m \u001b[0;34m=\u001b[0m \u001b[0mself\u001b[0m\u001b[0;34m\u001b[0m\u001b[0;34m\u001b[0m\u001b[0m\n\u001b[1;32m    132\u001b[0m     \u001b[0;32mreturn\u001b[0m \u001b[0mresponse\u001b[0m\u001b[0;34m\u001b[0m\u001b[0;34m\u001b[0m\u001b[0m\n",
      "\u001b[0;32m/opt/conda/lib/python3.9/site-packages/ee/data.py\u001b[0m in \u001b[0;36mgetMapId\u001b[0;34m(params)\u001b[0m\n\u001b[1;32m    571\u001b[0m   \u001b[0;31m# Make it return only the name field, as otherwise it echoes the entire\u001b[0m\u001b[0;34m\u001b[0m\u001b[0;34m\u001b[0m\u001b[0;34m\u001b[0m\u001b[0m\n\u001b[1;32m    572\u001b[0m   \u001b[0;31m# request, which might be large.\u001b[0m\u001b[0;34m\u001b[0m\u001b[0;34m\u001b[0m\u001b[0;34m\u001b[0m\u001b[0m\n\u001b[0;32m--> 573\u001b[0;31m   result = _execute_cloud_call(\n\u001b[0m\u001b[1;32m    574\u001b[0m       _get_cloud_api_resource().projects().maps().create(\n\u001b[1;32m    575\u001b[0m           parent=_get_projects_path(), fields='name', body=request))\n",
      "\u001b[0;32m/opt/conda/lib/python3.9/site-packages/ee/data.py\u001b[0m in \u001b[0;36m_execute_cloud_call\u001b[0;34m(call, num_retries)\u001b[0m\n\u001b[1;32m    334\u001b[0m     \u001b[0;32mreturn\u001b[0m \u001b[0mcall\u001b[0m\u001b[0;34m.\u001b[0m\u001b[0mexecute\u001b[0m\u001b[0;34m(\u001b[0m\u001b[0mnum_retries\u001b[0m\u001b[0;34m=\u001b[0m\u001b[0mnum_retries\u001b[0m\u001b[0;34m)\u001b[0m\u001b[0;34m\u001b[0m\u001b[0;34m\u001b[0m\u001b[0m\n\u001b[1;32m    335\u001b[0m   \u001b[0;32mexcept\u001b[0m \u001b[0mgoogleapiclient\u001b[0m\u001b[0;34m.\u001b[0m\u001b[0merrors\u001b[0m\u001b[0;34m.\u001b[0m\u001b[0mHttpError\u001b[0m \u001b[0;32mas\u001b[0m \u001b[0me\u001b[0m\u001b[0;34m:\u001b[0m\u001b[0;34m\u001b[0m\u001b[0;34m\u001b[0m\u001b[0m\n\u001b[0;32m--> 336\u001b[0;31m     \u001b[0;32mraise\u001b[0m \u001b[0m_translate_cloud_exception\u001b[0m\u001b[0;34m(\u001b[0m\u001b[0me\u001b[0m\u001b[0;34m)\u001b[0m\u001b[0;34m\u001b[0m\u001b[0;34m\u001b[0m\u001b[0m\n\u001b[0m\u001b[1;32m    337\u001b[0m \u001b[0;34m\u001b[0m\u001b[0m\n\u001b[1;32m    338\u001b[0m \u001b[0;34m\u001b[0m\u001b[0m\n",
      "\u001b[0;31mEEException\u001b[0m: Image.load: Image asset 'users/jaapel/eo-bathymetry/z8_x131_y82_t2020-01-01' not found."
     ]
    }
   ],
   "source": [
    "asset_id: str = \"users/jaapel/eo-bathymetry/z8_x131_y82_t2020-01-01\"\n",
    "Map.addLayer(ee.Image(asset_id), {}, \"example sdb_tile\")\n",
    "Map"
   ]
  },
  {
   "cell_type": "markdown",
   "metadata": {},
   "source": [
    "# Cleanup"
   ]
  },
  {
   "cell_type": "code",
   "execution_count": 27,
   "metadata": {},
   "outputs": [],
   "source": [
    "asset_dict = ee.data.listAssets({\"parent\": f\"projects/earthengine-legacy/assets/{asset_path}\"})\n",
    "for asset in asset_dict[\"assets\"]:\n",
    "    ee.data.deleteAsset(asset[\"id\"])"
   ]
  }
 ],
 "metadata": {
  "kernelspec": {
   "display_name": "Python 3 (ipykernel)",
   "language": "python",
   "name": "python3"
  },
  "language_info": {
   "codemirror_mode": {
    "name": "ipython",
    "version": 3
   },
   "file_extension": ".py",
   "mimetype": "text/x-python",
   "name": "python",
   "nbconvert_exporter": "python",
   "pygments_lexer": "ipython3",
   "version": "3.9.7"
  }
 },
 "nbformat": 4,
 "nbformat_minor": 2
}
