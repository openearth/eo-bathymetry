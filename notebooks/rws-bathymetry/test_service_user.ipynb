{
 "cells": [
  {
   "cell_type": "markdown",
   "metadata": {},
   "source": [
    "# Testing GEE task api with service user\n",
    "We want to start tasks and check with the service user whether we can run EE tasks."
   ]
  },
  {
   "cell_type": "code",
   "execution_count": 1,
   "metadata": {},
   "outputs": [],
   "source": [
    "import ee\n",
    "import pathlib\n",
    "\n",
    "from google.oauth2.service_account import Credentials"
   ]
  },
  {
   "cell_type": "code",
   "execution_count": 2,
   "metadata": {},
   "outputs": [],
   "source": [
    "ee_credentials: Credentials = ee.ServiceAccountCredentials(\n",
    "    '578920177147-ul189ho0h6f559k074lrodsd7i7b84rc@developer.gserviceaccount.com',\n",
    "    str(pathlib.Path.cwd() / \"privatekey.json\")\n",
    ")\n",
    "ee.Initialize(ee_credentials)"
   ]
  },
  {
   "cell_type": "markdown",
   "metadata": {},
   "source": [
    "Start a task and check whether you get the task back in the task list"
   ]
  },
  {
   "cell_type": "code",
   "execution_count": 14,
   "metadata": {},
   "outputs": [],
   "source": [
    "# Based on: https://github.com/google/earthengine-api/blob/d60fdfcc5fe6a508db704faeba448f98737210cc/python/ee/tests/batch_test.py#L78\n",
    "region = [0, 0, 1, 0, 1, 1]\n",
    "task = ee.batch.Export.image.toCloudStorage(\n",
    "          ee.Image(42), assetId='users/foo/bar', region=region, scale=1000)\n",
    "task.start()  # fails as \"Asset 'projects/earthengine-legacy/assets/users/foo' does not exist or doesn't allow this operation.\""
   ]
  },
  {
   "cell_type": "code",
   "execution_count": 25,
   "metadata": {},
   "outputs": [],
   "source": [
    "# Based on: https://github.com/google/earthengine-api/blob/d60fdfcc5fe6a508db704faeba448f98737210cc/python/ee/tests/batch_test.py#L306\n",
    "test_bucket = 'rws-bathymetry-test'\n",
    "region = ee.Geometry.Rectangle(1, 2, 3, 4)\n",
    "config = dict(\n",
    "    region=region['coordinates'],\n",
    "    maxPixels=10**10,\n",
    "    outputBucket=test_bucket)\n",
    "task = ee.batch.Export.image.toCloudStorage(\n",
    "    ee.Image(1), 'TestDescription', config['outputBucket'], None, None,\n",
    "    config['region'], None, None, None, config['maxPixels'], None,\n",
    "    [512, 2048], True)\n",
    "task.start()"
   ]
  },
  {
   "cell_type": "code",
   "execution_count": 3,
   "metadata": {},
   "outputs": [
    {
     "name": "stdout",
     "output_type": "stream",
     "text": [
      "[{'state': 'COMPLETED', 'description': 'TestDescription', 'creation_timestamp_ms': 1631620972120, 'update_timestamp_ms': 1631621030694, 'start_timestamp_ms': 1631621007852, 'task_type': 'EXPORT_IMAGE', 'destination_uris': ['https://console.developers.google.com/storage/browser/rws-bathymetry-test/'], 'attempt': 1, 'id': 'JGTSBPNNYQTNYSZDFIIX4J7I', 'name': 'projects/earthengine-legacy/operations/JGTSBPNNYQTNYSZDFIIX4J7I'}, {'state': 'FAILED', 'description': 'myExportImageTask', 'creation_timestamp_ms': 1631613168613, 'update_timestamp_ms': 1631613207864, 'start_timestamp_ms': 1631613207330, 'task_type': 'EXPORT_IMAGE', 'attempt': 1, 'error_message': \"Asset 'projects/earthengine-legacy/assets/users/foo' does not exist or doesn't allow this operation.\", 'id': 'MKL53WUFDLVMLEQFXRJMMTXD', 'name': 'projects/earthengine-legacy/operations/MKL53WUFDLVMLEQFXRJMMTXD'}]\n"
     ]
    }
   ],
   "source": [
    "statuses = ee.data.getTaskList()\n",
    "print(statuses)"
   ]
  },
  {
   "cell_type": "code",
   "execution_count": null,
   "metadata": {},
   "outputs": [],
   "source": []
  }
 ],
 "metadata": {
  "interpreter": {
   "hash": "77c78dbe6b1f5ff69d8af86ab9d69edc11832560709a782027c732fab7c59c75"
  },
  "kernelspec": {
   "display_name": "Python 3 (ipykernel)",
   "language": "python",
   "name": "python3"
  },
  "language_info": {
   "codemirror_mode": {
    "name": "ipython",
    "version": 3
   },
   "file_extension": ".py",
   "mimetype": "text/x-python",
   "name": "python",
   "nbconvert_exporter": "python",
   "pygments_lexer": "ipython3",
   "version": "3.9.6"
  }
 },
 "nbformat": 4,
 "nbformat_minor": 2
}
