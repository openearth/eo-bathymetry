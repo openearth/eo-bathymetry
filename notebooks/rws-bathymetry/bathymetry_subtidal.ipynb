{
 "cells": [
  {
   "cell_type": "code",
   "execution_count": 31,
   "metadata": {},
   "outputs": [],
   "source": [
    "from pathlib import Path\n",
    "import sys\n",
    "import time\n",
    "\n",
    "import ee\n",
    "import geemap\n",
    "from geojson import Polygon\n",
    "\n",
    "sys.path.append(str(Path.cwd().parent.parent))\n",
    "\n",
    "from eobathymetry import bathymetry"
   ]
  },
  {
   "cell_type": "code",
   "execution_count": 37,
   "metadata": {},
   "outputs": [
    {
     "data": {
      "application/vnd.jupyter.widget-view+json": {
       "model_id": "f5cb2b20bf6447e7b888c066dd802af1",
       "version_major": 2,
       "version_minor": 0
      },
      "text/plain": [
       "Map(center=[52.97, 4.74], controls=(WidgetControl(options=['position', 'transparent_bg'], widget=HBox(children…"
      ]
     },
     "metadata": {},
     "output_type": "display_data"
    }
   ],
   "source": [
    "Map = geemap.Map(center=(52.97, 4.74), zoom=11)\n",
    "bounds = ee.Geometry(Polygon([[\n",
    "    (4.574518432617185, 52.91662291147939),\n",
    "    (4.90548156738281, 52.91662291147939),\n",
    "    (4.90548156738281, 53.02331125248889),\n",
    "    (4.574518432617185, 53.02331125248889),\n",
    "    (4.574518432617185, 52.91662291147939)\n",
    "]]))\n",
    "# scale = Map.get_scale()\n",
    "scale = 30\n",
    "start_date = \"2020-01-01\"\n",
    "stop_date = \"2021-01-01\"\n",
    "\n",
    "sdb = bathymetry.Bathymetry()\n",
    "Map.addLayer(bounds)\n",
    "Map"
   ]
  },
  {
   "cell_type": "code",
   "execution_count": 36,
   "metadata": {},
   "outputs": [
    {
     "data": {
      "application/vnd.jupyter.widget-view+json": {
       "model_id": "3294aa809b6e452ea0ded94b23621d03",
       "version_major": 2,
       "version_minor": 0
      },
      "text/plain": [
       "Map(bottom=171160.0, center=[52.97, 4.74], controls=(WidgetControl(options=['position', 'transparent_bg'], wid…"
      ]
     },
     "metadata": {},
     "output_type": "display_data"
    }
   ],
   "source": [
    "# Run interactively without neighborhood search\n",
    "image = sdb.compute_inverse_depth(\n",
    "    bounds=bounds,\n",
    "    start=start_date,\n",
    "    stop=stop_date,\n",
    "    scale=scale*5,\n",
    "    missions=[\"L8\", \"S2\"],\n",
    "    filter_masked=True,\n",
    "    skip_neighborhood_search=True\n",
    ")\n",
    "Map.addLayer(image.reproject(ee.Projection('EPSG:3857').atScale(90)))  # without projection, takes default projection\n",
    "Map"
   ]
  },
  {
   "cell_type": "code",
   "execution_count": 41,
   "metadata": {},
   "outputs": [
    {
     "name": "stdout",
     "output_type": "stream",
     "text": [
      "Asset users/jaapel/tests/test_inverse_depth not found\n",
      "Asset users/jaapel/tests already exists.\n"
     ]
    }
   ],
   "source": [
    "# Interactive times out, let's use the ee.batch.Export class' static methods to create assets\n",
    "image = sdb.compute_inverse_depth(\n",
    "    bounds=bounds,\n",
    "    start=start_date,\n",
    "    stop=stop_date,\n",
    "    scale=scale*5,\n",
    "    missions=[\"L8\", \"S2\"],\n",
    "    filter_masked=True,\n",
    "    skip_neighborhood_search=False # adds a lot of computation time\n",
    ")\n",
    "user_name = ee.data.getAssetRoots()[0][\"id\"].split(\"/\")[-1]\n",
    "asset_id = f\"users/{user_name}/tests/test_inverse_depth\"\n",
    "try:\n",
    "    ee.data.deleteAsset(asset_id)\n",
    "except ee.EEException as e:\n",
    "    if f\"Asset \\\"projects/earthengine-legacy/assets/{asset_id}\\\" not found.\" not in str(e):\n",
    "        raise e\n",
    "    else:\n",
    "        print(f\"Asset {asset_id} not found\")\n",
    "    \n",
    "ee.data.create_assets(asset_ids=[\"/\".join(asset_id.split(\"/\")[:-1])], asset_type=\"Folder\", mk_parents=True)\n",
    "task = ee.batch.Export.image.toAsset(\n",
    "    image,\n",
    "    description=\"test_compute_inverse_depth\",\n",
    "    assetId=asset_id,\n",
    "    scale=5*scale,\n",
    "    maxPixels=1e11\n",
    ")"
   ]
  },
  {
   "cell_type": "code",
   "execution_count": 42,
   "metadata": {},
   "outputs": [],
   "source": [
    "task.start()"
   ]
  },
  {
   "cell_type": "code",
   "execution_count": null,
   "metadata": {},
   "outputs": [
    {
     "name": "stdout",
     "output_type": "stream",
     "text": [
      "{'state': 'READY', 'description': 'test_compute_inverse_depth', 'creation_timestamp_ms': 1632232934714, 'update_timestamp_ms': 1632232934714, 'start_timestamp_ms': 0, 'task_type': 'EXPORT_IMAGE', 'id': 'GCPKSW62QV4VOIS533YWUESH', 'name': 'projects/earthengine-legacy/operations/GCPKSW62QV4VOIS533YWUESH'}\n",
      "{'state': 'RUNNING', 'description': 'test_compute_inverse_depth', 'creation_timestamp_ms': 1632232934714, 'update_timestamp_ms': 1632232955772, 'start_timestamp_ms': 1632232955628, 'task_type': 'EXPORT_IMAGE', 'attempt': 1, 'id': 'GCPKSW62QV4VOIS533YWUESH', 'name': 'projects/earthengine-legacy/operations/GCPKSW62QV4VOIS533YWUESH'}\n",
      "{'state': 'RUNNING', 'description': 'test_compute_inverse_depth', 'creation_timestamp_ms': 1632232934714, 'update_timestamp_ms': 1632232955772, 'start_timestamp_ms': 1632232955628, 'task_type': 'EXPORT_IMAGE', 'attempt': 1, 'id': 'GCPKSW62QV4VOIS533YWUESH', 'name': 'projects/earthengine-legacy/operations/GCPKSW62QV4VOIS533YWUESH'}\n",
      "{'state': 'RUNNING', 'description': 'test_compute_inverse_depth', 'creation_timestamp_ms': 1632232934714, 'update_timestamp_ms': 1632232955772, 'start_timestamp_ms': 1632232955628, 'task_type': 'EXPORT_IMAGE', 'attempt': 1, 'id': 'GCPKSW62QV4VOIS533YWUESH', 'name': 'projects/earthengine-legacy/operations/GCPKSW62QV4VOIS533YWUESH'}\n",
      "{'state': 'RUNNING', 'description': 'test_compute_inverse_depth', 'creation_timestamp_ms': 1632232934714, 'update_timestamp_ms': 1632232955772, 'start_timestamp_ms': 1632232955628, 'task_type': 'EXPORT_IMAGE', 'attempt': 1, 'id': 'GCPKSW62QV4VOIS533YWUESH', 'name': 'projects/earthengine-legacy/operations/GCPKSW62QV4VOIS533YWUESH'}\n",
      "{'state': 'RUNNING', 'description': 'test_compute_inverse_depth', 'creation_timestamp_ms': 1632232934714, 'update_timestamp_ms': 1632232955772, 'start_timestamp_ms': 1632232955628, 'task_type': 'EXPORT_IMAGE', 'attempt': 1, 'id': 'GCPKSW62QV4VOIS533YWUESH', 'name': 'projects/earthengine-legacy/operations/GCPKSW62QV4VOIS533YWUESH'}\n",
      "{'state': 'RUNNING', 'description': 'test_compute_inverse_depth', 'creation_timestamp_ms': 1632232934714, 'update_timestamp_ms': 1632233105734, 'start_timestamp_ms': 1632232955628, 'task_type': 'EXPORT_IMAGE', 'attempt': 1, 'id': 'GCPKSW62QV4VOIS533YWUESH', 'name': 'projects/earthengine-legacy/operations/GCPKSW62QV4VOIS533YWUESH'}\n",
      "{'state': 'RUNNING', 'description': 'test_compute_inverse_depth', 'creation_timestamp_ms': 1632232934714, 'update_timestamp_ms': 1632233105734, 'start_timestamp_ms': 1632232955628, 'task_type': 'EXPORT_IMAGE', 'attempt': 1, 'id': 'GCPKSW62QV4VOIS533YWUESH', 'name': 'projects/earthengine-legacy/operations/GCPKSW62QV4VOIS533YWUESH'}\n",
      "{'state': 'RUNNING', 'description': 'test_compute_inverse_depth', 'creation_timestamp_ms': 1632232934714, 'update_timestamp_ms': 1632233105734, 'start_timestamp_ms': 1632232955628, 'task_type': 'EXPORT_IMAGE', 'attempt': 1, 'id': 'GCPKSW62QV4VOIS533YWUESH', 'name': 'projects/earthengine-legacy/operations/GCPKSW62QV4VOIS533YWUESH'}\n",
      "{'state': 'RUNNING', 'description': 'test_compute_inverse_depth', 'creation_timestamp_ms': 1632232934714, 'update_timestamp_ms': 1632233105734, 'start_timestamp_ms': 1632232955628, 'task_type': 'EXPORT_IMAGE', 'attempt': 1, 'id': 'GCPKSW62QV4VOIS533YWUESH', 'name': 'projects/earthengine-legacy/operations/GCPKSW62QV4VOIS533YWUESH'}\n",
      "{'state': 'RUNNING', 'description': 'test_compute_inverse_depth', 'creation_timestamp_ms': 1632232934714, 'update_timestamp_ms': 1632233105734, 'start_timestamp_ms': 1632232955628, 'task_type': 'EXPORT_IMAGE', 'attempt': 1, 'id': 'GCPKSW62QV4VOIS533YWUESH', 'name': 'projects/earthengine-legacy/operations/GCPKSW62QV4VOIS533YWUESH'}\n",
      "{'state': 'RUNNING', 'description': 'test_compute_inverse_depth', 'creation_timestamp_ms': 1632232934714, 'update_timestamp_ms': 1632233255733, 'start_timestamp_ms': 1632232955628, 'task_type': 'EXPORT_IMAGE', 'attempt': 1, 'id': 'GCPKSW62QV4VOIS533YWUESH', 'name': 'projects/earthengine-legacy/operations/GCPKSW62QV4VOIS533YWUESH'}\n",
      "{'state': 'RUNNING', 'description': 'test_compute_inverse_depth', 'creation_timestamp_ms': 1632232934714, 'update_timestamp_ms': 1632233255733, 'start_timestamp_ms': 1632232955628, 'task_type': 'EXPORT_IMAGE', 'attempt': 1, 'id': 'GCPKSW62QV4VOIS533YWUESH', 'name': 'projects/earthengine-legacy/operations/GCPKSW62QV4VOIS533YWUESH'}\n",
      "{'state': 'RUNNING', 'description': 'test_compute_inverse_depth', 'creation_timestamp_ms': 1632232934714, 'update_timestamp_ms': 1632233255733, 'start_timestamp_ms': 1632232955628, 'task_type': 'EXPORT_IMAGE', 'attempt': 1, 'id': 'GCPKSW62QV4VOIS533YWUESH', 'name': 'projects/earthengine-legacy/operations/GCPKSW62QV4VOIS533YWUESH'}\n",
      "{'state': 'RUNNING', 'description': 'test_compute_inverse_depth', 'creation_timestamp_ms': 1632232934714, 'update_timestamp_ms': 1632233255733, 'start_timestamp_ms': 1632232955628, 'task_type': 'EXPORT_IMAGE', 'attempt': 1, 'id': 'GCPKSW62QV4VOIS533YWUESH', 'name': 'projects/earthengine-legacy/operations/GCPKSW62QV4VOIS533YWUESH'}\n",
      "{'state': 'RUNNING', 'description': 'test_compute_inverse_depth', 'creation_timestamp_ms': 1632232934714, 'update_timestamp_ms': 1632233255733, 'start_timestamp_ms': 1632232955628, 'task_type': 'EXPORT_IMAGE', 'attempt': 1, 'id': 'GCPKSW62QV4VOIS533YWUESH', 'name': 'projects/earthengine-legacy/operations/GCPKSW62QV4VOIS533YWUESH'}\n",
      "{'state': 'RUNNING', 'description': 'test_compute_inverse_depth', 'creation_timestamp_ms': 1632232934714, 'update_timestamp_ms': 1632233405735, 'start_timestamp_ms': 1632232955628, 'task_type': 'EXPORT_IMAGE', 'attempt': 1, 'id': 'GCPKSW62QV4VOIS533YWUESH', 'name': 'projects/earthengine-legacy/operations/GCPKSW62QV4VOIS533YWUESH'}\n",
      "{'state': 'RUNNING', 'description': 'test_compute_inverse_depth', 'creation_timestamp_ms': 1632232934714, 'update_timestamp_ms': 1632233405735, 'start_timestamp_ms': 1632232955628, 'task_type': 'EXPORT_IMAGE', 'attempt': 1, 'id': 'GCPKSW62QV4VOIS533YWUESH', 'name': 'projects/earthengine-legacy/operations/GCPKSW62QV4VOIS533YWUESH'}\n",
      "{'state': 'RUNNING', 'description': 'test_compute_inverse_depth', 'creation_timestamp_ms': 1632232934714, 'update_timestamp_ms': 1632233405735, 'start_timestamp_ms': 1632232955628, 'task_type': 'EXPORT_IMAGE', 'attempt': 1, 'id': 'GCPKSW62QV4VOIS533YWUESH', 'name': 'projects/earthengine-legacy/operations/GCPKSW62QV4VOIS533YWUESH'}\n",
      "{'state': 'RUNNING', 'description': 'test_compute_inverse_depth', 'creation_timestamp_ms': 1632232934714, 'update_timestamp_ms': 1632233405735, 'start_timestamp_ms': 1632232955628, 'task_type': 'EXPORT_IMAGE', 'attempt': 1, 'id': 'GCPKSW62QV4VOIS533YWUESH', 'name': 'projects/earthengine-legacy/operations/GCPKSW62QV4VOIS533YWUESH'}\n",
      "{'state': 'RUNNING', 'description': 'test_compute_inverse_depth', 'creation_timestamp_ms': 1632232934714, 'update_timestamp_ms': 1632233405735, 'start_timestamp_ms': 1632232955628, 'task_type': 'EXPORT_IMAGE', 'attempt': 1, 'id': 'GCPKSW62QV4VOIS533YWUESH', 'name': 'projects/earthengine-legacy/operations/GCPKSW62QV4VOIS533YWUESH'}\n",
      "{'state': 'RUNNING', 'description': 'test_compute_inverse_depth', 'creation_timestamp_ms': 1632232934714, 'update_timestamp_ms': 1632233555729, 'start_timestamp_ms': 1632232955628, 'task_type': 'EXPORT_IMAGE', 'attempt': 1, 'id': 'GCPKSW62QV4VOIS533YWUESH', 'name': 'projects/earthengine-legacy/operations/GCPKSW62QV4VOIS533YWUESH'}\n",
      "{'state': 'RUNNING', 'description': 'test_compute_inverse_depth', 'creation_timestamp_ms': 1632232934714, 'update_timestamp_ms': 1632233555729, 'start_timestamp_ms': 1632232955628, 'task_type': 'EXPORT_IMAGE', 'attempt': 1, 'id': 'GCPKSW62QV4VOIS533YWUESH', 'name': 'projects/earthengine-legacy/operations/GCPKSW62QV4VOIS533YWUESH'}\n",
      "{'state': 'RUNNING', 'description': 'test_compute_inverse_depth', 'creation_timestamp_ms': 1632232934714, 'update_timestamp_ms': 1632233555729, 'start_timestamp_ms': 1632232955628, 'task_type': 'EXPORT_IMAGE', 'attempt': 1, 'id': 'GCPKSW62QV4VOIS533YWUESH', 'name': 'projects/earthengine-legacy/operations/GCPKSW62QV4VOIS533YWUESH'}\n",
      "{'state': 'RUNNING', 'description': 'test_compute_inverse_depth', 'creation_timestamp_ms': 1632232934714, 'update_timestamp_ms': 1632233555729, 'start_timestamp_ms': 1632232955628, 'task_type': 'EXPORT_IMAGE', 'attempt': 1, 'id': 'GCPKSW62QV4VOIS533YWUESH', 'name': 'projects/earthengine-legacy/operations/GCPKSW62QV4VOIS533YWUESH'}\n"
     ]
    },
    {
     "name": "stdout",
     "output_type": "stream",
     "text": [
      "{'state': 'RUNNING', 'description': 'test_compute_inverse_depth', 'creation_timestamp_ms': 1632232934714, 'update_timestamp_ms': 1632233555729, 'start_timestamp_ms': 1632232955628, 'task_type': 'EXPORT_IMAGE', 'attempt': 1, 'id': 'GCPKSW62QV4VOIS533YWUESH', 'name': 'projects/earthengine-legacy/operations/GCPKSW62QV4VOIS533YWUESH'}\n",
      "{'state': 'RUNNING', 'description': 'test_compute_inverse_depth', 'creation_timestamp_ms': 1632232934714, 'update_timestamp_ms': 1632233705734, 'start_timestamp_ms': 1632232955628, 'task_type': 'EXPORT_IMAGE', 'attempt': 1, 'id': 'GCPKSW62QV4VOIS533YWUESH', 'name': 'projects/earthengine-legacy/operations/GCPKSW62QV4VOIS533YWUESH'}\n",
      "{'state': 'RUNNING', 'description': 'test_compute_inverse_depth', 'creation_timestamp_ms': 1632232934714, 'update_timestamp_ms': 1632233705734, 'start_timestamp_ms': 1632232955628, 'task_type': 'EXPORT_IMAGE', 'attempt': 1, 'id': 'GCPKSW62QV4VOIS533YWUESH', 'name': 'projects/earthengine-legacy/operations/GCPKSW62QV4VOIS533YWUESH'}\n",
      "{'state': 'RUNNING', 'description': 'test_compute_inverse_depth', 'creation_timestamp_ms': 1632232934714, 'update_timestamp_ms': 1632233705734, 'start_timestamp_ms': 1632232955628, 'task_type': 'EXPORT_IMAGE', 'attempt': 1, 'id': 'GCPKSW62QV4VOIS533YWUESH', 'name': 'projects/earthengine-legacy/operations/GCPKSW62QV4VOIS533YWUESH'}\n",
      "{'state': 'RUNNING', 'description': 'test_compute_inverse_depth', 'creation_timestamp_ms': 1632232934714, 'update_timestamp_ms': 1632233705734, 'start_timestamp_ms': 1632232955628, 'task_type': 'EXPORT_IMAGE', 'attempt': 1, 'id': 'GCPKSW62QV4VOIS533YWUESH', 'name': 'projects/earthengine-legacy/operations/GCPKSW62QV4VOIS533YWUESH'}\n",
      "{'state': 'RUNNING', 'description': 'test_compute_inverse_depth', 'creation_timestamp_ms': 1632232934714, 'update_timestamp_ms': 1632233705734, 'start_timestamp_ms': 1632232955628, 'task_type': 'EXPORT_IMAGE', 'attempt': 1, 'id': 'GCPKSW62QV4VOIS533YWUESH', 'name': 'projects/earthengine-legacy/operations/GCPKSW62QV4VOIS533YWUESH'}\n",
      "{'state': 'RUNNING', 'description': 'test_compute_inverse_depth', 'creation_timestamp_ms': 1632232934714, 'update_timestamp_ms': 1632233855735, 'start_timestamp_ms': 1632232955628, 'task_type': 'EXPORT_IMAGE', 'attempt': 1, 'id': 'GCPKSW62QV4VOIS533YWUESH', 'name': 'projects/earthengine-legacy/operations/GCPKSW62QV4VOIS533YWUESH'}\n",
      "{'state': 'RUNNING', 'description': 'test_compute_inverse_depth', 'creation_timestamp_ms': 1632232934714, 'update_timestamp_ms': 1632233855735, 'start_timestamp_ms': 1632232955628, 'task_type': 'EXPORT_IMAGE', 'attempt': 1, 'id': 'GCPKSW62QV4VOIS533YWUESH', 'name': 'projects/earthengine-legacy/operations/GCPKSW62QV4VOIS533YWUESH'}\n",
      "{'state': 'RUNNING', 'description': 'test_compute_inverse_depth', 'creation_timestamp_ms': 1632232934714, 'update_timestamp_ms': 1632233855735, 'start_timestamp_ms': 1632232955628, 'task_type': 'EXPORT_IMAGE', 'attempt': 1, 'id': 'GCPKSW62QV4VOIS533YWUESH', 'name': 'projects/earthengine-legacy/operations/GCPKSW62QV4VOIS533YWUESH'}\n",
      "{'state': 'RUNNING', 'description': 'test_compute_inverse_depth', 'creation_timestamp_ms': 1632232934714, 'update_timestamp_ms': 1632233855735, 'start_timestamp_ms': 1632232955628, 'task_type': 'EXPORT_IMAGE', 'attempt': 1, 'id': 'GCPKSW62QV4VOIS533YWUESH', 'name': 'projects/earthengine-legacy/operations/GCPKSW62QV4VOIS533YWUESH'}\n",
      "{'state': 'RUNNING', 'description': 'test_compute_inverse_depth', 'creation_timestamp_ms': 1632232934714, 'update_timestamp_ms': 1632233855735, 'start_timestamp_ms': 1632232955628, 'task_type': 'EXPORT_IMAGE', 'attempt': 1, 'id': 'GCPKSW62QV4VOIS533YWUESH', 'name': 'projects/earthengine-legacy/operations/GCPKSW62QV4VOIS533YWUESH'}\n",
      "{'state': 'RUNNING', 'description': 'test_compute_inverse_depth', 'creation_timestamp_ms': 1632232934714, 'update_timestamp_ms': 1632234005729, 'start_timestamp_ms': 1632232955628, 'task_type': 'EXPORT_IMAGE', 'attempt': 1, 'id': 'GCPKSW62QV4VOIS533YWUESH', 'name': 'projects/earthengine-legacy/operations/GCPKSW62QV4VOIS533YWUESH'}\n",
      "{'state': 'RUNNING', 'description': 'test_compute_inverse_depth', 'creation_timestamp_ms': 1632232934714, 'update_timestamp_ms': 1632234005729, 'start_timestamp_ms': 1632232955628, 'task_type': 'EXPORT_IMAGE', 'attempt': 1, 'id': 'GCPKSW62QV4VOIS533YWUESH', 'name': 'projects/earthengine-legacy/operations/GCPKSW62QV4VOIS533YWUESH'}\n",
      "{'state': 'RUNNING', 'description': 'test_compute_inverse_depth', 'creation_timestamp_ms': 1632232934714, 'update_timestamp_ms': 1632234005729, 'start_timestamp_ms': 1632232955628, 'task_type': 'EXPORT_IMAGE', 'attempt': 1, 'id': 'GCPKSW62QV4VOIS533YWUESH', 'name': 'projects/earthengine-legacy/operations/GCPKSW62QV4VOIS533YWUESH'}\n",
      "{'state': 'RUNNING', 'description': 'test_compute_inverse_depth', 'creation_timestamp_ms': 1632232934714, 'update_timestamp_ms': 1632234005729, 'start_timestamp_ms': 1632232955628, 'task_type': 'EXPORT_IMAGE', 'attempt': 1, 'id': 'GCPKSW62QV4VOIS533YWUESH', 'name': 'projects/earthengine-legacy/operations/GCPKSW62QV4VOIS533YWUESH'}\n",
      "{'state': 'RUNNING', 'description': 'test_compute_inverse_depth', 'creation_timestamp_ms': 1632232934714, 'update_timestamp_ms': 1632234005729, 'start_timestamp_ms': 1632232955628, 'task_type': 'EXPORT_IMAGE', 'attempt': 1, 'id': 'GCPKSW62QV4VOIS533YWUESH', 'name': 'projects/earthengine-legacy/operations/GCPKSW62QV4VOIS533YWUESH'}\n",
      "{'state': 'RUNNING', 'description': 'test_compute_inverse_depth', 'creation_timestamp_ms': 1632232934714, 'update_timestamp_ms': 1632234155728, 'start_timestamp_ms': 1632232955628, 'task_type': 'EXPORT_IMAGE', 'attempt': 1, 'id': 'GCPKSW62QV4VOIS533YWUESH', 'name': 'projects/earthengine-legacy/operations/GCPKSW62QV4VOIS533YWUESH'}\n",
      "{'state': 'RUNNING', 'description': 'test_compute_inverse_depth', 'creation_timestamp_ms': 1632232934714, 'update_timestamp_ms': 1632234155728, 'start_timestamp_ms': 1632232955628, 'task_type': 'EXPORT_IMAGE', 'attempt': 1, 'id': 'GCPKSW62QV4VOIS533YWUESH', 'name': 'projects/earthengine-legacy/operations/GCPKSW62QV4VOIS533YWUESH'}\n",
      "{'state': 'RUNNING', 'description': 'test_compute_inverse_depth', 'creation_timestamp_ms': 1632232934714, 'update_timestamp_ms': 1632234155728, 'start_timestamp_ms': 1632232955628, 'task_type': 'EXPORT_IMAGE', 'attempt': 1, 'id': 'GCPKSW62QV4VOIS533YWUESH', 'name': 'projects/earthengine-legacy/operations/GCPKSW62QV4VOIS533YWUESH'}\n",
      "{'state': 'RUNNING', 'description': 'test_compute_inverse_depth', 'creation_timestamp_ms': 1632232934714, 'update_timestamp_ms': 1632234155728, 'start_timestamp_ms': 1632232955628, 'task_type': 'EXPORT_IMAGE', 'attempt': 1, 'id': 'GCPKSW62QV4VOIS533YWUESH', 'name': 'projects/earthengine-legacy/operations/GCPKSW62QV4VOIS533YWUESH'}\n",
      "{'state': 'RUNNING', 'description': 'test_compute_inverse_depth', 'creation_timestamp_ms': 1632232934714, 'update_timestamp_ms': 1632234155728, 'start_timestamp_ms': 1632232955628, 'task_type': 'EXPORT_IMAGE', 'attempt': 1, 'id': 'GCPKSW62QV4VOIS533YWUESH', 'name': 'projects/earthengine-legacy/operations/GCPKSW62QV4VOIS533YWUESH'}\n",
      "{'state': 'RUNNING', 'description': 'test_compute_inverse_depth', 'creation_timestamp_ms': 1632232934714, 'update_timestamp_ms': 1632234305736, 'start_timestamp_ms': 1632232955628, 'task_type': 'EXPORT_IMAGE', 'attempt': 1, 'id': 'GCPKSW62QV4VOIS533YWUESH', 'name': 'projects/earthengine-legacy/operations/GCPKSW62QV4VOIS533YWUESH'}\n",
      "{'state': 'RUNNING', 'description': 'test_compute_inverse_depth', 'creation_timestamp_ms': 1632232934714, 'update_timestamp_ms': 1632234305736, 'start_timestamp_ms': 1632232955628, 'task_type': 'EXPORT_IMAGE', 'attempt': 1, 'id': 'GCPKSW62QV4VOIS533YWUESH', 'name': 'projects/earthengine-legacy/operations/GCPKSW62QV4VOIS533YWUESH'}\n",
      "{'state': 'RUNNING', 'description': 'test_compute_inverse_depth', 'creation_timestamp_ms': 1632232934714, 'update_timestamp_ms': 1632234305736, 'start_timestamp_ms': 1632232955628, 'task_type': 'EXPORT_IMAGE', 'attempt': 1, 'id': 'GCPKSW62QV4VOIS533YWUESH', 'name': 'projects/earthengine-legacy/operations/GCPKSW62QV4VOIS533YWUESH'}\n",
      "{'state': 'RUNNING', 'description': 'test_compute_inverse_depth', 'creation_timestamp_ms': 1632232934714, 'update_timestamp_ms': 1632234305736, 'start_timestamp_ms': 1632232955628, 'task_type': 'EXPORT_IMAGE', 'attempt': 1, 'id': 'GCPKSW62QV4VOIS533YWUESH', 'name': 'projects/earthengine-legacy/operations/GCPKSW62QV4VOIS533YWUESH'}\n"
     ]
    },
    {
     "name": "stdout",
     "output_type": "stream",
     "text": [
      "{'state': 'RUNNING', 'description': 'test_compute_inverse_depth', 'creation_timestamp_ms': 1632232934714, 'update_timestamp_ms': 1632234305736, 'start_timestamp_ms': 1632232955628, 'task_type': 'EXPORT_IMAGE', 'attempt': 1, 'id': 'GCPKSW62QV4VOIS533YWUESH', 'name': 'projects/earthengine-legacy/operations/GCPKSW62QV4VOIS533YWUESH'}\n",
      "{'state': 'RUNNING', 'description': 'test_compute_inverse_depth', 'creation_timestamp_ms': 1632232934714, 'update_timestamp_ms': 1632234455736, 'start_timestamp_ms': 1632232955628, 'task_type': 'EXPORT_IMAGE', 'attempt': 1, 'id': 'GCPKSW62QV4VOIS533YWUESH', 'name': 'projects/earthengine-legacy/operations/GCPKSW62QV4VOIS533YWUESH'}\n",
      "{'state': 'RUNNING', 'description': 'test_compute_inverse_depth', 'creation_timestamp_ms': 1632232934714, 'update_timestamp_ms': 1632234455736, 'start_timestamp_ms': 1632232955628, 'task_type': 'EXPORT_IMAGE', 'attempt': 1, 'id': 'GCPKSW62QV4VOIS533YWUESH', 'name': 'projects/earthengine-legacy/operations/GCPKSW62QV4VOIS533YWUESH'}\n",
      "{'state': 'RUNNING', 'description': 'test_compute_inverse_depth', 'creation_timestamp_ms': 1632232934714, 'update_timestamp_ms': 1632234455736, 'start_timestamp_ms': 1632232955628, 'task_type': 'EXPORT_IMAGE', 'attempt': 1, 'id': 'GCPKSW62QV4VOIS533YWUESH', 'name': 'projects/earthengine-legacy/operations/GCPKSW62QV4VOIS533YWUESH'}\n",
      "{'state': 'RUNNING', 'description': 'test_compute_inverse_depth', 'creation_timestamp_ms': 1632232934714, 'update_timestamp_ms': 1632234455736, 'start_timestamp_ms': 1632232955628, 'task_type': 'EXPORT_IMAGE', 'attempt': 1, 'id': 'GCPKSW62QV4VOIS533YWUESH', 'name': 'projects/earthengine-legacy/operations/GCPKSW62QV4VOIS533YWUESH'}\n",
      "{'state': 'RUNNING', 'description': 'test_compute_inverse_depth', 'creation_timestamp_ms': 1632232934714, 'update_timestamp_ms': 1632234605729, 'start_timestamp_ms': 1632232955628, 'task_type': 'EXPORT_IMAGE', 'attempt': 1, 'id': 'GCPKSW62QV4VOIS533YWUESH', 'name': 'projects/earthengine-legacy/operations/GCPKSW62QV4VOIS533YWUESH'}\n",
      "{'state': 'RUNNING', 'description': 'test_compute_inverse_depth', 'creation_timestamp_ms': 1632232934714, 'update_timestamp_ms': 1632234605729, 'start_timestamp_ms': 1632232955628, 'task_type': 'EXPORT_IMAGE', 'attempt': 1, 'id': 'GCPKSW62QV4VOIS533YWUESH', 'name': 'projects/earthengine-legacy/operations/GCPKSW62QV4VOIS533YWUESH'}\n",
      "{'state': 'RUNNING', 'description': 'test_compute_inverse_depth', 'creation_timestamp_ms': 1632232934714, 'update_timestamp_ms': 1632234605729, 'start_timestamp_ms': 1632232955628, 'task_type': 'EXPORT_IMAGE', 'attempt': 1, 'id': 'GCPKSW62QV4VOIS533YWUESH', 'name': 'projects/earthengine-legacy/operations/GCPKSW62QV4VOIS533YWUESH'}\n",
      "{'state': 'RUNNING', 'description': 'test_compute_inverse_depth', 'creation_timestamp_ms': 1632232934714, 'update_timestamp_ms': 1632234605729, 'start_timestamp_ms': 1632232955628, 'task_type': 'EXPORT_IMAGE', 'attempt': 1, 'id': 'GCPKSW62QV4VOIS533YWUESH', 'name': 'projects/earthengine-legacy/operations/GCPKSW62QV4VOIS533YWUESH'}\n",
      "{'state': 'RUNNING', 'description': 'test_compute_inverse_depth', 'creation_timestamp_ms': 1632232934714, 'update_timestamp_ms': 1632234605729, 'start_timestamp_ms': 1632232955628, 'task_type': 'EXPORT_IMAGE', 'attempt': 1, 'id': 'GCPKSW62QV4VOIS533YWUESH', 'name': 'projects/earthengine-legacy/operations/GCPKSW62QV4VOIS533YWUESH'}\n",
      "{'state': 'RUNNING', 'description': 'test_compute_inverse_depth', 'creation_timestamp_ms': 1632232934714, 'update_timestamp_ms': 1632234755736, 'start_timestamp_ms': 1632232955628, 'task_type': 'EXPORT_IMAGE', 'attempt': 1, 'id': 'GCPKSW62QV4VOIS533YWUESH', 'name': 'projects/earthengine-legacy/operations/GCPKSW62QV4VOIS533YWUESH'}\n",
      "{'state': 'RUNNING', 'description': 'test_compute_inverse_depth', 'creation_timestamp_ms': 1632232934714, 'update_timestamp_ms': 1632234755736, 'start_timestamp_ms': 1632232955628, 'task_type': 'EXPORT_IMAGE', 'attempt': 1, 'id': 'GCPKSW62QV4VOIS533YWUESH', 'name': 'projects/earthengine-legacy/operations/GCPKSW62QV4VOIS533YWUESH'}\n",
      "{'state': 'RUNNING', 'description': 'test_compute_inverse_depth', 'creation_timestamp_ms': 1632232934714, 'update_timestamp_ms': 1632234755736, 'start_timestamp_ms': 1632232955628, 'task_type': 'EXPORT_IMAGE', 'attempt': 1, 'id': 'GCPKSW62QV4VOIS533YWUESH', 'name': 'projects/earthengine-legacy/operations/GCPKSW62QV4VOIS533YWUESH'}\n",
      "{'state': 'RUNNING', 'description': 'test_compute_inverse_depth', 'creation_timestamp_ms': 1632232934714, 'update_timestamp_ms': 1632234755736, 'start_timestamp_ms': 1632232955628, 'task_type': 'EXPORT_IMAGE', 'attempt': 1, 'id': 'GCPKSW62QV4VOIS533YWUESH', 'name': 'projects/earthengine-legacy/operations/GCPKSW62QV4VOIS533YWUESH'}\n",
      "{'state': 'RUNNING', 'description': 'test_compute_inverse_depth', 'creation_timestamp_ms': 1632232934714, 'update_timestamp_ms': 1632234755736, 'start_timestamp_ms': 1632232955628, 'task_type': 'EXPORT_IMAGE', 'attempt': 1, 'id': 'GCPKSW62QV4VOIS533YWUESH', 'name': 'projects/earthengine-legacy/operations/GCPKSW62QV4VOIS533YWUESH'}\n",
      "{'state': 'RUNNING', 'description': 'test_compute_inverse_depth', 'creation_timestamp_ms': 1632232934714, 'update_timestamp_ms': 1632234905737, 'start_timestamp_ms': 1632232955628, 'task_type': 'EXPORT_IMAGE', 'attempt': 1, 'id': 'GCPKSW62QV4VOIS533YWUESH', 'name': 'projects/earthengine-legacy/operations/GCPKSW62QV4VOIS533YWUESH'}\n",
      "{'state': 'RUNNING', 'description': 'test_compute_inverse_depth', 'creation_timestamp_ms': 1632232934714, 'update_timestamp_ms': 1632234905737, 'start_timestamp_ms': 1632232955628, 'task_type': 'EXPORT_IMAGE', 'attempt': 1, 'id': 'GCPKSW62QV4VOIS533YWUESH', 'name': 'projects/earthengine-legacy/operations/GCPKSW62QV4VOIS533YWUESH'}\n",
      "{'state': 'RUNNING', 'description': 'test_compute_inverse_depth', 'creation_timestamp_ms': 1632232934714, 'update_timestamp_ms': 1632234905737, 'start_timestamp_ms': 1632232955628, 'task_type': 'EXPORT_IMAGE', 'attempt': 1, 'id': 'GCPKSW62QV4VOIS533YWUESH', 'name': 'projects/earthengine-legacy/operations/GCPKSW62QV4VOIS533YWUESH'}\n",
      "{'state': 'RUNNING', 'description': 'test_compute_inverse_depth', 'creation_timestamp_ms': 1632232934714, 'update_timestamp_ms': 1632234905737, 'start_timestamp_ms': 1632232955628, 'task_type': 'EXPORT_IMAGE', 'attempt': 1, 'id': 'GCPKSW62QV4VOIS533YWUESH', 'name': 'projects/earthengine-legacy/operations/GCPKSW62QV4VOIS533YWUESH'}\n",
      "{'state': 'RUNNING', 'description': 'test_compute_inverse_depth', 'creation_timestamp_ms': 1632232934714, 'update_timestamp_ms': 1632234905737, 'start_timestamp_ms': 1632232955628, 'task_type': 'EXPORT_IMAGE', 'attempt': 1, 'id': 'GCPKSW62QV4VOIS533YWUESH', 'name': 'projects/earthengine-legacy/operations/GCPKSW62QV4VOIS533YWUESH'}\n",
      "{'state': 'RUNNING', 'description': 'test_compute_inverse_depth', 'creation_timestamp_ms': 1632232934714, 'update_timestamp_ms': 1632235055737, 'start_timestamp_ms': 1632232955628, 'task_type': 'EXPORT_IMAGE', 'attempt': 1, 'id': 'GCPKSW62QV4VOIS533YWUESH', 'name': 'projects/earthengine-legacy/operations/GCPKSW62QV4VOIS533YWUESH'}\n",
      "{'state': 'RUNNING', 'description': 'test_compute_inverse_depth', 'creation_timestamp_ms': 1632232934714, 'update_timestamp_ms': 1632235055737, 'start_timestamp_ms': 1632232955628, 'task_type': 'EXPORT_IMAGE', 'attempt': 1, 'id': 'GCPKSW62QV4VOIS533YWUESH', 'name': 'projects/earthengine-legacy/operations/GCPKSW62QV4VOIS533YWUESH'}\n",
      "{'state': 'RUNNING', 'description': 'test_compute_inverse_depth', 'creation_timestamp_ms': 1632232934714, 'update_timestamp_ms': 1632235055737, 'start_timestamp_ms': 1632232955628, 'task_type': 'EXPORT_IMAGE', 'attempt': 1, 'id': 'GCPKSW62QV4VOIS533YWUESH', 'name': 'projects/earthengine-legacy/operations/GCPKSW62QV4VOIS533YWUESH'}\n",
      "{'state': 'RUNNING', 'description': 'test_compute_inverse_depth', 'creation_timestamp_ms': 1632232934714, 'update_timestamp_ms': 1632235055737, 'start_timestamp_ms': 1632232955628, 'task_type': 'EXPORT_IMAGE', 'attempt': 1, 'id': 'GCPKSW62QV4VOIS533YWUESH', 'name': 'projects/earthengine-legacy/operations/GCPKSW62QV4VOIS533YWUESH'}\n",
      "{'state': 'RUNNING', 'description': 'test_compute_inverse_depth', 'creation_timestamp_ms': 1632232934714, 'update_timestamp_ms': 1632235055737, 'start_timestamp_ms': 1632232955628, 'task_type': 'EXPORT_IMAGE', 'attempt': 1, 'id': 'GCPKSW62QV4VOIS533YWUESH', 'name': 'projects/earthengine-legacy/operations/GCPKSW62QV4VOIS533YWUESH'}\n"
     ]
    },
    {
     "name": "stdout",
     "output_type": "stream",
     "text": [
      "{'state': 'RUNNING', 'description': 'test_compute_inverse_depth', 'creation_timestamp_ms': 1632232934714, 'update_timestamp_ms': 1632235205738, 'start_timestamp_ms': 1632232955628, 'task_type': 'EXPORT_IMAGE', 'attempt': 1, 'id': 'GCPKSW62QV4VOIS533YWUESH', 'name': 'projects/earthengine-legacy/operations/GCPKSW62QV4VOIS533YWUESH'}\n",
      "{'state': 'RUNNING', 'description': 'test_compute_inverse_depth', 'creation_timestamp_ms': 1632232934714, 'update_timestamp_ms': 1632235205738, 'start_timestamp_ms': 1632232955628, 'task_type': 'EXPORT_IMAGE', 'attempt': 1, 'id': 'GCPKSW62QV4VOIS533YWUESH', 'name': 'projects/earthengine-legacy/operations/GCPKSW62QV4VOIS533YWUESH'}\n",
      "{'state': 'RUNNING', 'description': 'test_compute_inverse_depth', 'creation_timestamp_ms': 1632232934714, 'update_timestamp_ms': 1632235205738, 'start_timestamp_ms': 1632232955628, 'task_type': 'EXPORT_IMAGE', 'attempt': 1, 'id': 'GCPKSW62QV4VOIS533YWUESH', 'name': 'projects/earthengine-legacy/operations/GCPKSW62QV4VOIS533YWUESH'}\n",
      "{'state': 'RUNNING', 'description': 'test_compute_inverse_depth', 'creation_timestamp_ms': 1632232934714, 'update_timestamp_ms': 1632235205738, 'start_timestamp_ms': 1632232955628, 'task_type': 'EXPORT_IMAGE', 'attempt': 1, 'id': 'GCPKSW62QV4VOIS533YWUESH', 'name': 'projects/earthengine-legacy/operations/GCPKSW62QV4VOIS533YWUESH'}\n",
      "{'state': 'RUNNING', 'description': 'test_compute_inverse_depth', 'creation_timestamp_ms': 1632232934714, 'update_timestamp_ms': 1632235205738, 'start_timestamp_ms': 1632232955628, 'task_type': 'EXPORT_IMAGE', 'attempt': 1, 'id': 'GCPKSW62QV4VOIS533YWUESH', 'name': 'projects/earthengine-legacy/operations/GCPKSW62QV4VOIS533YWUESH'}\n",
      "{'state': 'RUNNING', 'description': 'test_compute_inverse_depth', 'creation_timestamp_ms': 1632232934714, 'update_timestamp_ms': 1632235355739, 'start_timestamp_ms': 1632232955628, 'task_type': 'EXPORT_IMAGE', 'attempt': 1, 'id': 'GCPKSW62QV4VOIS533YWUESH', 'name': 'projects/earthengine-legacy/operations/GCPKSW62QV4VOIS533YWUESH'}\n",
      "{'state': 'RUNNING', 'description': 'test_compute_inverse_depth', 'creation_timestamp_ms': 1632232934714, 'update_timestamp_ms': 1632235355739, 'start_timestamp_ms': 1632232955628, 'task_type': 'EXPORT_IMAGE', 'attempt': 1, 'id': 'GCPKSW62QV4VOIS533YWUESH', 'name': 'projects/earthengine-legacy/operations/GCPKSW62QV4VOIS533YWUESH'}\n",
      "{'state': 'RUNNING', 'description': 'test_compute_inverse_depth', 'creation_timestamp_ms': 1632232934714, 'update_timestamp_ms': 1632235355739, 'start_timestamp_ms': 1632232955628, 'task_type': 'EXPORT_IMAGE', 'attempt': 1, 'id': 'GCPKSW62QV4VOIS533YWUESH', 'name': 'projects/earthengine-legacy/operations/GCPKSW62QV4VOIS533YWUESH'}\n",
      "{'state': 'RUNNING', 'description': 'test_compute_inverse_depth', 'creation_timestamp_ms': 1632232934714, 'update_timestamp_ms': 1632235355739, 'start_timestamp_ms': 1632232955628, 'task_type': 'EXPORT_IMAGE', 'attempt': 1, 'id': 'GCPKSW62QV4VOIS533YWUESH', 'name': 'projects/earthengine-legacy/operations/GCPKSW62QV4VOIS533YWUESH'}\n",
      "{'state': 'RUNNING', 'description': 'test_compute_inverse_depth', 'creation_timestamp_ms': 1632232934714, 'update_timestamp_ms': 1632235355739, 'start_timestamp_ms': 1632232955628, 'task_type': 'EXPORT_IMAGE', 'attempt': 1, 'id': 'GCPKSW62QV4VOIS533YWUESH', 'name': 'projects/earthengine-legacy/operations/GCPKSW62QV4VOIS533YWUESH'}\n",
      "{'state': 'RUNNING', 'description': 'test_compute_inverse_depth', 'creation_timestamp_ms': 1632232934714, 'update_timestamp_ms': 1632235505731, 'start_timestamp_ms': 1632232955628, 'task_type': 'EXPORT_IMAGE', 'attempt': 1, 'id': 'GCPKSW62QV4VOIS533YWUESH', 'name': 'projects/earthengine-legacy/operations/GCPKSW62QV4VOIS533YWUESH'}\n",
      "{'state': 'RUNNING', 'description': 'test_compute_inverse_depth', 'creation_timestamp_ms': 1632232934714, 'update_timestamp_ms': 1632235505731, 'start_timestamp_ms': 1632232955628, 'task_type': 'EXPORT_IMAGE', 'attempt': 1, 'id': 'GCPKSW62QV4VOIS533YWUESH', 'name': 'projects/earthengine-legacy/operations/GCPKSW62QV4VOIS533YWUESH'}\n",
      "{'state': 'RUNNING', 'description': 'test_compute_inverse_depth', 'creation_timestamp_ms': 1632232934714, 'update_timestamp_ms': 1632235505731, 'start_timestamp_ms': 1632232955628, 'task_type': 'EXPORT_IMAGE', 'attempt': 1, 'id': 'GCPKSW62QV4VOIS533YWUESH', 'name': 'projects/earthengine-legacy/operations/GCPKSW62QV4VOIS533YWUESH'}\n",
      "{'state': 'RUNNING', 'description': 'test_compute_inverse_depth', 'creation_timestamp_ms': 1632232934714, 'update_timestamp_ms': 1632235505731, 'start_timestamp_ms': 1632232955628, 'task_type': 'EXPORT_IMAGE', 'attempt': 1, 'id': 'GCPKSW62QV4VOIS533YWUESH', 'name': 'projects/earthengine-legacy/operations/GCPKSW62QV4VOIS533YWUESH'}\n",
      "{'state': 'RUNNING', 'description': 'test_compute_inverse_depth', 'creation_timestamp_ms': 1632232934714, 'update_timestamp_ms': 1632235505731, 'start_timestamp_ms': 1632232955628, 'task_type': 'EXPORT_IMAGE', 'attempt': 1, 'id': 'GCPKSW62QV4VOIS533YWUESH', 'name': 'projects/earthengine-legacy/operations/GCPKSW62QV4VOIS533YWUESH'}\n",
      "{'state': 'RUNNING', 'description': 'test_compute_inverse_depth', 'creation_timestamp_ms': 1632232934714, 'update_timestamp_ms': 1632235655748, 'start_timestamp_ms': 1632232955628, 'task_type': 'EXPORT_IMAGE', 'attempt': 1, 'id': 'GCPKSW62QV4VOIS533YWUESH', 'name': 'projects/earthengine-legacy/operations/GCPKSW62QV4VOIS533YWUESH'}\n",
      "{'state': 'RUNNING', 'description': 'test_compute_inverse_depth', 'creation_timestamp_ms': 1632232934714, 'update_timestamp_ms': 1632235655748, 'start_timestamp_ms': 1632232955628, 'task_type': 'EXPORT_IMAGE', 'attempt': 1, 'id': 'GCPKSW62QV4VOIS533YWUESH', 'name': 'projects/earthengine-legacy/operations/GCPKSW62QV4VOIS533YWUESH'}\n",
      "{'state': 'RUNNING', 'description': 'test_compute_inverse_depth', 'creation_timestamp_ms': 1632232934714, 'update_timestamp_ms': 1632235655748, 'start_timestamp_ms': 1632232955628, 'task_type': 'EXPORT_IMAGE', 'attempt': 1, 'id': 'GCPKSW62QV4VOIS533YWUESH', 'name': 'projects/earthengine-legacy/operations/GCPKSW62QV4VOIS533YWUESH'}\n",
      "{'state': 'RUNNING', 'description': 'test_compute_inverse_depth', 'creation_timestamp_ms': 1632232934714, 'update_timestamp_ms': 1632235655748, 'start_timestamp_ms': 1632232955628, 'task_type': 'EXPORT_IMAGE', 'attempt': 1, 'id': 'GCPKSW62QV4VOIS533YWUESH', 'name': 'projects/earthengine-legacy/operations/GCPKSW62QV4VOIS533YWUESH'}\n",
      "{'state': 'RUNNING', 'description': 'test_compute_inverse_depth', 'creation_timestamp_ms': 1632232934714, 'update_timestamp_ms': 1632235655748, 'start_timestamp_ms': 1632232955628, 'task_type': 'EXPORT_IMAGE', 'attempt': 1, 'id': 'GCPKSW62QV4VOIS533YWUESH', 'name': 'projects/earthengine-legacy/operations/GCPKSW62QV4VOIS533YWUESH'}\n",
      "{'state': 'RUNNING', 'description': 'test_compute_inverse_depth', 'creation_timestamp_ms': 1632232934714, 'update_timestamp_ms': 1632235805742, 'start_timestamp_ms': 1632232955628, 'task_type': 'EXPORT_IMAGE', 'attempt': 1, 'id': 'GCPKSW62QV4VOIS533YWUESH', 'name': 'projects/earthengine-legacy/operations/GCPKSW62QV4VOIS533YWUESH'}\n",
      "{'state': 'RUNNING', 'description': 'test_compute_inverse_depth', 'creation_timestamp_ms': 1632232934714, 'update_timestamp_ms': 1632235805742, 'start_timestamp_ms': 1632232955628, 'task_type': 'EXPORT_IMAGE', 'attempt': 1, 'id': 'GCPKSW62QV4VOIS533YWUESH', 'name': 'projects/earthengine-legacy/operations/GCPKSW62QV4VOIS533YWUESH'}\n",
      "{'state': 'RUNNING', 'description': 'test_compute_inverse_depth', 'creation_timestamp_ms': 1632232934714, 'update_timestamp_ms': 1632235805742, 'start_timestamp_ms': 1632232955628, 'task_type': 'EXPORT_IMAGE', 'attempt': 1, 'id': 'GCPKSW62QV4VOIS533YWUESH', 'name': 'projects/earthengine-legacy/operations/GCPKSW62QV4VOIS533YWUESH'}\n",
      "{'state': 'RUNNING', 'description': 'test_compute_inverse_depth', 'creation_timestamp_ms': 1632232934714, 'update_timestamp_ms': 1632235805742, 'start_timestamp_ms': 1632232955628, 'task_type': 'EXPORT_IMAGE', 'attempt': 1, 'id': 'GCPKSW62QV4VOIS533YWUESH', 'name': 'projects/earthengine-legacy/operations/GCPKSW62QV4VOIS533YWUESH'}\n",
      "{'state': 'RUNNING', 'description': 'test_compute_inverse_depth', 'creation_timestamp_ms': 1632232934714, 'update_timestamp_ms': 1632235805742, 'start_timestamp_ms': 1632232955628, 'task_type': 'EXPORT_IMAGE', 'attempt': 1, 'id': 'GCPKSW62QV4VOIS533YWUESH', 'name': 'projects/earthengine-legacy/operations/GCPKSW62QV4VOIS533YWUESH'}\n"
     ]
    },
    {
     "name": "stdout",
     "output_type": "stream",
     "text": [
      "{'state': 'RUNNING', 'description': 'test_compute_inverse_depth', 'creation_timestamp_ms': 1632232934714, 'update_timestamp_ms': 1632235955735, 'start_timestamp_ms': 1632232955628, 'task_type': 'EXPORT_IMAGE', 'attempt': 1, 'id': 'GCPKSW62QV4VOIS533YWUESH', 'name': 'projects/earthengine-legacy/operations/GCPKSW62QV4VOIS533YWUESH'}\n",
      "{'state': 'RUNNING', 'description': 'test_compute_inverse_depth', 'creation_timestamp_ms': 1632232934714, 'update_timestamp_ms': 1632235955735, 'start_timestamp_ms': 1632232955628, 'task_type': 'EXPORT_IMAGE', 'attempt': 1, 'id': 'GCPKSW62QV4VOIS533YWUESH', 'name': 'projects/earthengine-legacy/operations/GCPKSW62QV4VOIS533YWUESH'}\n",
      "{'state': 'RUNNING', 'description': 'test_compute_inverse_depth', 'creation_timestamp_ms': 1632232934714, 'update_timestamp_ms': 1632235955735, 'start_timestamp_ms': 1632232955628, 'task_type': 'EXPORT_IMAGE', 'attempt': 1, 'id': 'GCPKSW62QV4VOIS533YWUESH', 'name': 'projects/earthengine-legacy/operations/GCPKSW62QV4VOIS533YWUESH'}\n",
      "{'state': 'RUNNING', 'description': 'test_compute_inverse_depth', 'creation_timestamp_ms': 1632232934714, 'update_timestamp_ms': 1632235955735, 'start_timestamp_ms': 1632232955628, 'task_type': 'EXPORT_IMAGE', 'attempt': 1, 'id': 'GCPKSW62QV4VOIS533YWUESH', 'name': 'projects/earthengine-legacy/operations/GCPKSW62QV4VOIS533YWUESH'}\n",
      "{'state': 'RUNNING', 'description': 'test_compute_inverse_depth', 'creation_timestamp_ms': 1632232934714, 'update_timestamp_ms': 1632235955735, 'start_timestamp_ms': 1632232955628, 'task_type': 'EXPORT_IMAGE', 'attempt': 1, 'id': 'GCPKSW62QV4VOIS533YWUESH', 'name': 'projects/earthengine-legacy/operations/GCPKSW62QV4VOIS533YWUESH'}\n",
      "{'state': 'RUNNING', 'description': 'test_compute_inverse_depth', 'creation_timestamp_ms': 1632232934714, 'update_timestamp_ms': 1632236105741, 'start_timestamp_ms': 1632232955628, 'task_type': 'EXPORT_IMAGE', 'attempt': 1, 'id': 'GCPKSW62QV4VOIS533YWUESH', 'name': 'projects/earthengine-legacy/operations/GCPKSW62QV4VOIS533YWUESH'}\n",
      "{'state': 'RUNNING', 'description': 'test_compute_inverse_depth', 'creation_timestamp_ms': 1632232934714, 'update_timestamp_ms': 1632236105741, 'start_timestamp_ms': 1632232955628, 'task_type': 'EXPORT_IMAGE', 'attempt': 1, 'id': 'GCPKSW62QV4VOIS533YWUESH', 'name': 'projects/earthengine-legacy/operations/GCPKSW62QV4VOIS533YWUESH'}\n",
      "{'state': 'RUNNING', 'description': 'test_compute_inverse_depth', 'creation_timestamp_ms': 1632232934714, 'update_timestamp_ms': 1632236105741, 'start_timestamp_ms': 1632232955628, 'task_type': 'EXPORT_IMAGE', 'attempt': 1, 'id': 'GCPKSW62QV4VOIS533YWUESH', 'name': 'projects/earthengine-legacy/operations/GCPKSW62QV4VOIS533YWUESH'}\n",
      "{'state': 'RUNNING', 'description': 'test_compute_inverse_depth', 'creation_timestamp_ms': 1632232934714, 'update_timestamp_ms': 1632236105741, 'start_timestamp_ms': 1632232955628, 'task_type': 'EXPORT_IMAGE', 'attempt': 1, 'id': 'GCPKSW62QV4VOIS533YWUESH', 'name': 'projects/earthengine-legacy/operations/GCPKSW62QV4VOIS533YWUESH'}\n",
      "{'state': 'RUNNING', 'description': 'test_compute_inverse_depth', 'creation_timestamp_ms': 1632232934714, 'update_timestamp_ms': 1632236105741, 'start_timestamp_ms': 1632232955628, 'task_type': 'EXPORT_IMAGE', 'attempt': 1, 'id': 'GCPKSW62QV4VOIS533YWUESH', 'name': 'projects/earthengine-legacy/operations/GCPKSW62QV4VOIS533YWUESH'}\n",
      "{'state': 'RUNNING', 'description': 'test_compute_inverse_depth', 'creation_timestamp_ms': 1632232934714, 'update_timestamp_ms': 1632236255735, 'start_timestamp_ms': 1632232955628, 'task_type': 'EXPORT_IMAGE', 'attempt': 1, 'id': 'GCPKSW62QV4VOIS533YWUESH', 'name': 'projects/earthengine-legacy/operations/GCPKSW62QV4VOIS533YWUESH'}\n",
      "{'state': 'RUNNING', 'description': 'test_compute_inverse_depth', 'creation_timestamp_ms': 1632232934714, 'update_timestamp_ms': 1632236255735, 'start_timestamp_ms': 1632232955628, 'task_type': 'EXPORT_IMAGE', 'attempt': 1, 'id': 'GCPKSW62QV4VOIS533YWUESH', 'name': 'projects/earthengine-legacy/operations/GCPKSW62QV4VOIS533YWUESH'}\n",
      "{'state': 'RUNNING', 'description': 'test_compute_inverse_depth', 'creation_timestamp_ms': 1632232934714, 'update_timestamp_ms': 1632236255735, 'start_timestamp_ms': 1632232955628, 'task_type': 'EXPORT_IMAGE', 'attempt': 1, 'id': 'GCPKSW62QV4VOIS533YWUESH', 'name': 'projects/earthengine-legacy/operations/GCPKSW62QV4VOIS533YWUESH'}\n",
      "{'state': 'RUNNING', 'description': 'test_compute_inverse_depth', 'creation_timestamp_ms': 1632232934714, 'update_timestamp_ms': 1632236255735, 'start_timestamp_ms': 1632232955628, 'task_type': 'EXPORT_IMAGE', 'attempt': 1, 'id': 'GCPKSW62QV4VOIS533YWUESH', 'name': 'projects/earthengine-legacy/operations/GCPKSW62QV4VOIS533YWUESH'}\n",
      "{'state': 'RUNNING', 'description': 'test_compute_inverse_depth', 'creation_timestamp_ms': 1632232934714, 'update_timestamp_ms': 1632236255735, 'start_timestamp_ms': 1632232955628, 'task_type': 'EXPORT_IMAGE', 'attempt': 1, 'id': 'GCPKSW62QV4VOIS533YWUESH', 'name': 'projects/earthengine-legacy/operations/GCPKSW62QV4VOIS533YWUESH'}\n",
      "{'state': 'RUNNING', 'description': 'test_compute_inverse_depth', 'creation_timestamp_ms': 1632232934714, 'update_timestamp_ms': 1632236405735, 'start_timestamp_ms': 1632232955628, 'task_type': 'EXPORT_IMAGE', 'attempt': 1, 'id': 'GCPKSW62QV4VOIS533YWUESH', 'name': 'projects/earthengine-legacy/operations/GCPKSW62QV4VOIS533YWUESH'}\n",
      "{'state': 'RUNNING', 'description': 'test_compute_inverse_depth', 'creation_timestamp_ms': 1632232934714, 'update_timestamp_ms': 1632236405735, 'start_timestamp_ms': 1632232955628, 'task_type': 'EXPORT_IMAGE', 'attempt': 1, 'id': 'GCPKSW62QV4VOIS533YWUESH', 'name': 'projects/earthengine-legacy/operations/GCPKSW62QV4VOIS533YWUESH'}\n",
      "{'state': 'RUNNING', 'description': 'test_compute_inverse_depth', 'creation_timestamp_ms': 1632232934714, 'update_timestamp_ms': 1632236405735, 'start_timestamp_ms': 1632232955628, 'task_type': 'EXPORT_IMAGE', 'attempt': 1, 'id': 'GCPKSW62QV4VOIS533YWUESH', 'name': 'projects/earthengine-legacy/operations/GCPKSW62QV4VOIS533YWUESH'}\n",
      "{'state': 'RUNNING', 'description': 'test_compute_inverse_depth', 'creation_timestamp_ms': 1632232934714, 'update_timestamp_ms': 1632236405735, 'start_timestamp_ms': 1632232955628, 'task_type': 'EXPORT_IMAGE', 'attempt': 1, 'id': 'GCPKSW62QV4VOIS533YWUESH', 'name': 'projects/earthengine-legacy/operations/GCPKSW62QV4VOIS533YWUESH'}\n",
      "{'state': 'RUNNING', 'description': 'test_compute_inverse_depth', 'creation_timestamp_ms': 1632232934714, 'update_timestamp_ms': 1632236405735, 'start_timestamp_ms': 1632232955628, 'task_type': 'EXPORT_IMAGE', 'attempt': 1, 'id': 'GCPKSW62QV4VOIS533YWUESH', 'name': 'projects/earthengine-legacy/operations/GCPKSW62QV4VOIS533YWUESH'}\n",
      "{'state': 'RUNNING', 'description': 'test_compute_inverse_depth', 'creation_timestamp_ms': 1632232934714, 'update_timestamp_ms': 1632236555742, 'start_timestamp_ms': 1632232955628, 'task_type': 'EXPORT_IMAGE', 'attempt': 1, 'id': 'GCPKSW62QV4VOIS533YWUESH', 'name': 'projects/earthengine-legacy/operations/GCPKSW62QV4VOIS533YWUESH'}\n",
      "{'state': 'RUNNING', 'description': 'test_compute_inverse_depth', 'creation_timestamp_ms': 1632232934714, 'update_timestamp_ms': 1632236555742, 'start_timestamp_ms': 1632232955628, 'task_type': 'EXPORT_IMAGE', 'attempt': 1, 'id': 'GCPKSW62QV4VOIS533YWUESH', 'name': 'projects/earthengine-legacy/operations/GCPKSW62QV4VOIS533YWUESH'}\n",
      "{'state': 'RUNNING', 'description': 'test_compute_inverse_depth', 'creation_timestamp_ms': 1632232934714, 'update_timestamp_ms': 1632236555742, 'start_timestamp_ms': 1632232955628, 'task_type': 'EXPORT_IMAGE', 'attempt': 1, 'id': 'GCPKSW62QV4VOIS533YWUESH', 'name': 'projects/earthengine-legacy/operations/GCPKSW62QV4VOIS533YWUESH'}\n",
      "{'state': 'RUNNING', 'description': 'test_compute_inverse_depth', 'creation_timestamp_ms': 1632232934714, 'update_timestamp_ms': 1632236555742, 'start_timestamp_ms': 1632232955628, 'task_type': 'EXPORT_IMAGE', 'attempt': 1, 'id': 'GCPKSW62QV4VOIS533YWUESH', 'name': 'projects/earthengine-legacy/operations/GCPKSW62QV4VOIS533YWUESH'}\n",
      "{'state': 'RUNNING', 'description': 'test_compute_inverse_depth', 'creation_timestamp_ms': 1632232934714, 'update_timestamp_ms': 1632236555742, 'start_timestamp_ms': 1632232955628, 'task_type': 'EXPORT_IMAGE', 'attempt': 1, 'id': 'GCPKSW62QV4VOIS533YWUESH', 'name': 'projects/earthengine-legacy/operations/GCPKSW62QV4VOIS533YWUESH'}\n"
     ]
    },
    {
     "name": "stdout",
     "output_type": "stream",
     "text": [
      "{'state': 'RUNNING', 'description': 'test_compute_inverse_depth', 'creation_timestamp_ms': 1632232934714, 'update_timestamp_ms': 1632236705736, 'start_timestamp_ms': 1632232955628, 'task_type': 'EXPORT_IMAGE', 'attempt': 1, 'id': 'GCPKSW62QV4VOIS533YWUESH', 'name': 'projects/earthengine-legacy/operations/GCPKSW62QV4VOIS533YWUESH'}\n",
      "{'state': 'RUNNING', 'description': 'test_compute_inverse_depth', 'creation_timestamp_ms': 1632232934714, 'update_timestamp_ms': 1632236705736, 'start_timestamp_ms': 1632232955628, 'task_type': 'EXPORT_IMAGE', 'attempt': 1, 'id': 'GCPKSW62QV4VOIS533YWUESH', 'name': 'projects/earthengine-legacy/operations/GCPKSW62QV4VOIS533YWUESH'}\n",
      "{'state': 'RUNNING', 'description': 'test_compute_inverse_depth', 'creation_timestamp_ms': 1632232934714, 'update_timestamp_ms': 1632236705736, 'start_timestamp_ms': 1632232955628, 'task_type': 'EXPORT_IMAGE', 'attempt': 1, 'id': 'GCPKSW62QV4VOIS533YWUESH', 'name': 'projects/earthengine-legacy/operations/GCPKSW62QV4VOIS533YWUESH'}\n",
      "{'state': 'RUNNING', 'description': 'test_compute_inverse_depth', 'creation_timestamp_ms': 1632232934714, 'update_timestamp_ms': 1632236705736, 'start_timestamp_ms': 1632232955628, 'task_type': 'EXPORT_IMAGE', 'attempt': 1, 'id': 'GCPKSW62QV4VOIS533YWUESH', 'name': 'projects/earthengine-legacy/operations/GCPKSW62QV4VOIS533YWUESH'}\n",
      "{'state': 'RUNNING', 'description': 'test_compute_inverse_depth', 'creation_timestamp_ms': 1632232934714, 'update_timestamp_ms': 1632236705736, 'start_timestamp_ms': 1632232955628, 'task_type': 'EXPORT_IMAGE', 'attempt': 1, 'id': 'GCPKSW62QV4VOIS533YWUESH', 'name': 'projects/earthengine-legacy/operations/GCPKSW62QV4VOIS533YWUESH'}\n",
      "{'state': 'RUNNING', 'description': 'test_compute_inverse_depth', 'creation_timestamp_ms': 1632232934714, 'update_timestamp_ms': 1632236855739, 'start_timestamp_ms': 1632232955628, 'task_type': 'EXPORT_IMAGE', 'attempt': 1, 'id': 'GCPKSW62QV4VOIS533YWUESH', 'name': 'projects/earthengine-legacy/operations/GCPKSW62QV4VOIS533YWUESH'}\n",
      "{'state': 'RUNNING', 'description': 'test_compute_inverse_depth', 'creation_timestamp_ms': 1632232934714, 'update_timestamp_ms': 1632236855739, 'start_timestamp_ms': 1632232955628, 'task_type': 'EXPORT_IMAGE', 'attempt': 1, 'id': 'GCPKSW62QV4VOIS533YWUESH', 'name': 'projects/earthengine-legacy/operations/GCPKSW62QV4VOIS533YWUESH'}\n",
      "{'state': 'RUNNING', 'description': 'test_compute_inverse_depth', 'creation_timestamp_ms': 1632232934714, 'update_timestamp_ms': 1632236855739, 'start_timestamp_ms': 1632232955628, 'task_type': 'EXPORT_IMAGE', 'attempt': 1, 'id': 'GCPKSW62QV4VOIS533YWUESH', 'name': 'projects/earthengine-legacy/operations/GCPKSW62QV4VOIS533YWUESH'}\n",
      "{'state': 'RUNNING', 'description': 'test_compute_inverse_depth', 'creation_timestamp_ms': 1632232934714, 'update_timestamp_ms': 1632236855739, 'start_timestamp_ms': 1632232955628, 'task_type': 'EXPORT_IMAGE', 'attempt': 1, 'id': 'GCPKSW62QV4VOIS533YWUESH', 'name': 'projects/earthengine-legacy/operations/GCPKSW62QV4VOIS533YWUESH'}\n",
      "{'state': 'RUNNING', 'description': 'test_compute_inverse_depth', 'creation_timestamp_ms': 1632232934714, 'update_timestamp_ms': 1632236855739, 'start_timestamp_ms': 1632232955628, 'task_type': 'EXPORT_IMAGE', 'attempt': 1, 'id': 'GCPKSW62QV4VOIS533YWUESH', 'name': 'projects/earthengine-legacy/operations/GCPKSW62QV4VOIS533YWUESH'}\n",
      "{'state': 'RUNNING', 'description': 'test_compute_inverse_depth', 'creation_timestamp_ms': 1632232934714, 'update_timestamp_ms': 1632237005741, 'start_timestamp_ms': 1632232955628, 'task_type': 'EXPORT_IMAGE', 'attempt': 1, 'id': 'GCPKSW62QV4VOIS533YWUESH', 'name': 'projects/earthengine-legacy/operations/GCPKSW62QV4VOIS533YWUESH'}\n",
      "{'state': 'RUNNING', 'description': 'test_compute_inverse_depth', 'creation_timestamp_ms': 1632232934714, 'update_timestamp_ms': 1632237005741, 'start_timestamp_ms': 1632232955628, 'task_type': 'EXPORT_IMAGE', 'attempt': 1, 'id': 'GCPKSW62QV4VOIS533YWUESH', 'name': 'projects/earthengine-legacy/operations/GCPKSW62QV4VOIS533YWUESH'}\n",
      "{'state': 'RUNNING', 'description': 'test_compute_inverse_depth', 'creation_timestamp_ms': 1632232934714, 'update_timestamp_ms': 1632237005741, 'start_timestamp_ms': 1632232955628, 'task_type': 'EXPORT_IMAGE', 'attempt': 1, 'id': 'GCPKSW62QV4VOIS533YWUESH', 'name': 'projects/earthengine-legacy/operations/GCPKSW62QV4VOIS533YWUESH'}\n",
      "{'state': 'RUNNING', 'description': 'test_compute_inverse_depth', 'creation_timestamp_ms': 1632232934714, 'update_timestamp_ms': 1632237005741, 'start_timestamp_ms': 1632232955628, 'task_type': 'EXPORT_IMAGE', 'attempt': 1, 'id': 'GCPKSW62QV4VOIS533YWUESH', 'name': 'projects/earthengine-legacy/operations/GCPKSW62QV4VOIS533YWUESH'}\n",
      "{'state': 'RUNNING', 'description': 'test_compute_inverse_depth', 'creation_timestamp_ms': 1632232934714, 'update_timestamp_ms': 1632237005741, 'start_timestamp_ms': 1632232955628, 'task_type': 'EXPORT_IMAGE', 'attempt': 1, 'id': 'GCPKSW62QV4VOIS533YWUESH', 'name': 'projects/earthengine-legacy/operations/GCPKSW62QV4VOIS533YWUESH'}\n",
      "{'state': 'RUNNING', 'description': 'test_compute_inverse_depth', 'creation_timestamp_ms': 1632232934714, 'update_timestamp_ms': 1632237155731, 'start_timestamp_ms': 1632232955628, 'task_type': 'EXPORT_IMAGE', 'attempt': 1, 'id': 'GCPKSW62QV4VOIS533YWUESH', 'name': 'projects/earthengine-legacy/operations/GCPKSW62QV4VOIS533YWUESH'}\n",
      "{'state': 'RUNNING', 'description': 'test_compute_inverse_depth', 'creation_timestamp_ms': 1632232934714, 'update_timestamp_ms': 1632237155731, 'start_timestamp_ms': 1632232955628, 'task_type': 'EXPORT_IMAGE', 'attempt': 1, 'id': 'GCPKSW62QV4VOIS533YWUESH', 'name': 'projects/earthengine-legacy/operations/GCPKSW62QV4VOIS533YWUESH'}\n",
      "{'state': 'RUNNING', 'description': 'test_compute_inverse_depth', 'creation_timestamp_ms': 1632232934714, 'update_timestamp_ms': 1632237155731, 'start_timestamp_ms': 1632232955628, 'task_type': 'EXPORT_IMAGE', 'attempt': 1, 'id': 'GCPKSW62QV4VOIS533YWUESH', 'name': 'projects/earthengine-legacy/operations/GCPKSW62QV4VOIS533YWUESH'}\n",
      "{'state': 'RUNNING', 'description': 'test_compute_inverse_depth', 'creation_timestamp_ms': 1632232934714, 'update_timestamp_ms': 1632237155731, 'start_timestamp_ms': 1632232955628, 'task_type': 'EXPORT_IMAGE', 'attempt': 1, 'id': 'GCPKSW62QV4VOIS533YWUESH', 'name': 'projects/earthengine-legacy/operations/GCPKSW62QV4VOIS533YWUESH'}\n",
      "{'state': 'RUNNING', 'description': 'test_compute_inverse_depth', 'creation_timestamp_ms': 1632232934714, 'update_timestamp_ms': 1632237155731, 'start_timestamp_ms': 1632232955628, 'task_type': 'EXPORT_IMAGE', 'attempt': 1, 'id': 'GCPKSW62QV4VOIS533YWUESH', 'name': 'projects/earthengine-legacy/operations/GCPKSW62QV4VOIS533YWUESH'}\n",
      "{'state': 'RUNNING', 'description': 'test_compute_inverse_depth', 'creation_timestamp_ms': 1632232934714, 'update_timestamp_ms': 1632237305741, 'start_timestamp_ms': 1632232955628, 'task_type': 'EXPORT_IMAGE', 'attempt': 1, 'id': 'GCPKSW62QV4VOIS533YWUESH', 'name': 'projects/earthengine-legacy/operations/GCPKSW62QV4VOIS533YWUESH'}\n",
      "{'state': 'RUNNING', 'description': 'test_compute_inverse_depth', 'creation_timestamp_ms': 1632232934714, 'update_timestamp_ms': 1632237305741, 'start_timestamp_ms': 1632232955628, 'task_type': 'EXPORT_IMAGE', 'attempt': 1, 'id': 'GCPKSW62QV4VOIS533YWUESH', 'name': 'projects/earthengine-legacy/operations/GCPKSW62QV4VOIS533YWUESH'}\n",
      "{'state': 'RUNNING', 'description': 'test_compute_inverse_depth', 'creation_timestamp_ms': 1632232934714, 'update_timestamp_ms': 1632237305741, 'start_timestamp_ms': 1632232955628, 'task_type': 'EXPORT_IMAGE', 'attempt': 1, 'id': 'GCPKSW62QV4VOIS533YWUESH', 'name': 'projects/earthengine-legacy/operations/GCPKSW62QV4VOIS533YWUESH'}\n",
      "{'state': 'RUNNING', 'description': 'test_compute_inverse_depth', 'creation_timestamp_ms': 1632232934714, 'update_timestamp_ms': 1632237305741, 'start_timestamp_ms': 1632232955628, 'task_type': 'EXPORT_IMAGE', 'attempt': 1, 'id': 'GCPKSW62QV4VOIS533YWUESH', 'name': 'projects/earthengine-legacy/operations/GCPKSW62QV4VOIS533YWUESH'}\n",
      "{'state': 'RUNNING', 'description': 'test_compute_inverse_depth', 'creation_timestamp_ms': 1632232934714, 'update_timestamp_ms': 1632237305741, 'start_timestamp_ms': 1632232955628, 'task_type': 'EXPORT_IMAGE', 'attempt': 1, 'id': 'GCPKSW62QV4VOIS533YWUESH', 'name': 'projects/earthengine-legacy/operations/GCPKSW62QV4VOIS533YWUESH'}\n"
     ]
    },
    {
     "name": "stdout",
     "output_type": "stream",
     "text": [
      "{'state': 'RUNNING', 'description': 'test_compute_inverse_depth', 'creation_timestamp_ms': 1632232934714, 'update_timestamp_ms': 1632237455741, 'start_timestamp_ms': 1632232955628, 'task_type': 'EXPORT_IMAGE', 'attempt': 1, 'id': 'GCPKSW62QV4VOIS533YWUESH', 'name': 'projects/earthengine-legacy/operations/GCPKSW62QV4VOIS533YWUESH'}\n",
      "{'state': 'RUNNING', 'description': 'test_compute_inverse_depth', 'creation_timestamp_ms': 1632232934714, 'update_timestamp_ms': 1632237455741, 'start_timestamp_ms': 1632232955628, 'task_type': 'EXPORT_IMAGE', 'attempt': 1, 'id': 'GCPKSW62QV4VOIS533YWUESH', 'name': 'projects/earthengine-legacy/operations/GCPKSW62QV4VOIS533YWUESH'}\n",
      "{'state': 'RUNNING', 'description': 'test_compute_inverse_depth', 'creation_timestamp_ms': 1632232934714, 'update_timestamp_ms': 1632237455741, 'start_timestamp_ms': 1632232955628, 'task_type': 'EXPORT_IMAGE', 'attempt': 1, 'id': 'GCPKSW62QV4VOIS533YWUESH', 'name': 'projects/earthengine-legacy/operations/GCPKSW62QV4VOIS533YWUESH'}\n",
      "{'state': 'RUNNING', 'description': 'test_compute_inverse_depth', 'creation_timestamp_ms': 1632232934714, 'update_timestamp_ms': 1632237455741, 'start_timestamp_ms': 1632232955628, 'task_type': 'EXPORT_IMAGE', 'attempt': 1, 'id': 'GCPKSW62QV4VOIS533YWUESH', 'name': 'projects/earthengine-legacy/operations/GCPKSW62QV4VOIS533YWUESH'}\n",
      "{'state': 'RUNNING', 'description': 'test_compute_inverse_depth', 'creation_timestamp_ms': 1632232934714, 'update_timestamp_ms': 1632237455741, 'start_timestamp_ms': 1632232955628, 'task_type': 'EXPORT_IMAGE', 'attempt': 1, 'id': 'GCPKSW62QV4VOIS533YWUESH', 'name': 'projects/earthengine-legacy/operations/GCPKSW62QV4VOIS533YWUESH'}\n",
      "{'state': 'RUNNING', 'description': 'test_compute_inverse_depth', 'creation_timestamp_ms': 1632232934714, 'update_timestamp_ms': 1632237605731, 'start_timestamp_ms': 1632232955628, 'task_type': 'EXPORT_IMAGE', 'attempt': 1, 'id': 'GCPKSW62QV4VOIS533YWUESH', 'name': 'projects/earthengine-legacy/operations/GCPKSW62QV4VOIS533YWUESH'}\n",
      "{'state': 'RUNNING', 'description': 'test_compute_inverse_depth', 'creation_timestamp_ms': 1632232934714, 'update_timestamp_ms': 1632237605731, 'start_timestamp_ms': 1632232955628, 'task_type': 'EXPORT_IMAGE', 'attempt': 1, 'id': 'GCPKSW62QV4VOIS533YWUESH', 'name': 'projects/earthengine-legacy/operations/GCPKSW62QV4VOIS533YWUESH'}\n",
      "{'state': 'RUNNING', 'description': 'test_compute_inverse_depth', 'creation_timestamp_ms': 1632232934714, 'update_timestamp_ms': 1632237605731, 'start_timestamp_ms': 1632232955628, 'task_type': 'EXPORT_IMAGE', 'attempt': 1, 'id': 'GCPKSW62QV4VOIS533YWUESH', 'name': 'projects/earthengine-legacy/operations/GCPKSW62QV4VOIS533YWUESH'}\n",
      "{'state': 'RUNNING', 'description': 'test_compute_inverse_depth', 'creation_timestamp_ms': 1632232934714, 'update_timestamp_ms': 1632237605731, 'start_timestamp_ms': 1632232955628, 'task_type': 'EXPORT_IMAGE', 'attempt': 1, 'id': 'GCPKSW62QV4VOIS533YWUESH', 'name': 'projects/earthengine-legacy/operations/GCPKSW62QV4VOIS533YWUESH'}\n",
      "{'state': 'RUNNING', 'description': 'test_compute_inverse_depth', 'creation_timestamp_ms': 1632232934714, 'update_timestamp_ms': 1632237605731, 'start_timestamp_ms': 1632232955628, 'task_type': 'EXPORT_IMAGE', 'attempt': 1, 'id': 'GCPKSW62QV4VOIS533YWUESH', 'name': 'projects/earthengine-legacy/operations/GCPKSW62QV4VOIS533YWUESH'}\n",
      "{'state': 'RUNNING', 'description': 'test_compute_inverse_depth', 'creation_timestamp_ms': 1632232934714, 'update_timestamp_ms': 1632237755741, 'start_timestamp_ms': 1632232955628, 'task_type': 'EXPORT_IMAGE', 'attempt': 1, 'id': 'GCPKSW62QV4VOIS533YWUESH', 'name': 'projects/earthengine-legacy/operations/GCPKSW62QV4VOIS533YWUESH'}\n",
      "{'state': 'RUNNING', 'description': 'test_compute_inverse_depth', 'creation_timestamp_ms': 1632232934714, 'update_timestamp_ms': 1632237755741, 'start_timestamp_ms': 1632232955628, 'task_type': 'EXPORT_IMAGE', 'attempt': 1, 'id': 'GCPKSW62QV4VOIS533YWUESH', 'name': 'projects/earthengine-legacy/operations/GCPKSW62QV4VOIS533YWUESH'}\n",
      "{'state': 'RUNNING', 'description': 'test_compute_inverse_depth', 'creation_timestamp_ms': 1632232934714, 'update_timestamp_ms': 1632237755741, 'start_timestamp_ms': 1632232955628, 'task_type': 'EXPORT_IMAGE', 'attempt': 1, 'id': 'GCPKSW62QV4VOIS533YWUESH', 'name': 'projects/earthengine-legacy/operations/GCPKSW62QV4VOIS533YWUESH'}\n"
     ]
    }
   ],
   "source": [
    "task_status = task.status()\n",
    "while task_status['state'] in ['READY', 'RUNNING']:\n",
    "    print(task_status)\n",
    "    time.sleep(30)\n",
    "    task_status = task.status()\n",
    "else:\n",
    "    print(task.status())"
   ]
  },
  {
   "cell_type": "code",
   "execution_count": null,
   "metadata": {},
   "outputs": [],
   "source": [
    "image_subtidal = ee.Image(asset_id)\n",
    "Map.addLayer(image_subtidal, {\"gamma\": 1.2}, 'RGB_raw', True)\n",
    "Map"
   ]
  }
 ],
 "metadata": {
  "kernelspec": {
   "display_name": "Python 3 (ipykernel)",
   "language": "python",
   "name": "python3"
  },
  "language_info": {
   "codemirror_mode": {
    "name": "ipython",
    "version": 3
   },
   "file_extension": ".py",
   "mimetype": "text/x-python",
   "name": "python",
   "nbconvert_exporter": "python",
   "pygments_lexer": "ipython3",
   "version": "3.9.6"
  }
 },
 "nbformat": 4,
 "nbformat_minor": 2
}
