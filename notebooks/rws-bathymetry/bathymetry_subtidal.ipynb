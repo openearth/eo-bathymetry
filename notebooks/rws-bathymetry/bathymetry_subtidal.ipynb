{
 "cells": [
  {
   "cell_type": "markdown",
   "metadata": {},
   "source": [
    "# Bathymetry Subtidal\n",
    "Tests subtidal bathymetry functions of `bathymetry.py`."
   ]
  },
  {
   "cell_type": "code",
   "execution_count": 2,
   "metadata": {},
   "outputs": [],
   "source": [
    "from pathlib import Path\n",
    "import sys\n",
    "import time\n",
    "\n",
    "import ee\n",
    "import geemap\n",
    "from geojson import Polygon\n",
    "\n",
    "sys.path.append(str(Path.cwd().parent.parent))\n",
    "\n",
    "from eepackages.applications import bathymetry"
   ]
  },
  {
   "cell_type": "code",
   "execution_count": 3,
   "metadata": {},
   "outputs": [
    {
     "data": {
      "text/html": [
       "<p>To authorize access needed by Earth Engine, open the following\n",
       "        URL in a web browser and follow the instructions:</p>\n",
       "        <p><a href=https://accounts.google.com/o/oauth2/auth?client_id=517222506229-vsmmajv00ul0bs7p89v5m89qs8eb9359.apps.googleusercontent.com&scope=https%3A%2F%2Fwww.googleapis.com%2Fauth%2Fearthengine+https%3A%2F%2Fwww.googleapis.com%2Fauth%2Fdevstorage.full_control&redirect_uri=urn%3Aietf%3Awg%3Aoauth%3A2.0%3Aoob&response_type=code&code_challenge=F03GF14s6KI08_8NiL18ztG7ozavIgJDu0alRtnJJnU&code_challenge_method=S256>https://accounts.google.com/o/oauth2/auth?client_id=517222506229-vsmmajv00ul0bs7p89v5m89qs8eb9359.apps.googleusercontent.com&scope=https%3A%2F%2Fwww.googleapis.com%2Fauth%2Fearthengine+https%3A%2F%2Fwww.googleapis.com%2Fauth%2Fdevstorage.full_control&redirect_uri=urn%3Aietf%3Awg%3Aoauth%3A2.0%3Aoob&response_type=code&code_challenge=F03GF14s6KI08_8NiL18ztG7ozavIgJDu0alRtnJJnU&code_challenge_method=S256</a></p>\n",
       "        <p>The authorization workflow will generate a code, which you\n",
       "        should paste in the box below</p>\n",
       "        "
      ],
      "text/plain": [
       "<IPython.core.display.HTML object>"
      ]
     },
     "metadata": {},
     "output_type": "display_data"
    },
    {
     "name": "stdout",
     "output_type": "stream",
     "text": [
      "Enter verification code: 4/1AX4XfWiYjfIJHyuIwKPaXUlJiAVni2djX6SanN70SMIkTQUID1A0shzb8ag\n",
      "\n",
      "Successfully saved authorization token.\n"
     ]
    }
   ],
   "source": [
    "Map = geemap.Map(center=(52.97, 4.74), zoom=11)\n",
    "bounds = ee.Geometry(Polygon([[\n",
    "    (4.574518432617185, 52.91662291147939),\n",
    "    (4.90548156738281, 52.91662291147939),\n",
    "    (4.90548156738281, 53.02331125248889),\n",
    "    (4.574518432617185, 53.02331125248889),\n",
    "    (4.574518432617185, 52.91662291147939)\n",
    "]]))\n",
    "scale = Map.getScale()\n",
    "# scale = 30\n",
    "start_date = \"2019-01-01\"\n",
    "stop_date = \"2021-01-01\"\n",
    "\n",
    "sdb = bathymetry.Bathymetry()\n",
    "Map.addLayer(bounds)"
   ]
  },
  {
   "cell_type": "code",
   "execution_count": 4,
   "metadata": {},
   "outputs": [
    {
     "data": {
      "application/vnd.jupyter.widget-view+json": {
       "model_id": "0f1923c4e6ea4d16b66e5d5da1aa9e7d",
       "version_major": 2,
       "version_minor": 0
      },
      "text/plain": [
       "Map(center=[52.97, 4.74], controls=(WidgetControl(options=['position', 'transparent_bg'], widget=HBox(children…"
      ]
     },
     "metadata": {},
     "output_type": "display_data"
    }
   ],
   "source": [
    "# Run interactively\n",
    "image = sdb.compute_inverse_depth(\n",
    "    bounds=bounds,\n",
    "    start=start_date,\n",
    "    stop=stop_date,\n",
    "    scale=scale*5,\n",
    "    missions=[\"L8\", \"S2\"],\n",
    "    filter_masked=True,\n",
    "    skip_neighborhood_search=False\n",
    ")\n",
    "Map.addLayer(image)# .reproject(ee.Projection('EPSG:3857').atScale(90)))  # without projection, takes default projection\n",
    "Map"
   ]
  },
  {
   "cell_type": "markdown",
   "metadata": {},
   "source": [
    "Cleanup tests assets for this notebook"
   ]
  },
  {
   "cell_type": "code",
   "execution_count": null,
   "metadata": {},
   "outputs": [],
   "source": [
    "def cartesian_product(l1: ee.List, l2: ee.List) -> ee.List:\n",
    "    return l1.map(lambda e1: l2.map(lambda e2: ee.List([e1, e2])).flatten())"
   ]
  },
  {
   "cell_type": "code",
   "execution_count": null,
   "metadata": {},
   "outputs": [],
   "source": [
    "user_name = ee.data.getAssetRoots()[0][\"id\"].split(\"/\")[-1]\n",
    "asset_id = f\"users/{user_name}/tests/test_inverse_depth\"\n",
    "asset_dict = ee.data.listAssets({\"parent\": f\"projects/earthengine-legacy/assets/users/{user_name}/tests\"})\n",
    "if \"tests\" in asset_dict[\"assets\"]:\n",
    "    ee.data.deleteAsset(asset_id)\n",
    "ee.data.create_assets(asset_ids=[\"/\".join(asset_id.split(\"/\")[:-1])], asset_type=\"Folder\", mk_parents=True)"
   ]
  },
  {
   "cell_type": "code",
   "execution_count": null,
   "metadata": {},
   "outputs": [],
   "source": [
    "# Let's use the ee.batch.Export class' static methods to create assets\n",
    "image = sdb.compute_inverse_depth(\n",
    "    bounds=bounds,\n",
    "    start=start_date,\n",
    "    stop=stop_date,\n",
    "    scale=scale*5,\n",
    "    missions=[\"L8\", \"S2\"],\n",
    "    filter_masked=True,\n",
    "    skip_neighborhood_search=False # adds a lot of computation time if False\n",
    ") #  .reproject(ee.Projection('EPSG:3857').atScale(90))\n",
    "\n",
    "task = ee.batch.Export.image.toAsset(\n",
    "    image,\n",
    "    description=\"test_compute_inverse_depth\",\n",
    "    region=bounds,\n",
    "    assetId=asset_id,\n",
    "    scale=scale,\n",
    "    crs=\"EPSG:3857\",\n",
    "    maxPixels=1e11\n",
    ")"
   ]
  },
  {
   "cell_type": "code",
   "execution_count": null,
   "metadata": {},
   "outputs": [],
   "source": [
    "task.start()"
   ]
  },
  {
   "cell_type": "code",
   "execution_count": null,
   "metadata": {},
   "outputs": [],
   "source": [
    "task_status = task.status()\n",
    "while task_status['state'] in ['READY', 'RUNNING']:\n",
    "    print(task_status)\n",
    "    time.sleep(30)\n",
    "    task_status = task.status()\n",
    "else:\n",
    "    print(task.status())"
   ]
  },
  {
   "cell_type": "code",
   "execution_count": null,
   "metadata": {},
   "outputs": [],
   "source": [
    "image_subtidal = ee.Image(asset_id)\n",
    "Map.addLayer(image_subtidal, {\"gamma\": 1.2}, 'RGB_raw', True)\n",
    "Map"
   ]
  }
 ],
 "metadata": {
  "kernelspec": {
   "display_name": "Python 3 (ipykernel)",
   "language": "python",
   "name": "python3"
  },
  "language_info": {
   "codemirror_mode": {
    "name": "ipython",
    "version": 3
   },
   "file_extension": ".py",
   "mimetype": "text/x-python",
   "name": "python",
   "nbconvert_exporter": "python",
   "pygments_lexer": "ipython3",
   "version": "3.9.7"
  }
 },
 "nbformat": 4,
 "nbformat_minor": 2
}
