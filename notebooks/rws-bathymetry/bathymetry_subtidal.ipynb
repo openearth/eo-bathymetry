{
 "cells": [
  {
   "cell_type": "code",
   "execution_count": 1,
   "metadata": {},
   "outputs": [],
   "source": [
    "from pathlib import Path\n",
    "import sys\n",
    "\n",
    "import ee\n",
    "import geemap\n",
    "from geojson import Polygon\n",
    "\n",
    "sys.path.append(str(Path.cwd().parent.parent))\n",
    "\n",
    "from eobathymetry import bathymetry"
   ]
  },
  {
   "cell_type": "code",
   "execution_count": 2,
   "metadata": {},
   "outputs": [],
   "source": [
    "Map = geemap.Map(center=(52.97, 4.74), zoom=14)"
   ]
  },
  {
   "cell_type": "code",
   "execution_count": 3,
   "metadata": {},
   "outputs": [],
   "source": [
    "bounds = ee.Geometry(Polygon([[\n",
    "    (4.574518432617185, 52.91662291147939),\n",
    "    (4.90548156738281, 52.91662291147939),\n",
    "    (4.90548156738281, 53.02331125248889),\n",
    "    (4.574518432617185, 53.02331125248889),\n",
    "    (4.574518432617185, 52.91662291147939)\n",
    "]]))\n",
    "scale = Map.get_scale()\n",
    "start_date = \"2020-01-01\"\n",
    "stop_date = \"2021-01-01\"\n",
    "\n",
    "sdb = bathymetry.Bathymetry()"
   ]
  },
  {
   "cell_type": "code",
   "execution_count": 4,
   "metadata": {},
   "outputs": [],
   "source": [
    "image = sdb.compute_inverse_depth(\n",
    "    bounds=bounds,\n",
    "    start=start_date,\n",
    "    stop=stop_date,\n",
    "    scale=scale*5,\n",
    "    missions=[\"L8\", \"S2\"],\n",
    "    filter_masked=True,\n",
    "#     skip_scene_boundary_fix=True\n",
    ")"
   ]
  },
  {
   "cell_type": "code",
   "execution_count": null,
   "metadata": {},
   "outputs": [],
   "source": []
  }
 ],
 "metadata": {
  "kernelspec": {
   "display_name": "Python 3 (ipykernel)",
   "language": "python",
   "name": "python3"
  },
  "language_info": {
   "codemirror_mode": {
    "name": "ipython",
    "version": 3
   },
   "file_extension": ".py",
   "mimetype": "text/x-python",
   "name": "python",
   "nbconvert_exporter": "python",
   "pygments_lexer": "ipython3",
   "version": "3.9.6"
  }
 },
 "nbformat": 4,
 "nbformat_minor": 2
}
