{
 "cells": [
  {
   "cell_type": "markdown",
   "metadata": {},
   "source": [
    "# Bathymetry Subtidal\n",
    "Tests subtidal bathymetry functions of `bathymetry.py`."
   ]
  },
  {
   "cell_type": "code",
   "execution_count": 1,
   "metadata": {},
   "outputs": [],
   "source": [
    "from pathlib import Path\n",
    "import sys\n",
    "import time\n",
    "\n",
    "import ee\n",
    "import geemap\n",
    "from geojson import Polygon\n",
    "\n",
    "sys.path.append(str(Path.cwd().parent.parent))\n",
    "\n",
    "from eobathymetry import bathymetry"
   ]
  },
  {
   "cell_type": "code",
   "execution_count": 2,
   "metadata": {},
   "outputs": [
    {
     "data": {
      "text/html": [
       "<p>To authorize access needed by Earth Engine, open the following\n",
       "        URL in a web browser and follow the instructions:</p>\n",
       "        <p><a href=https://accounts.google.com/o/oauth2/auth?client_id=517222506229-vsmmajv00ul0bs7p89v5m89qs8eb9359.apps.googleusercontent.com&scope=https%3A%2F%2Fwww.googleapis.com%2Fauth%2Fearthengine+https%3A%2F%2Fwww.googleapis.com%2Fauth%2Fdevstorage.full_control&redirect_uri=urn%3Aietf%3Awg%3Aoauth%3A2.0%3Aoob&response_type=code&code_challenge=x-2R2Rl8i8Pqu71FAo2CvHl1VC3aO63gyvKtVa1y1T4&code_challenge_method=S256>https://accounts.google.com/o/oauth2/auth?client_id=517222506229-vsmmajv00ul0bs7p89v5m89qs8eb9359.apps.googleusercontent.com&scope=https%3A%2F%2Fwww.googleapis.com%2Fauth%2Fearthengine+https%3A%2F%2Fwww.googleapis.com%2Fauth%2Fdevstorage.full_control&redirect_uri=urn%3Aietf%3Awg%3Aoauth%3A2.0%3Aoob&response_type=code&code_challenge=x-2R2Rl8i8Pqu71FAo2CvHl1VC3aO63gyvKtVa1y1T4&code_challenge_method=S256</a></p>\n",
       "        <p>The authorization workflow will generate a code, which you\n",
       "        should paste in the box below</p>\n",
       "        "
      ],
      "text/plain": [
       "<IPython.core.display.HTML object>"
      ]
     },
     "metadata": {},
     "output_type": "display_data"
    },
    {
     "name": "stdout",
     "output_type": "stream",
     "text": [
      "Enter verification code: 4/1AX4XfWgcWCFCDE2kXAw3s6kgHwi6PLa1Q1a3Ql2T25MnIdKPt5mXj6VBqhw\n",
      "\n",
      "Successfully saved authorization token.\n"
     ]
    },
    {
     "data": {
      "application/vnd.jupyter.widget-view+json": {
       "model_id": "402d5f4cc0084159b246f44b7a751180",
       "version_major": 2,
       "version_minor": 0
      },
      "text/plain": [
       "Map(center=[52.97, 4.74], controls=(WidgetControl(options=['position', 'transparent_bg'], widget=HBox(children…"
      ]
     },
     "metadata": {},
     "output_type": "display_data"
    }
   ],
   "source": [
    "Map = geemap.Map(center=(52.97, 4.74), zoom=11)\n",
    "bounds = ee.Geometry(Polygon([[\n",
    "    (4.574518432617185, 52.91662291147939),\n",
    "    (4.90548156738281, 52.91662291147939),\n",
    "    (4.90548156738281, 53.02331125248889),\n",
    "    (4.574518432617185, 53.02331125248889),\n",
    "    (4.574518432617185, 52.91662291147939)\n",
    "]]))\n",
    "# scale = Map.get_scale()\n",
    "scale = 30\n",
    "start_date = \"2020-01-01\"\n",
    "stop_date = \"2021-01-01\"\n",
    "\n",
    "sdb = bathymetry.Bathymetry()\n",
    "Map.addLayer(bounds)\n",
    "Map"
   ]
  },
  {
   "cell_type": "code",
   "execution_count": 3,
   "metadata": {},
   "outputs": [
    {
     "data": {
      "application/vnd.jupyter.widget-view+json": {
       "model_id": "402d5f4cc0084159b246f44b7a751180",
       "version_major": 2,
       "version_minor": 0
      },
      "text/plain": [
       "Map(bottom=171160.0, center=[52.97, 4.74], controls=(WidgetControl(options=['position', 'transparent_bg'], wid…"
      ]
     },
     "metadata": {},
     "output_type": "display_data"
    }
   ],
   "source": [
    "# Run interactively without neighborhood search\n",
    "image = sdb.compute_inverse_depth(\n",
    "    bounds=bounds,\n",
    "    start=start_date,\n",
    "    stop=stop_date,\n",
    "    scale=scale*5,\n",
    "    missions=[\"L8\", \"S2\"],\n",
    "    filter_masked=True,\n",
    "    skip_neighborhood_search=True\n",
    ")\n",
    "Map.addLayer(image.reproject(ee.Projection('EPSG:3857').atScale(90)))  # without projection, takes default projection\n",
    "Map"
   ]
  },
  {
   "cell_type": "code",
   "execution_count": 7,
   "metadata": {},
   "outputs": [
    {
     "name": "stdout",
     "output_type": "stream",
     "text": [
      "Asset users/jaapel/tests/test_inverse_depth not found\n",
      "Asset users/jaapel/tests already exists.\n"
     ]
    }
   ],
   "source": [
    "# Interactive times out, let's use the ee.batch.Export class' static methods to create assets\n",
    "image = sdb.compute_inverse_depth(\n",
    "    bounds=bounds,\n",
    "    start=start_date,\n",
    "    stop=stop_date,\n",
    "    scale=scale*5,\n",
    "    missions=[\"L8\", \"S2\"],\n",
    "    filter_masked=True,\n",
    "    skip_neighborhood_search=True # adds a lot of computation time if False\n",
    ").reproject(ee.Projection('EPSG:3857').atScale(90))\n",
    "user_name = ee.data.getAssetRoots()[0][\"id\"].split(\"/\")[-1]\n",
    "asset_id = f\"users/{user_name}/tests/test_inverse_depth\"\n",
    "try:\n",
    "    ee.data.deleteAsset(asset_id)\n",
    "except ee.EEException as e:\n",
    "    if f\"Asset \\\"projects/earthengine-legacy/assets/{asset_id}\\\" not found.\" not in str(e):\n",
    "        raise e\n",
    "    else:\n",
    "        print(f\"Asset {asset_id} not found\")\n",
    "    \n",
    "ee.data.create_assets(asset_ids=[\"/\".join(asset_id.split(\"/\")[:-1])], asset_type=\"Folder\", mk_parents=True)\n",
    "task = ee.batch.Export.image.toAsset(\n",
    "    image,\n",
    "    description=\"test_compute_inverse_depth\",\n",
    "    assetId=asset_id,\n",
    "    scale=5*scale,\n",
    "    maxPixels=1e11\n",
    ")"
   ]
  },
  {
   "cell_type": "code",
   "execution_count": 8,
   "metadata": {},
   "outputs": [],
   "source": [
    "task.start()"
   ]
  },
  {
   "cell_type": "code",
   "execution_count": null,
   "metadata": {},
   "outputs": [
    {
     "name": "stdout",
     "output_type": "stream",
     "text": [
      "{'state': 'READY', 'description': 'test_compute_inverse_depth', 'creation_timestamp_ms': 1632918354369, 'update_timestamp_ms': 1632918354369, 'start_timestamp_ms': 0, 'task_type': 'EXPORT_IMAGE', 'id': 'DGCDBGWFFTRMVODZDLTEEC3H', 'name': 'projects/earthengine-legacy/operations/DGCDBGWFFTRMVODZDLTEEC3H'}\n",
      "{'state': 'READY', 'description': 'test_compute_inverse_depth', 'creation_timestamp_ms': 1632918354369, 'update_timestamp_ms': 1632918354369, 'start_timestamp_ms': 0, 'task_type': 'EXPORT_IMAGE', 'id': 'DGCDBGWFFTRMVODZDLTEEC3H', 'name': 'projects/earthengine-legacy/operations/DGCDBGWFFTRMVODZDLTEEC3H'}\n",
      "{'state': 'READY', 'description': 'test_compute_inverse_depth', 'creation_timestamp_ms': 1632918354369, 'update_timestamp_ms': 1632918354369, 'start_timestamp_ms': 0, 'task_type': 'EXPORT_IMAGE', 'id': 'DGCDBGWFFTRMVODZDLTEEC3H', 'name': 'projects/earthengine-legacy/operations/DGCDBGWFFTRMVODZDLTEEC3H'}\n",
      "{'state': 'RUNNING', 'description': 'test_compute_inverse_depth', 'creation_timestamp_ms': 1632918354369, 'update_timestamp_ms': 1632918419427, 'start_timestamp_ms': 1632918419286, 'task_type': 'EXPORT_IMAGE', 'attempt': 1, 'id': 'DGCDBGWFFTRMVODZDLTEEC3H', 'name': 'projects/earthengine-legacy/operations/DGCDBGWFFTRMVODZDLTEEC3H'}\n",
      "{'state': 'RUNNING', 'description': 'test_compute_inverse_depth', 'creation_timestamp_ms': 1632918354369, 'update_timestamp_ms': 1632918419427, 'start_timestamp_ms': 1632918419286, 'task_type': 'EXPORT_IMAGE', 'attempt': 1, 'id': 'DGCDBGWFFTRMVODZDLTEEC3H', 'name': 'projects/earthengine-legacy/operations/DGCDBGWFFTRMVODZDLTEEC3H'}\n",
      "{'state': 'RUNNING', 'description': 'test_compute_inverse_depth', 'creation_timestamp_ms': 1632918354369, 'update_timestamp_ms': 1632918419427, 'start_timestamp_ms': 1632918419286, 'task_type': 'EXPORT_IMAGE', 'attempt': 1, 'id': 'DGCDBGWFFTRMVODZDLTEEC3H', 'name': 'projects/earthengine-legacy/operations/DGCDBGWFFTRMVODZDLTEEC3H'}\n",
      "{'state': 'RUNNING', 'description': 'test_compute_inverse_depth', 'creation_timestamp_ms': 1632918354369, 'update_timestamp_ms': 1632918419427, 'start_timestamp_ms': 1632918419286, 'task_type': 'EXPORT_IMAGE', 'attempt': 1, 'id': 'DGCDBGWFFTRMVODZDLTEEC3H', 'name': 'projects/earthengine-legacy/operations/DGCDBGWFFTRMVODZDLTEEC3H'}\n",
      "{'state': 'RUNNING', 'description': 'test_compute_inverse_depth', 'creation_timestamp_ms': 1632918354369, 'update_timestamp_ms': 1632918419427, 'start_timestamp_ms': 1632918419286, 'task_type': 'EXPORT_IMAGE', 'attempt': 1, 'id': 'DGCDBGWFFTRMVODZDLTEEC3H', 'name': 'projects/earthengine-legacy/operations/DGCDBGWFFTRMVODZDLTEEC3H'}\n",
      "{'state': 'RUNNING', 'description': 'test_compute_inverse_depth', 'creation_timestamp_ms': 1632918354369, 'update_timestamp_ms': 1632918569398, 'start_timestamp_ms': 1632918419286, 'task_type': 'EXPORT_IMAGE', 'attempt': 1, 'id': 'DGCDBGWFFTRMVODZDLTEEC3H', 'name': 'projects/earthengine-legacy/operations/DGCDBGWFFTRMVODZDLTEEC3H'}\n",
      "{'state': 'RUNNING', 'description': 'test_compute_inverse_depth', 'creation_timestamp_ms': 1632918354369, 'update_timestamp_ms': 1632918569398, 'start_timestamp_ms': 1632918419286, 'task_type': 'EXPORT_IMAGE', 'attempt': 1, 'id': 'DGCDBGWFFTRMVODZDLTEEC3H', 'name': 'projects/earthengine-legacy/operations/DGCDBGWFFTRMVODZDLTEEC3H'}\n",
      "{'state': 'RUNNING', 'description': 'test_compute_inverse_depth', 'creation_timestamp_ms': 1632918354369, 'update_timestamp_ms': 1632918569398, 'start_timestamp_ms': 1632918419286, 'task_type': 'EXPORT_IMAGE', 'attempt': 1, 'id': 'DGCDBGWFFTRMVODZDLTEEC3H', 'name': 'projects/earthengine-legacy/operations/DGCDBGWFFTRMVODZDLTEEC3H'}\n",
      "{'state': 'RUNNING', 'description': 'test_compute_inverse_depth', 'creation_timestamp_ms': 1632918354369, 'update_timestamp_ms': 1632918569398, 'start_timestamp_ms': 1632918419286, 'task_type': 'EXPORT_IMAGE', 'attempt': 1, 'id': 'DGCDBGWFFTRMVODZDLTEEC3H', 'name': 'projects/earthengine-legacy/operations/DGCDBGWFFTRMVODZDLTEEC3H'}\n",
      "{'state': 'RUNNING', 'description': 'test_compute_inverse_depth', 'creation_timestamp_ms': 1632918354369, 'update_timestamp_ms': 1632918569398, 'start_timestamp_ms': 1632918419286, 'task_type': 'EXPORT_IMAGE', 'attempt': 1, 'id': 'DGCDBGWFFTRMVODZDLTEEC3H', 'name': 'projects/earthengine-legacy/operations/DGCDBGWFFTRMVODZDLTEEC3H'}\n",
      "{'state': 'RUNNING', 'description': 'test_compute_inverse_depth', 'creation_timestamp_ms': 1632918354369, 'update_timestamp_ms': 1632918719418, 'start_timestamp_ms': 1632918419286, 'task_type': 'EXPORT_IMAGE', 'attempt': 1, 'id': 'DGCDBGWFFTRMVODZDLTEEC3H', 'name': 'projects/earthengine-legacy/operations/DGCDBGWFFTRMVODZDLTEEC3H'}\n",
      "{'state': 'RUNNING', 'description': 'test_compute_inverse_depth', 'creation_timestamp_ms': 1632918354369, 'update_timestamp_ms': 1632918719418, 'start_timestamp_ms': 1632918419286, 'task_type': 'EXPORT_IMAGE', 'attempt': 1, 'id': 'DGCDBGWFFTRMVODZDLTEEC3H', 'name': 'projects/earthengine-legacy/operations/DGCDBGWFFTRMVODZDLTEEC3H'}\n",
      "{'state': 'RUNNING', 'description': 'test_compute_inverse_depth', 'creation_timestamp_ms': 1632918354369, 'update_timestamp_ms': 1632918719418, 'start_timestamp_ms': 1632918419286, 'task_type': 'EXPORT_IMAGE', 'attempt': 1, 'id': 'DGCDBGWFFTRMVODZDLTEEC3H', 'name': 'projects/earthengine-legacy/operations/DGCDBGWFFTRMVODZDLTEEC3H'}\n",
      "{'state': 'RUNNING', 'description': 'test_compute_inverse_depth', 'creation_timestamp_ms': 1632918354369, 'update_timestamp_ms': 1632918719418, 'start_timestamp_ms': 1632918419286, 'task_type': 'EXPORT_IMAGE', 'attempt': 1, 'id': 'DGCDBGWFFTRMVODZDLTEEC3H', 'name': 'projects/earthengine-legacy/operations/DGCDBGWFFTRMVODZDLTEEC3H'}\n",
      "{'state': 'RUNNING', 'description': 'test_compute_inverse_depth', 'creation_timestamp_ms': 1632918354369, 'update_timestamp_ms': 1632918869407, 'start_timestamp_ms': 1632918419286, 'task_type': 'EXPORT_IMAGE', 'attempt': 1, 'id': 'DGCDBGWFFTRMVODZDLTEEC3H', 'name': 'projects/earthengine-legacy/operations/DGCDBGWFFTRMVODZDLTEEC3H'}\n",
      "{'state': 'RUNNING', 'description': 'test_compute_inverse_depth', 'creation_timestamp_ms': 1632918354369, 'update_timestamp_ms': 1632918869407, 'start_timestamp_ms': 1632918419286, 'task_type': 'EXPORT_IMAGE', 'attempt': 1, 'id': 'DGCDBGWFFTRMVODZDLTEEC3H', 'name': 'projects/earthengine-legacy/operations/DGCDBGWFFTRMVODZDLTEEC3H'}\n",
      "{'state': 'RUNNING', 'description': 'test_compute_inverse_depth', 'creation_timestamp_ms': 1632918354369, 'update_timestamp_ms': 1632918869407, 'start_timestamp_ms': 1632918419286, 'task_type': 'EXPORT_IMAGE', 'attempt': 1, 'id': 'DGCDBGWFFTRMVODZDLTEEC3H', 'name': 'projects/earthengine-legacy/operations/DGCDBGWFFTRMVODZDLTEEC3H'}\n",
      "{'state': 'RUNNING', 'description': 'test_compute_inverse_depth', 'creation_timestamp_ms': 1632918354369, 'update_timestamp_ms': 1632918869407, 'start_timestamp_ms': 1632918419286, 'task_type': 'EXPORT_IMAGE', 'attempt': 1, 'id': 'DGCDBGWFFTRMVODZDLTEEC3H', 'name': 'projects/earthengine-legacy/operations/DGCDBGWFFTRMVODZDLTEEC3H'}\n",
      "{'state': 'RUNNING', 'description': 'test_compute_inverse_depth', 'creation_timestamp_ms': 1632918354369, 'update_timestamp_ms': 1632918869407, 'start_timestamp_ms': 1632918419286, 'task_type': 'EXPORT_IMAGE', 'attempt': 1, 'id': 'DGCDBGWFFTRMVODZDLTEEC3H', 'name': 'projects/earthengine-legacy/operations/DGCDBGWFFTRMVODZDLTEEC3H'}\n",
      "{'state': 'RUNNING', 'description': 'test_compute_inverse_depth', 'creation_timestamp_ms': 1632918354369, 'update_timestamp_ms': 1632919019398, 'start_timestamp_ms': 1632918419286, 'task_type': 'EXPORT_IMAGE', 'attempt': 1, 'id': 'DGCDBGWFFTRMVODZDLTEEC3H', 'name': 'projects/earthengine-legacy/operations/DGCDBGWFFTRMVODZDLTEEC3H'}\n",
      "{'state': 'RUNNING', 'description': 'test_compute_inverse_depth', 'creation_timestamp_ms': 1632918354369, 'update_timestamp_ms': 1632919019398, 'start_timestamp_ms': 1632918419286, 'task_type': 'EXPORT_IMAGE', 'attempt': 1, 'id': 'DGCDBGWFFTRMVODZDLTEEC3H', 'name': 'projects/earthengine-legacy/operations/DGCDBGWFFTRMVODZDLTEEC3H'}\n",
      "{'state': 'RUNNING', 'description': 'test_compute_inverse_depth', 'creation_timestamp_ms': 1632918354369, 'update_timestamp_ms': 1632919019398, 'start_timestamp_ms': 1632918419286, 'task_type': 'EXPORT_IMAGE', 'attempt': 1, 'id': 'DGCDBGWFFTRMVODZDLTEEC3H', 'name': 'projects/earthengine-legacy/operations/DGCDBGWFFTRMVODZDLTEEC3H'}\n"
     ]
    },
    {
     "name": "stdout",
     "output_type": "stream",
     "text": [
      "{'state': 'RUNNING', 'description': 'test_compute_inverse_depth', 'creation_timestamp_ms': 1632918354369, 'update_timestamp_ms': 1632919019398, 'start_timestamp_ms': 1632918419286, 'task_type': 'EXPORT_IMAGE', 'attempt': 1, 'id': 'DGCDBGWFFTRMVODZDLTEEC3H', 'name': 'projects/earthengine-legacy/operations/DGCDBGWFFTRMVODZDLTEEC3H'}\n",
      "{'state': 'RUNNING', 'description': 'test_compute_inverse_depth', 'creation_timestamp_ms': 1632918354369, 'update_timestamp_ms': 1632919019398, 'start_timestamp_ms': 1632918419286, 'task_type': 'EXPORT_IMAGE', 'attempt': 1, 'id': 'DGCDBGWFFTRMVODZDLTEEC3H', 'name': 'projects/earthengine-legacy/operations/DGCDBGWFFTRMVODZDLTEEC3H'}\n",
      "{'state': 'RUNNING', 'description': 'test_compute_inverse_depth', 'creation_timestamp_ms': 1632918354369, 'update_timestamp_ms': 1632919169399, 'start_timestamp_ms': 1632918419286, 'task_type': 'EXPORT_IMAGE', 'attempt': 1, 'id': 'DGCDBGWFFTRMVODZDLTEEC3H', 'name': 'projects/earthengine-legacy/operations/DGCDBGWFFTRMVODZDLTEEC3H'}\n",
      "{'state': 'RUNNING', 'description': 'test_compute_inverse_depth', 'creation_timestamp_ms': 1632918354369, 'update_timestamp_ms': 1632919169399, 'start_timestamp_ms': 1632918419286, 'task_type': 'EXPORT_IMAGE', 'attempt': 1, 'id': 'DGCDBGWFFTRMVODZDLTEEC3H', 'name': 'projects/earthengine-legacy/operations/DGCDBGWFFTRMVODZDLTEEC3H'}\n",
      "{'state': 'RUNNING', 'description': 'test_compute_inverse_depth', 'creation_timestamp_ms': 1632918354369, 'update_timestamp_ms': 1632919169399, 'start_timestamp_ms': 1632918419286, 'task_type': 'EXPORT_IMAGE', 'attempt': 1, 'id': 'DGCDBGWFFTRMVODZDLTEEC3H', 'name': 'projects/earthengine-legacy/operations/DGCDBGWFFTRMVODZDLTEEC3H'}\n",
      "{'state': 'RUNNING', 'description': 'test_compute_inverse_depth', 'creation_timestamp_ms': 1632918354369, 'update_timestamp_ms': 1632919169399, 'start_timestamp_ms': 1632918419286, 'task_type': 'EXPORT_IMAGE', 'attempt': 1, 'id': 'DGCDBGWFFTRMVODZDLTEEC3H', 'name': 'projects/earthengine-legacy/operations/DGCDBGWFFTRMVODZDLTEEC3H'}\n",
      "{'state': 'RUNNING', 'description': 'test_compute_inverse_depth', 'creation_timestamp_ms': 1632918354369, 'update_timestamp_ms': 1632919169399, 'start_timestamp_ms': 1632918419286, 'task_type': 'EXPORT_IMAGE', 'attempt': 1, 'id': 'DGCDBGWFFTRMVODZDLTEEC3H', 'name': 'projects/earthengine-legacy/operations/DGCDBGWFFTRMVODZDLTEEC3H'}\n",
      "{'state': 'RUNNING', 'description': 'test_compute_inverse_depth', 'creation_timestamp_ms': 1632918354369, 'update_timestamp_ms': 1632919319400, 'start_timestamp_ms': 1632918419286, 'task_type': 'EXPORT_IMAGE', 'attempt': 1, 'id': 'DGCDBGWFFTRMVODZDLTEEC3H', 'name': 'projects/earthengine-legacy/operations/DGCDBGWFFTRMVODZDLTEEC3H'}\n",
      "{'state': 'RUNNING', 'description': 'test_compute_inverse_depth', 'creation_timestamp_ms': 1632918354369, 'update_timestamp_ms': 1632919319400, 'start_timestamp_ms': 1632918419286, 'task_type': 'EXPORT_IMAGE', 'attempt': 1, 'id': 'DGCDBGWFFTRMVODZDLTEEC3H', 'name': 'projects/earthengine-legacy/operations/DGCDBGWFFTRMVODZDLTEEC3H'}\n",
      "{'state': 'RUNNING', 'description': 'test_compute_inverse_depth', 'creation_timestamp_ms': 1632918354369, 'update_timestamp_ms': 1632919319400, 'start_timestamp_ms': 1632918419286, 'task_type': 'EXPORT_IMAGE', 'attempt': 1, 'id': 'DGCDBGWFFTRMVODZDLTEEC3H', 'name': 'projects/earthengine-legacy/operations/DGCDBGWFFTRMVODZDLTEEC3H'}\n",
      "{'state': 'RUNNING', 'description': 'test_compute_inverse_depth', 'creation_timestamp_ms': 1632918354369, 'update_timestamp_ms': 1632919319400, 'start_timestamp_ms': 1632918419286, 'task_type': 'EXPORT_IMAGE', 'attempt': 1, 'id': 'DGCDBGWFFTRMVODZDLTEEC3H', 'name': 'projects/earthengine-legacy/operations/DGCDBGWFFTRMVODZDLTEEC3H'}\n",
      "{'state': 'RUNNING', 'description': 'test_compute_inverse_depth', 'creation_timestamp_ms': 1632918354369, 'update_timestamp_ms': 1632919319400, 'start_timestamp_ms': 1632918419286, 'task_type': 'EXPORT_IMAGE', 'attempt': 1, 'id': 'DGCDBGWFFTRMVODZDLTEEC3H', 'name': 'projects/earthengine-legacy/operations/DGCDBGWFFTRMVODZDLTEEC3H'}\n",
      "{'state': 'RUNNING', 'description': 'test_compute_inverse_depth', 'creation_timestamp_ms': 1632918354369, 'update_timestamp_ms': 1632919469397, 'start_timestamp_ms': 1632918419286, 'task_type': 'EXPORT_IMAGE', 'attempt': 1, 'id': 'DGCDBGWFFTRMVODZDLTEEC3H', 'name': 'projects/earthengine-legacy/operations/DGCDBGWFFTRMVODZDLTEEC3H'}\n",
      "{'state': 'RUNNING', 'description': 'test_compute_inverse_depth', 'creation_timestamp_ms': 1632918354369, 'update_timestamp_ms': 1632919469397, 'start_timestamp_ms': 1632918419286, 'task_type': 'EXPORT_IMAGE', 'attempt': 1, 'id': 'DGCDBGWFFTRMVODZDLTEEC3H', 'name': 'projects/earthengine-legacy/operations/DGCDBGWFFTRMVODZDLTEEC3H'}\n",
      "{'state': 'RUNNING', 'description': 'test_compute_inverse_depth', 'creation_timestamp_ms': 1632918354369, 'update_timestamp_ms': 1632919469397, 'start_timestamp_ms': 1632918419286, 'task_type': 'EXPORT_IMAGE', 'attempt': 1, 'id': 'DGCDBGWFFTRMVODZDLTEEC3H', 'name': 'projects/earthengine-legacy/operations/DGCDBGWFFTRMVODZDLTEEC3H'}\n",
      "{'state': 'RUNNING', 'description': 'test_compute_inverse_depth', 'creation_timestamp_ms': 1632918354369, 'update_timestamp_ms': 1632919469397, 'start_timestamp_ms': 1632918419286, 'task_type': 'EXPORT_IMAGE', 'attempt': 1, 'id': 'DGCDBGWFFTRMVODZDLTEEC3H', 'name': 'projects/earthengine-legacy/operations/DGCDBGWFFTRMVODZDLTEEC3H'}\n",
      "{'state': 'RUNNING', 'description': 'test_compute_inverse_depth', 'creation_timestamp_ms': 1632918354369, 'update_timestamp_ms': 1632919469397, 'start_timestamp_ms': 1632918419286, 'task_type': 'EXPORT_IMAGE', 'attempt': 1, 'id': 'DGCDBGWFFTRMVODZDLTEEC3H', 'name': 'projects/earthengine-legacy/operations/DGCDBGWFFTRMVODZDLTEEC3H'}\n",
      "{'state': 'RUNNING', 'description': 'test_compute_inverse_depth', 'creation_timestamp_ms': 1632918354369, 'update_timestamp_ms': 1632919619400, 'start_timestamp_ms': 1632918419286, 'task_type': 'EXPORT_IMAGE', 'attempt': 1, 'id': 'DGCDBGWFFTRMVODZDLTEEC3H', 'name': 'projects/earthengine-legacy/operations/DGCDBGWFFTRMVODZDLTEEC3H'}\n",
      "{'state': 'RUNNING', 'description': 'test_compute_inverse_depth', 'creation_timestamp_ms': 1632918354369, 'update_timestamp_ms': 1632919619400, 'start_timestamp_ms': 1632918419286, 'task_type': 'EXPORT_IMAGE', 'attempt': 1, 'id': 'DGCDBGWFFTRMVODZDLTEEC3H', 'name': 'projects/earthengine-legacy/operations/DGCDBGWFFTRMVODZDLTEEC3H'}\n",
      "{'state': 'RUNNING', 'description': 'test_compute_inverse_depth', 'creation_timestamp_ms': 1632918354369, 'update_timestamp_ms': 1632919619400, 'start_timestamp_ms': 1632918419286, 'task_type': 'EXPORT_IMAGE', 'attempt': 1, 'id': 'DGCDBGWFFTRMVODZDLTEEC3H', 'name': 'projects/earthengine-legacy/operations/DGCDBGWFFTRMVODZDLTEEC3H'}\n",
      "{'state': 'RUNNING', 'description': 'test_compute_inverse_depth', 'creation_timestamp_ms': 1632918354369, 'update_timestamp_ms': 1632919619400, 'start_timestamp_ms': 1632918419286, 'task_type': 'EXPORT_IMAGE', 'attempt': 1, 'id': 'DGCDBGWFFTRMVODZDLTEEC3H', 'name': 'projects/earthengine-legacy/operations/DGCDBGWFFTRMVODZDLTEEC3H'}\n",
      "{'state': 'RUNNING', 'description': 'test_compute_inverse_depth', 'creation_timestamp_ms': 1632918354369, 'update_timestamp_ms': 1632919619400, 'start_timestamp_ms': 1632918419286, 'task_type': 'EXPORT_IMAGE', 'attempt': 1, 'id': 'DGCDBGWFFTRMVODZDLTEEC3H', 'name': 'projects/earthengine-legacy/operations/DGCDBGWFFTRMVODZDLTEEC3H'}\n",
      "{'state': 'RUNNING', 'description': 'test_compute_inverse_depth', 'creation_timestamp_ms': 1632918354369, 'update_timestamp_ms': 1632919769403, 'start_timestamp_ms': 1632918419286, 'task_type': 'EXPORT_IMAGE', 'attempt': 1, 'id': 'DGCDBGWFFTRMVODZDLTEEC3H', 'name': 'projects/earthengine-legacy/operations/DGCDBGWFFTRMVODZDLTEEC3H'}\n"
     ]
    }
   ],
   "source": [
    "task_status = task.status()\n",
    "while task_status['state'] in ['READY', 'RUNNING']:\n",
    "    print(task_status)\n",
    "    time.sleep(30)\n",
    "    task_status = task.status()\n",
    "else:\n",
    "    print(task.status())"
   ]
  },
  {
   "cell_type": "code",
   "execution_count": null,
   "metadata": {},
   "outputs": [],
   "source": [
    "image_subtidal = ee.Image(asset_id)\n",
    "Map.addLayer(image_subtidal, {\"gamma\": 1.2}, 'RGB_raw', True)\n",
    "Map"
   ]
  }
 ],
 "metadata": {
  "kernelspec": {
   "display_name": "Python 3 (ipykernel)",
   "language": "python",
   "name": "python3"
  },
  "language_info": {
   "codemirror_mode": {
    "name": "ipython",
    "version": 3
   },
   "file_extension": ".py",
   "mimetype": "text/x-python",
   "name": "python",
   "nbconvert_exporter": "python",
   "pygments_lexer": "ipython3",
   "version": "3.9.6"
  }
 },
 "nbformat": 4,
 "nbformat_minor": 2
}
