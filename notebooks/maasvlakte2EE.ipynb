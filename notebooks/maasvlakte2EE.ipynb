{
 "cells": [
  {
   "cell_type": "code",
   "execution_count": 1,
   "metadata": {},
   "outputs": [],
   "source": [
    "#%matplotlib inline\n",
    "\n",
    "import subprocess\n",
    "import itertools\n",
    "import numpy as np\n",
    "import requests\n",
    "import pytz\n",
    "import datetime\n",
    "import netCDF4\n",
    "from osgeo import gdal\n",
    "from os import path\n",
    "from osgeo.gdalconst import *\n",
    "from tqdm import tqdm\n",
    "from bs4 import BeautifulSoup\n"
   ]
  },
  {
   "cell_type": "code",
   "execution_count": 2,
   "metadata": {},
   "outputs": [],
   "source": [
    "url_catalog = 'https://opendap.deltares.nl/thredds/catalog/opendap/rijkswaterstaat/maasvlakte/catalog.html'\n",
    "url_base = 'http://opendap.deltares.nl/thredds/dodsC/opendap/rijkswaterstaat/maasvlakte'\n",
    "ext = 'nc'\n",
    "urls = []\n",
    "\n",
    "\n",
    "def listFD(url, ext=''):\n",
    "    page = requests.get(url).text\n",
    "    soup = BeautifulSoup(page, 'html.parser')\n",
    "\n",
    "    return [url + '/' + node.get('href') for node in soup.find_all('a') if node.get('href').endswith(ext)]\n",
    "\n",
    "\n",
    "for ncfile in listFD(url_catalog, ext):\n",
    "    items = ncfile.split('/catalog.html/')\n",
    "    filename = items[1].split('/')[-1]\n",
    "    url = url_base + '/' + filename\n",
    "    urls.append(url)"
   ]
  },
  {
   "cell_type": "code",
   "execution_count": 3,
   "metadata": {},
   "outputs": [
    {
     "data": {
      "text/plain": [
       "['http://opendap.deltares.nl/thredds/dodsC/opendap/rijkswaterstaat/maasvlakte/maasvlakteKB117_3938.nc',\n",
       " 'http://opendap.deltares.nl/thredds/dodsC/opendap/rijkswaterstaat/maasvlakte/maasvlakteKB116_4140.nc',\n",
       " 'http://opendap.deltares.nl/thredds/dodsC/opendap/rijkswaterstaat/maasvlakte/maasvlakteKB116_3938.nc']"
      ]
     },
     "execution_count": 3,
     "metadata": {},
     "output_type": "execute_result"
    }
   ],
   "source": [
    "urls[:]\n"
   ]
  },
  {
   "cell_type": "code",
   "execution_count": 4,
   "metadata": {},
   "outputs": [
    {
     "name": "stderr",
     "output_type": "stream",
     "text": [
      "100%|████████████████████████████████████████████████████████████████████████████████████| 3/3 [00:08<00:00,  2.84s/it]\n"
     ]
    }
   ],
   "source": [
    "grids = []\n",
    "for url in tqdm(urls[:]):\n",
    "    ds = netCDF4.Dataset(url)\n",
    "    times = netCDF4.num2date(ds.variables['time'][:], ds.variables['time'].units, calendar='julian')\n",
    "    local = pytz.timezone(\"Europe/Amsterdam\")\n",
    "    # times = [local.localize(t, is_dst=None).astimezone(pytz.utc) for t in times]\n",
    "    times = [datetime.datetime.strptime(t.isoformat(), \"%Y-%m-%dT%H:%M:%S\").replace(tzinfo=pytz.utc) for t in times]\n",
    "    arrs = []\n",
    "    z = ds.variables['z'][:]\n",
    "    x = ds.variables['x'][:]\n",
    "    y = ds.variables['y'][:]\n",
    "\n",
    "    grids.append({\n",
    "        \"url\": url,\n",
    "        \"x\": x,\n",
    "        \"y\": y,\n",
    "        \"z\": z,\n",
    "        \"times\": times\n",
    "    })\n",
    "    ds.close()\n"
   ]
  },
  {
   "cell_type": "code",
   "execution_count": 5,
   "metadata": {},
   "outputs": [
    {
     "data": {
      "text/plain": [
       "27"
      ]
     },
     "execution_count": 5,
     "metadata": {},
     "output_type": "execute_result"
    }
   ],
   "source": [
    "count = len(list(itertools.chain.from_iterable([g['times'] for g in grids])))\n",
    "count"
   ]
  },
  {
   "cell_type": "code",
   "execution_count": 6,
   "metadata": {
    "scrolled": true
   },
   "outputs": [
    {
     "name": "stdout",
     "output_type": "stream",
     "text": [
      "[[-- -- -- ... -- -- --]\n",
      " [-- -- -- ... -- -- --]\n",
      " [-- -- -- ... -- -- --]\n",
      " ...\n",
      " [-- -- -- ... -- -- --]\n",
      " [-- -- -- ... -- -- --]\n",
      " [-- -- -- ... -- -- --]]\n"
     ]
    }
   ],
   "source": [
    "print(grids[0]['z'][0])"
   ]
  },
  {
   "cell_type": "code",
   "execution_count": 7,
   "metadata": {},
   "outputs": [],
   "source": [
    "\n",
    "#cmd\n",
    "#subprocess.call('gsutil cp '../output/bathymetry_1985_0001.tif' gs://eo-bathymetry-rws/vaklodingen/bathymetry_1985_0001.tif', shell=True)\n",
    "#ccc=r\"dir\"\n",
    "#ccc\n",
    "#subprocess.call(ccc)"
   ]
  },
  {
   "cell_type": "code",
   "execution_count": 8,
   "metadata": {},
   "outputs": [],
   "source": [
    "ee_collection_path = 'projects/bathymetry/assets/maasvlakte' #"
   ]
  },
  {
   "cell_type": "code",
   "execution_count": 9,
   "metadata": {},
   "outputs": [],
   "source": [
    "def run(cmd, shell=False):\n",
    "    # print(cmd)\n",
    "    subprocess.call(cmd,shell=shell)"
   ]
  },
  {
   "cell_type": "code",
   "execution_count": 10,
   "metadata": {},
   "outputs": [
    {
     "name": "stderr",
     "output_type": "stream",
     "text": [
      "100%|████████████████████████████████████████████████████████████████████████████████████████████| 3/3 [00:00<?, ?it/s]"
     ]
    },
    {
     "name": "stdout",
     "output_type": "stream",
     "text": [
      "[datetime.datetime(2013, 1, 1, 0, 0, tzinfo=<UTC>), datetime.datetime(2014, 1, 1, 0, 0, tzinfo=<UTC>), datetime.datetime(2015, 1, 1, 0, 0, tzinfo=<UTC>), datetime.datetime(2016, 1, 1, 0, 0, tzinfo=<UTC>), datetime.datetime(2017, 1, 1, 0, 0, tzinfo=<UTC>), datetime.datetime(2018, 1, 1, 0, 0, tzinfo=<UTC>), datetime.datetime(2019, 1, 1, 0, 0, tzinfo=<UTC>), datetime.datetime(2020, 1, 1, 0, 0, tzinfo=<UTC>), datetime.datetime(2021, 1, 1, 0, 0, tzinfo=<UTC>)]\n",
      "[datetime.datetime(2013, 1, 1, 0, 0, tzinfo=<UTC>), datetime.datetime(2014, 1, 1, 0, 0, tzinfo=<UTC>), datetime.datetime(2015, 1, 1, 0, 0, tzinfo=<UTC>), datetime.datetime(2016, 1, 1, 0, 0, tzinfo=<UTC>), datetime.datetime(2017, 1, 1, 0, 0, tzinfo=<UTC>), datetime.datetime(2018, 1, 1, 0, 0, tzinfo=<UTC>), datetime.datetime(2019, 1, 1, 0, 0, tzinfo=<UTC>), datetime.datetime(2020, 1, 1, 0, 0, tzinfo=<UTC>), datetime.datetime(2021, 1, 1, 0, 0, tzinfo=<UTC>)]\n",
      "[datetime.datetime(2013, 1, 1, 0, 0, tzinfo=<UTC>), datetime.datetime(2014, 1, 1, 0, 0, tzinfo=<UTC>), datetime.datetime(2015, 1, 1, 0, 0, tzinfo=<UTC>), datetime.datetime(2016, 1, 1, 0, 0, tzinfo=<UTC>), datetime.datetime(2017, 1, 1, 0, 0, tzinfo=<UTC>), datetime.datetime(2018, 1, 1, 0, 0, tzinfo=<UTC>), datetime.datetime(2019, 1, 1, 0, 0, tzinfo=<UTC>), datetime.datetime(2020, 1, 1, 0, 0, tzinfo=<UTC>), datetime.datetime(2021, 1, 1, 0, 0, tzinfo=<UTC>)]\n"
     ]
    },
    {
     "name": "stderr",
     "output_type": "stream",
     "text": [
      "\n"
     ]
    }
   ],
   "source": [
    "for g in tqdm(grids):\n",
    "    print(g['times'])"
   ]
  },
  {
   "cell_type": "code",
   "execution_count": 11,
   "metadata": {
    "scrolled": true
   },
   "outputs": [
    {
     "name": "stderr",
     "output_type": "stream",
     "text": [
      "100%|████████████████████████████████████████████████████████████████████████████████████| 3/3 [00:25<00:00,  8.48s/it]\n"
     ]
    }
   ],
   "source": [
    "import os\n",
    "\n",
    "start_index = 0\n",
    "dirbathy = r'../../output_maasvlakte/'\n",
    "j = 0\n",
    "ts = []\n",
    "if not os.path.exists(dirbathy):\n",
    "    os.makedirs(dirbathy)\n",
    "for g in tqdm(grids):\n",
    "    ncols = len(g['x'])\n",
    "    nrows = len(g['y'])\n",
    "    cellsize = g['x'][1] - g['x'][0]\n",
    "    # taking corners\n",
    "    xllcorner = np.min(g['x']-10)\n",
    "    yllcorner = np.min(g['y']-10)\n",
    "    nodata_value = -32767\n",
    "    z = g['z']\n",
    "    #print(z.shape)\n",
    "\n",
    "    for i, t in enumerate(g['times']):\n",
    "        ts.append(t)\n",
    "        if i < start_index:\n",
    "            i = i + 1\n",
    "            continue\n",
    "        j += 1\n",
    "        filename = 'maasvlakte_' + str(str(t)[:4]) + '_' + str(j).rjust(3, '0')\n",
    "        filepath = dirbathy  + filename\n",
    "        filepath_asc = filepath + '.asc'\n",
    "        filepath_tif = filepath + '.tif'\n",
    "\n",
    "        zi = z[i]\n",
    "\n",
    "        with open(filepath_asc, 'w') as f:\n",
    "            f.write('ncols {0}\\n'.format(ncols))\n",
    "            f.write('nrows {0}\\n'.format(nrows))\n",
    "            f.write('cellsize {0}\\n'.format(cellsize))\n",
    "            f.write('xllcorner {0}\\n'.format(xllcorner))\n",
    "            f.write('yllcorner {0}\\n'.format(yllcorner))\n",
    "            f.write('nodata_value {0}\\n'.format(nodata_value))\n",
    "            for row in range(nrows-1,-1,-1):\n",
    "                s = ' '.join([str(v) for v in zi[row,]]).replace('--', str(nodata_value))\n",
    "                f.write(s)\n",
    "                f.write('\\n')\n",
    "\n",
    "        #cmd = 'gdal_translate -ot Float32 -a_srs EPSG:28992 -co COMPRESS=DEFLATE -co PREDICTOR=2 -co ZLEVEL=6 -of GTiff {0} {1}'\\\n",
    "        #    .format(filepath_asc, filepath_tif)\n",
    "        # per tile\n",
    "        cmd = 'gdal_translate -ot Float32 -a_srs EPSG:28992 -of COG {0} {1}'\\\n",
    "            .format(filepath_asc, filepath_tif)\n",
    "        run(cmd)\n"
   ]
  },
  {
   "cell_type": "code",
   "execution_count": 12,
   "metadata": {},
   "outputs": [],
   "source": [
    "# merge per year\n",
    "uts = list(dict.fromkeys(ts)) # unique times\n",
    "uyears = [int(str(tt)[:4]) for tt in uts] # unique years\n",
    "\n",
    "for ii, tt in enumerate(uyears):\n",
    "    filename = 'maasvlakte_' + str(str(tt)[:4])\n",
    "    filepath = dirbathy + filename\n",
    "    filepath_tif = [dirbathy+ll for ll in os.listdir(dirbathy) if str(tt) in ll and ll.endswith('.tif')]\n",
    "    filepath_year_tif = filepath + '.tif'\n",
    "    \n",
    "    # per year\n",
    "    files_to_mosaic = filepath_tif \n",
    "    g = gdal.Warp(filepath_year_tif, files_to_mosaic, dstSRS='EPSG:28992', \n",
    "                  outputType=gdal.GDT_Float32, format=\"COG\",\n",
    "                  options=[\"COMPRESS=LZW\", \"TILED=YES\"])\n",
    "    g = None \n",
    "    \n",
    "    filepath_gs = 'gs://eo-bathymetry-rws/maasvlakte/' + filename  # temporary file system in storage bucket\n",
    "    #print(filepath_gs)\n",
    "    cmd = 'gsutil cp {0} {1}' \\\n",
    "        .format(filepath_year_tif, filepath_gs)\n",
    "    run(cmd, shell=True)\n",
    "\n",
    "    filepath_ee = ee_collection_path + '/' + filename\n",
    "    #print(filepath_ee)\n",
    "    cmd = 'earthengine upload image --wait --asset_id={0} --nodata_value={1} {2}' \\\n",
    "        .format(filepath_ee, nodata_value, filepath_gs)\n",
    "    run(cmd, shell=True)\n",
    "\n",
    "    time_start = int(uts[ii].timestamp() * 1000)\n",
    "    cmd = 'earthengine asset set --time_start {0} {1}' \\\n",
    "        .format(time_start, filepath_ee)\n",
    "    run(cmd, shell=True)\n",
    "\n",
    "    cmd = 'earthengine acl set public {0}' \\\n",
    "        .format(filepath_ee)\n",
    "    run(cmd, shell=True)\n"
   ]
  },
  {
   "cell_type": "code",
   "execution_count": 13,
   "metadata": {},
   "outputs": [],
   "source": [
    "#filepath_ee\n",
    "#cmd = 'earthengine upload image --wait --asset_id={0} --nodata_value={1} {2}' \\\n",
    "#              .format(filepath_ee, nodata_value, filepath_gs)\n",
    "#print(cmd)\n"
   ]
  },
  {
   "cell_type": "code",
   "execution_count": 14,
   "metadata": {},
   "outputs": [],
   "source": [
    "# following is just for testing."
   ]
  },
  {
   "cell_type": "code",
   "execution_count": 15,
   "metadata": {},
   "outputs": [
    {
     "ename": "FileNotFoundError",
     "evalue": "[WinError 2] The system cannot find the file specified",
     "output_type": "error",
     "traceback": [
      "\u001b[1;31m---------------------------------------------------------------------------\u001b[0m",
      "\u001b[1;31mFileNotFoundError\u001b[0m                         Traceback (most recent call last)",
      "Input \u001b[1;32mIn [15]\u001b[0m, in \u001b[0;36m<cell line: 7>\u001b[1;34m()\u001b[0m\n\u001b[0;32m      4\u001b[0m gsutil \u001b[38;5;241m=\u001b[39m \u001b[38;5;124m'\u001b[39m\u001b[38;5;124mgsutil\u001b[39m\u001b[38;5;124m'\u001b[39m\n\u001b[0;32m      5\u001b[0m cmd \u001b[38;5;241m=\u001b[39m gsutil \u001b[38;5;241m+\u001b[39m \u001b[38;5;124m'\u001b[39m\u001b[38;5;124m cp \u001b[39m\u001b[38;5;132;01m{0}\u001b[39;00m\u001b[38;5;124m \u001b[39m\u001b[38;5;132;01m{1}\u001b[39;00m\u001b[38;5;124m'\u001b[39m\\\n\u001b[0;32m      6\u001b[0m     \u001b[38;5;241m.\u001b[39mformat(filepath_tif, filepath_gs)\n\u001b[1;32m----> 7\u001b[0m \u001b[43mrun\u001b[49m\u001b[43m(\u001b[49m\u001b[43mcmd\u001b[49m\u001b[43m)\u001b[49m\n\u001b[0;32m      9\u001b[0m filepath_ee \u001b[38;5;241m=\u001b[39m ee_collection_path \u001b[38;5;241m+\u001b[39m \u001b[38;5;124m'\u001b[39m\u001b[38;5;124m/\u001b[39m\u001b[38;5;124m'\u001b[39m \u001b[38;5;241m+\u001b[39m filename        \n\u001b[0;32m     10\u001b[0m cmd \u001b[38;5;241m=\u001b[39m \u001b[38;5;124m'\u001b[39m\u001b[38;5;124mearthengine upload image --wait --asset_id=\u001b[39m\u001b[38;5;132;01m{0}\u001b[39;00m\u001b[38;5;124m --nodata_value=\u001b[39m\u001b[38;5;132;01m{1}\u001b[39;00m\u001b[38;5;124m \u001b[39m\u001b[38;5;132;01m{2}\u001b[39;00m\u001b[38;5;124m'\u001b[39m\\\n\u001b[0;32m     11\u001b[0m     \u001b[38;5;241m.\u001b[39mformat(filepath_ee, nodata_value, filepath_gs)        \n",
      "Input \u001b[1;32mIn [9]\u001b[0m, in \u001b[0;36mrun\u001b[1;34m(cmd, shell)\u001b[0m\n\u001b[0;32m      1\u001b[0m \u001b[38;5;28;01mdef\u001b[39;00m \u001b[38;5;21mrun\u001b[39m(cmd, shell\u001b[38;5;241m=\u001b[39m\u001b[38;5;28;01mFalse\u001b[39;00m):\n\u001b[0;32m      2\u001b[0m     \u001b[38;5;66;03m# print(cmd)\u001b[39;00m\n\u001b[1;32m----> 3\u001b[0m     \u001b[43msubprocess\u001b[49m\u001b[38;5;241;43m.\u001b[39;49m\u001b[43mcall\u001b[49m\u001b[43m(\u001b[49m\u001b[43mcmd\u001b[49m\u001b[43m,\u001b[49m\u001b[43mshell\u001b[49m\u001b[38;5;241;43m=\u001b[39;49m\u001b[43mshell\u001b[49m\u001b[43m)\u001b[49m\n",
      "File \u001b[1;32m~\\Miniconda3\\envs\\geospatial_py39\\lib\\subprocess.py:349\u001b[0m, in \u001b[0;36mcall\u001b[1;34m(timeout, *popenargs, **kwargs)\u001b[0m\n\u001b[0;32m    341\u001b[0m \u001b[38;5;28;01mdef\u001b[39;00m \u001b[38;5;21mcall\u001b[39m(\u001b[38;5;241m*\u001b[39mpopenargs, timeout\u001b[38;5;241m=\u001b[39m\u001b[38;5;28;01mNone\u001b[39;00m, \u001b[38;5;241m*\u001b[39m\u001b[38;5;241m*\u001b[39mkwargs):\n\u001b[0;32m    342\u001b[0m     \u001b[38;5;124;03m\"\"\"Run command with arguments.  Wait for command to complete or\u001b[39;00m\n\u001b[0;32m    343\u001b[0m \u001b[38;5;124;03m    timeout, then return the returncode attribute.\u001b[39;00m\n\u001b[0;32m    344\u001b[0m \n\u001b[1;32m   (...)\u001b[0m\n\u001b[0;32m    347\u001b[0m \u001b[38;5;124;03m    retcode = call([\"ls\", \"-l\"])\u001b[39;00m\n\u001b[0;32m    348\u001b[0m \u001b[38;5;124;03m    \"\"\"\u001b[39;00m\n\u001b[1;32m--> 349\u001b[0m     \u001b[38;5;28;01mwith\u001b[39;00m Popen(\u001b[38;5;241m*\u001b[39mpopenargs, \u001b[38;5;241m*\u001b[39m\u001b[38;5;241m*\u001b[39mkwargs) \u001b[38;5;28;01mas\u001b[39;00m p:\n\u001b[0;32m    350\u001b[0m         \u001b[38;5;28;01mtry\u001b[39;00m:\n\u001b[0;32m    351\u001b[0m             \u001b[38;5;28;01mreturn\u001b[39;00m p\u001b[38;5;241m.\u001b[39mwait(timeout\u001b[38;5;241m=\u001b[39mtimeout)\n",
      "File \u001b[1;32m~\\Miniconda3\\envs\\geospatial_py39\\lib\\subprocess.py:947\u001b[0m, in \u001b[0;36mPopen.__init__\u001b[1;34m(self, args, bufsize, executable, stdin, stdout, stderr, preexec_fn, close_fds, shell, cwd, env, universal_newlines, startupinfo, creationflags, restore_signals, start_new_session, pass_fds, user, group, extra_groups, encoding, errors, text, umask)\u001b[0m\n\u001b[0;32m    943\u001b[0m         \u001b[38;5;28;01mif\u001b[39;00m \u001b[38;5;28mself\u001b[39m\u001b[38;5;241m.\u001b[39mtext_mode:\n\u001b[0;32m    944\u001b[0m             \u001b[38;5;28mself\u001b[39m\u001b[38;5;241m.\u001b[39mstderr \u001b[38;5;241m=\u001b[39m io\u001b[38;5;241m.\u001b[39mTextIOWrapper(\u001b[38;5;28mself\u001b[39m\u001b[38;5;241m.\u001b[39mstderr,\n\u001b[0;32m    945\u001b[0m                     encoding\u001b[38;5;241m=\u001b[39mencoding, errors\u001b[38;5;241m=\u001b[39merrors)\n\u001b[1;32m--> 947\u001b[0m     \u001b[38;5;28;43mself\u001b[39;49m\u001b[38;5;241;43m.\u001b[39;49m\u001b[43m_execute_child\u001b[49m\u001b[43m(\u001b[49m\u001b[43margs\u001b[49m\u001b[43m,\u001b[49m\u001b[43m \u001b[49m\u001b[43mexecutable\u001b[49m\u001b[43m,\u001b[49m\u001b[43m \u001b[49m\u001b[43mpreexec_fn\u001b[49m\u001b[43m,\u001b[49m\u001b[43m \u001b[49m\u001b[43mclose_fds\u001b[49m\u001b[43m,\u001b[49m\n\u001b[0;32m    948\u001b[0m \u001b[43m                        \u001b[49m\u001b[43mpass_fds\u001b[49m\u001b[43m,\u001b[49m\u001b[43m \u001b[49m\u001b[43mcwd\u001b[49m\u001b[43m,\u001b[49m\u001b[43m \u001b[49m\u001b[43menv\u001b[49m\u001b[43m,\u001b[49m\n\u001b[0;32m    949\u001b[0m \u001b[43m                        \u001b[49m\u001b[43mstartupinfo\u001b[49m\u001b[43m,\u001b[49m\u001b[43m \u001b[49m\u001b[43mcreationflags\u001b[49m\u001b[43m,\u001b[49m\u001b[43m \u001b[49m\u001b[43mshell\u001b[49m\u001b[43m,\u001b[49m\n\u001b[0;32m    950\u001b[0m \u001b[43m                        \u001b[49m\u001b[43mp2cread\u001b[49m\u001b[43m,\u001b[49m\u001b[43m \u001b[49m\u001b[43mp2cwrite\u001b[49m\u001b[43m,\u001b[49m\n\u001b[0;32m    951\u001b[0m \u001b[43m                        \u001b[49m\u001b[43mc2pread\u001b[49m\u001b[43m,\u001b[49m\u001b[43m \u001b[49m\u001b[43mc2pwrite\u001b[49m\u001b[43m,\u001b[49m\n\u001b[0;32m    952\u001b[0m \u001b[43m                        \u001b[49m\u001b[43merrread\u001b[49m\u001b[43m,\u001b[49m\u001b[43m \u001b[49m\u001b[43merrwrite\u001b[49m\u001b[43m,\u001b[49m\n\u001b[0;32m    953\u001b[0m \u001b[43m                        \u001b[49m\u001b[43mrestore_signals\u001b[49m\u001b[43m,\u001b[49m\n\u001b[0;32m    954\u001b[0m \u001b[43m                        \u001b[49m\u001b[43mgid\u001b[49m\u001b[43m,\u001b[49m\u001b[43m \u001b[49m\u001b[43mgids\u001b[49m\u001b[43m,\u001b[49m\u001b[43m \u001b[49m\u001b[43muid\u001b[49m\u001b[43m,\u001b[49m\u001b[43m \u001b[49m\u001b[43mumask\u001b[49m\u001b[43m,\u001b[49m\n\u001b[0;32m    955\u001b[0m \u001b[43m                        \u001b[49m\u001b[43mstart_new_session\u001b[49m\u001b[43m)\u001b[49m\n\u001b[0;32m    956\u001b[0m \u001b[38;5;28;01mexcept\u001b[39;00m:\n\u001b[0;32m    957\u001b[0m     \u001b[38;5;66;03m# Cleanup if the child failed starting.\u001b[39;00m\n\u001b[0;32m    958\u001b[0m     \u001b[38;5;28;01mfor\u001b[39;00m f \u001b[38;5;129;01min\u001b[39;00m \u001b[38;5;28mfilter\u001b[39m(\u001b[38;5;28;01mNone\u001b[39;00m, (\u001b[38;5;28mself\u001b[39m\u001b[38;5;241m.\u001b[39mstdin, \u001b[38;5;28mself\u001b[39m\u001b[38;5;241m.\u001b[39mstdout, \u001b[38;5;28mself\u001b[39m\u001b[38;5;241m.\u001b[39mstderr)):\n",
      "File \u001b[1;32m~\\Miniconda3\\envs\\geospatial_py39\\lib\\subprocess.py:1416\u001b[0m, in \u001b[0;36mPopen._execute_child\u001b[1;34m(self, args, executable, preexec_fn, close_fds, pass_fds, cwd, env, startupinfo, creationflags, shell, p2cread, p2cwrite, c2pread, c2pwrite, errread, errwrite, unused_restore_signals, unused_gid, unused_gids, unused_uid, unused_umask, unused_start_new_session)\u001b[0m\n\u001b[0;32m   1414\u001b[0m \u001b[38;5;66;03m# Start the process\u001b[39;00m\n\u001b[0;32m   1415\u001b[0m \u001b[38;5;28;01mtry\u001b[39;00m:\n\u001b[1;32m-> 1416\u001b[0m     hp, ht, pid, tid \u001b[38;5;241m=\u001b[39m \u001b[43m_winapi\u001b[49m\u001b[38;5;241;43m.\u001b[39;49m\u001b[43mCreateProcess\u001b[49m\u001b[43m(\u001b[49m\u001b[43mexecutable\u001b[49m\u001b[43m,\u001b[49m\u001b[43m \u001b[49m\u001b[43margs\u001b[49m\u001b[43m,\u001b[49m\n\u001b[0;32m   1417\u001b[0m \u001b[43m                             \u001b[49m\u001b[38;5;66;43;03m# no special security\u001b[39;49;00m\n\u001b[0;32m   1418\u001b[0m \u001b[43m                             \u001b[49m\u001b[38;5;28;43;01mNone\u001b[39;49;00m\u001b[43m,\u001b[49m\u001b[43m \u001b[49m\u001b[38;5;28;43;01mNone\u001b[39;49;00m\u001b[43m,\u001b[49m\n\u001b[0;32m   1419\u001b[0m \u001b[43m                             \u001b[49m\u001b[38;5;28;43mint\u001b[39;49m\u001b[43m(\u001b[49m\u001b[38;5;129;43;01mnot\u001b[39;49;00m\u001b[43m \u001b[49m\u001b[43mclose_fds\u001b[49m\u001b[43m)\u001b[49m\u001b[43m,\u001b[49m\n\u001b[0;32m   1420\u001b[0m \u001b[43m                             \u001b[49m\u001b[43mcreationflags\u001b[49m\u001b[43m,\u001b[49m\n\u001b[0;32m   1421\u001b[0m \u001b[43m                             \u001b[49m\u001b[43menv\u001b[49m\u001b[43m,\u001b[49m\n\u001b[0;32m   1422\u001b[0m \u001b[43m                             \u001b[49m\u001b[43mcwd\u001b[49m\u001b[43m,\u001b[49m\n\u001b[0;32m   1423\u001b[0m \u001b[43m                             \u001b[49m\u001b[43mstartupinfo\u001b[49m\u001b[43m)\u001b[49m\n\u001b[0;32m   1424\u001b[0m \u001b[38;5;28;01mfinally\u001b[39;00m:\n\u001b[0;32m   1425\u001b[0m     \u001b[38;5;66;03m# Child is launched. Close the parent's copy of those pipe\u001b[39;00m\n\u001b[0;32m   1426\u001b[0m     \u001b[38;5;66;03m# handles that only the child should have open.  You need\u001b[39;00m\n\u001b[1;32m   (...)\u001b[0m\n\u001b[0;32m   1429\u001b[0m     \u001b[38;5;66;03m# pipe will not close when the child process exits and the\u001b[39;00m\n\u001b[0;32m   1430\u001b[0m     \u001b[38;5;66;03m# ReadFile will hang.\u001b[39;00m\n\u001b[0;32m   1431\u001b[0m     \u001b[38;5;28mself\u001b[39m\u001b[38;5;241m.\u001b[39m_close_pipe_fds(p2cread, p2cwrite,\n\u001b[0;32m   1432\u001b[0m                          c2pread, c2pwrite,\n\u001b[0;32m   1433\u001b[0m                          errread, errwrite)\n",
      "\u001b[1;31mFileNotFoundError\u001b[0m: [WinError 2] The system cannot find the file specified"
     ]
    }
   ],
   "source": [
    "        filepath_gs = 'gs://eo-bathymetry-rws/maasvlakte/' + filename\n",
    "        \n",
    "        #gsutil = 'D:/src/google-cloud-sdk/bin/gsutil.cmd' # relative path is not defined on Windows\n",
    "        gsutil = 'gsutil'\n",
    "        cmd = gsutil + ' cp {0} {1}'\\\n",
    "            .format(filepath_tif, filepath_gs)\n",
    "        run(cmd)\n",
    "        \n",
    "        filepath_ee = ee_collection_path + '/' + filename        \n",
    "        cmd = 'earthengine upload image --wait --asset_id={0} --nodata_value={1} {2}'\\\n",
    "            .format(filepath_ee, nodata_value, filepath_gs)        \n",
    "        run(cmd)\n",
    "        \n",
    "        time_start = int(grids[0]['times'][0].timestamp() * 1000)\n",
    "        cmd = 'earthengine asset set --time_start {0} {1}'\\\n",
    "            .format(time_start, filepath_ee)\n",
    "        run(cmd)\n",
    "\n",
    "        cmd = 'earthengine acl set public {0}'\\\n",
    "            .format(filepath_ee)\n",
    "        run(cmd)\n"
   ]
  },
  {
   "cell_type": "code",
   "execution_count": null,
   "metadata": {},
   "outputs": [],
   "source": []
  }
 ],
 "metadata": {
  "anaconda-cloud": {},
  "kernelspec": {
   "display_name": "Python 3 (ipykernel)",
   "language": "python",
   "name": "python3"
  },
  "language_info": {
   "codemirror_mode": {
    "name": "ipython",
    "version": 3
   },
   "file_extension": ".py",
   "mimetype": "text/x-python",
   "name": "python",
   "nbconvert_exporter": "python",
   "pygments_lexer": "ipython3",
   "version": "3.9.0"
  }
 },
 "nbformat": 4,
 "nbformat_minor": 2
}
